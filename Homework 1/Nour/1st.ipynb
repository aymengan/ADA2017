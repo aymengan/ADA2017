{
 "cells": [
  {
   "cell_type": "code",
   "execution_count": 14,
   "metadata": {
    "collapsed": true
   },
   "outputs": [],
   "source": [
    "import os \n",
    "import pandas as pd\n",
    "import numpy as np\n",
    "import matplotlib.pyplot as plt\n",
    "import seaborn as sns\n",
    "import glob \n",
    "% matplotlib inline\n",
    "sns.set_context('notebook')"
   ]
  },
  {
   "cell_type": "code",
   "execution_count": 15,
   "metadata": {
    "collapsed": false
   },
   "outputs": [],
   "source": [
    "os.chdir(\"/Users/nourghaliaabassi/Desktop/ada/ADA2017-Tutorials/02 - Intro to Pandas/Data/ebola/guinea_data/\")"
   ]
  },
  {
   "cell_type": "code",
   "execution_count": 16,
   "metadata": {
    "collapsed": false
   },
   "outputs": [],
   "source": [
    "tab = os.listdir()[1::]\n",
    "guinea_data = pd.read_csv(\"/Users/nourghaliaabassi/Desktop/ada/ADA2017-Tutorials/02 - Intro to Pandas/Data/ebola/guinea_data/2014-08-04.csv\",parse_dates=['Date'])\n",
    "string = \"/Users/nourghaliaabassi/Desktop/ada/ADA2017-Tutorials/02 - Intro to Pandas/Data/ebola/guinea_data/\"\n",
    "#guinea_data\n",
    "#nchouf = []\n",
    "#i = 0\n",
    "\n"
   ]
  },
  {
   "cell_type": "code",
   "execution_count": 31,
   "metadata": {
    "collapsed": false,
    "scrolled": false
   },
   "outputs": [],
   "source": [
    "for file in (tab):\n",
    "    val = string\n",
    "    #nchouf.append(pd.read_csv(val+file))\n",
    "    guinea_data = guinea_data.merge(right=pd.read_csv(val+file, parse_dates = ['Date']), how = 'outer')\n",
    "#nchouf[0]\n",
    "filtered_data_new_cases = guinea_data.loc[guinea_data['Description'].apply(func=lambda x: ('new cases' in x.lower() ) and 'total' not in x.lower()),:]\n",
    "filtered_data_new_deaths = guinea_data.loc[guinea_data['Description'].apply(func=lambda x: ( 'new deaths' in x.lower() ) and 'total' not in x.lower()),:]\n"
   ]
  },
  {
   "cell_type": "code",
   "execution_count": 34,
   "metadata": {
    "collapsed": false
   },
   "outputs": [
    {
     "name": "stderr",
     "output_type": "stream",
     "text": [
      "/Users/nourghaliaabassi/anaconda/lib/python3.5/site-packages/ipykernel/__main__.py:3: SettingWithCopyWarning: \n",
      "A value is trying to be set on a copy of a slice from a DataFrame.\n",
      "Try using .loc[row_indexer,col_indexer] = value instead\n",
      "\n",
      "See the caveats in the documentation: http://pandas.pydata.org/pandas-docs/stable/indexing.html#indexing-view-versus-copy\n",
      "  app.launch_new_instance()\n",
      "/Users/nourghaliaabassi/anaconda/lib/python3.5/site-packages/ipykernel/__main__.py:5: SettingWithCopyWarning: \n",
      "A value is trying to be set on a copy of a slice from a DataFrame.\n",
      "Try using .loc[row_indexer,col_indexer] = value instead\n",
      "\n",
      "See the caveats in the documentation: http://pandas.pydata.org/pandas-docs/stable/indexing.html#indexing-view-versus-copy\n"
     ]
    }
   ],
   "source": [
    "\n",
    "for elem in filtered_data_new_cases.columns[2:]:\n",
    "    filtered_data_new_cases [elem] = (pd.to_numeric(filtered_data_new_cases[elem]))\n",
    "for elem in filtered_data_new_deaths.columns[2:]:\n",
    "    filtered_data_new_deaths [elem] = (pd.to_numeric(filtered_data_new_deaths[elem]))"
   ]
  },
  {
   "cell_type": "code",
   "execution_count": null,
   "metadata": {
    "collapsed": false
   },
   "outputs": [],
   "source": [
    "num_dates = filtered_data_new_cases.groupby(filtered_data_new_cases ['Date'].dt.strftime('%B')).Date.nunique()\n",
    "i = 0\n",
    "mean_new_cases = filtered_data_new_cases.groupby(filtered_data_new_cases ['Date'].dt.strftime('%B'))['Totals'].sum()\n",
    "mean_new_death = filtered_data_new_deaths.groupby(filtered_data_new_deaths ['Date'].dt.strftime('%B'))['Totals'].sum()\n",
    "for elem in A:\n",
    "    mean_new_cases[i]= mean_new_cases[i]/num_dates[i]\n",
    "    mean_new_death[i] = mean_new_death[i]/num_dates[i]\n",
    "    i = i + 1\n"
   ]
  },
  {
   "cell_type": "code",
   "execution_count": null,
   "metadata": {
    "collapsed": false
   },
   "outputs": [],
   "source": [
    "gp_filtered_data = filtered_data.groupby(filtered_data['Date'].dt.strftime('%B'))['Totals']"
   ]
  },
  {
   "cell_type": "code",
   "execution_count": null,
   "metadata": {
    "collapsed": false
   },
   "outputs": [],
   "source": [
    "print(mean_new_cases)"
   ]
  },
  {
   "cell_type": "code",
   "execution_count": null,
   "metadata": {
    "collapsed": false
   },
   "outputs": [],
   "source": [
    "str(3)"
   ]
  },
  {
   "cell_type": "code",
   "execution_count": 25,
   "metadata": {
    "collapsed": false
   },
   "outputs": [
    {
     "data": {
      "text/html": [
       "<div>\n",
       "<table border=\"1\" class=\"dataframe\">\n",
       "  <thead>\n",
       "    <tr style=\"text-align: right;\">\n",
       "      <th></th>\n",
       "      <th>sum</th>\n",
       "      <th>count</th>\n",
       "      <th>mean</th>\n",
       "    </tr>\n",
       "    <tr>\n",
       "      <th>Date</th>\n",
       "      <th></th>\n",
       "      <th></th>\n",
       "      <th></th>\n",
       "    </tr>\n",
       "  </thead>\n",
       "  <tbody>\n",
       "    <tr>\n",
       "      <th>6</th>\n",
       "      <td>50.0</td>\n",
       "      <td>21</td>\n",
       "      <td>2.380952</td>\n",
       "    </tr>\n",
       "    <tr>\n",
       "      <th>7</th>\n",
       "      <td>120.0</td>\n",
       "      <td>33</td>\n",
       "      <td>3.636364</td>\n",
       "    </tr>\n",
       "    <tr>\n",
       "      <th>8</th>\n",
       "      <td>454.0</td>\n",
       "      <td>27</td>\n",
       "      <td>16.814815</td>\n",
       "    </tr>\n",
       "    <tr>\n",
       "      <th>9</th>\n",
       "      <td>1828.0</td>\n",
       "      <td>72</td>\n",
       "      <td>25.388889</td>\n",
       "    </tr>\n",
       "    <tr>\n",
       "      <th>10</th>\n",
       "      <td>1443.0</td>\n",
       "      <td>75</td>\n",
       "      <td>19.240000</td>\n",
       "    </tr>\n",
       "    <tr>\n",
       "      <th>11</th>\n",
       "      <td>417.0</td>\n",
       "      <td>45</td>\n",
       "      <td>9.266667</td>\n",
       "    </tr>\n",
       "    <tr>\n",
       "      <th>12</th>\n",
       "      <td>2.0</td>\n",
       "      <td>27</td>\n",
       "      <td>0.074074</td>\n",
       "    </tr>\n",
       "  </tbody>\n",
       "</table>\n",
       "</div>"
      ],
      "text/plain": [
       "         sum  count       mean\n",
       "Date                          \n",
       "6       50.0     21   2.380952\n",
       "7      120.0     33   3.636364\n",
       "8      454.0     27  16.814815\n",
       "9     1828.0     72  25.388889\n",
       "10    1443.0     75  19.240000\n",
       "11     417.0     45   9.266667\n",
       "12       2.0     27   0.074074"
      ]
     },
     "execution_count": 25,
     "metadata": {},
     "output_type": "execute_result"
    }
   ],
   "source": [
    "\n",
    "liberia_folder = '/Users/nourghaliaabassi/Desktop/ada/ADA2017-Tutorials/02 - Intro to Pandas/Data/ebola/liberia_data'\n",
    "all_files_liberia = glob.glob(liberia_folder + \"/*.csv\")\n",
    "\n",
    "frame_l = pd.DataFrame()\n",
    "list_l= []\n",
    "for file_ in all_files_liberia:\n",
    "    data = pd.read_csv(file_,parse_dates=['Date'], header=0)\n",
    "    list_l.append(data)\n",
    "frame_l = pd.concat(list_l)\n",
    "filtered_l = frame_l.loc[frame_l['Variable'].apply(func=lambda x: ('cases' in x.lower() or 'deaths' in x.lower()) and ('total'and'cumulative'and'probable') not in x.lower()),:]\n",
    "liberia_data = filtered_l[['Date','Variable']]\n",
    "liberia_data\n",
    "frame_l['Total'] = frame_l.sum(axis=1)\n",
    "filtered_l = frame_l.loc[frame_l['Variable'].apply(func=lambda x: ('cases' in x.lower() or 'deaths' in x.lower()) and ('total') not in x.lower() and ('probable') not in x.lower() and ('cumulative') not in x.lower()),:]\n",
    "filtered_l\n",
    "liberia_data = filtered_l[['Date','Variable','Total']]\n",
    "liberia_data['Total'].groupby([liberia_data.Date.dt.month]).agg(['sum','count','mean'])"
   ]
  },
  {
   "cell_type": "code",
   "execution_count": null,
   "metadata": {
    "collapsed": false
   },
   "outputs": [],
   "source": []
  },
  {
   "cell_type": "code",
   "execution_count": null,
   "metadata": {
    "collapsed": false
   },
   "outputs": [],
   "source": []
  },
  {
   "cell_type": "code",
   "execution_count": null,
   "metadata": {
    "collapsed": true
   },
   "outputs": [],
   "source": [
    "filtered_l2 = filtered_l[['date','variable']]"
   ]
  },
  {
   "cell_type": "code",
   "execution_count": null,
   "metadata": {
    "collapsed": false
   },
   "outputs": [],
   "source": [
    "filtered_ltmp = frame_l.loc[frame_l['variable'].apply(func=lambda x: ('deaths' in x.lower() or ('cum') in x.lower()) and ('suspected') not in x.lower()and ('noncase') not in x.lower() and ('followed') not in x.lower()and ('probable') not in x.lower()and ('discharges') not in x.lower() and 'new_negative' not in x.lower() and 'new_samples' not in x.lower() and 'new_contacts' not in x.lower() and 'cum_contacts' not in x.lower() and 'new_deaths' not in x.lower()),:]"
   ]
  },
  {
   "cell_type": "code",
   "execution_count": 24,
   "metadata": {
    "collapsed": false
   },
   "outputs": [
    {
     "ename": "NameError",
     "evalue": "name 'filtered_ltmp' is not defined",
     "output_type": "error",
     "traceback": [
      "\u001b[0;31m---------------------------------------------------------------------------\u001b[0m",
      "\u001b[0;31mNameError\u001b[0m                                 Traceback (most recent call last)",
      "\u001b[0;32m<ipython-input-24-4ab5395212bc>\u001b[0m in \u001b[0;36m<module>\u001b[0;34m()\u001b[0m\n\u001b[0;32m----> 1\u001b[0;31m \u001b[0mfiltered_l3\u001b[0m \u001b[0;34m=\u001b[0m \u001b[0mfiltered_ltmp\u001b[0m\u001b[0;34m[\u001b[0m\u001b[0;34m[\u001b[0m\u001b[0;34m'date'\u001b[0m\u001b[0;34m,\u001b[0m\u001b[0;34m'variable'\u001b[0m\u001b[0;34m]\u001b[0m\u001b[0;34m]\u001b[0m\u001b[0;34m\u001b[0m\u001b[0m\n\u001b[0m\u001b[1;32m      2\u001b[0m \u001b[0mfiltered_l3\u001b[0m\u001b[0;34m\u001b[0m\u001b[0m\n",
      "\u001b[0;31mNameError\u001b[0m: name 'filtered_ltmp' is not defined"
     ]
    }
   ],
   "source": [
    "filtered_l3 = filtered_ltmp[['date','variable']]\n",
    "filtered_l3"
   ]
  },
  {
   "cell_type": "code",
   "execution_count": null,
   "metadata": {
    "collapsed": true
   },
   "outputs": [],
   "source": []
  }
 ],
 "metadata": {
  "anaconda-cloud": {},
  "kernelspec": {
   "display_name": "Python [conda root]",
   "language": "python",
   "name": "conda-root-py"
  },
  "language_info": {
   "codemirror_mode": {
    "name": "ipython",
    "version": 3
   },
   "file_extension": ".py",
   "mimetype": "text/x-python",
   "name": "python",
   "nbconvert_exporter": "python",
   "pygments_lexer": "ipython3",
   "version": "3.5.3"
  }
 },
 "nbformat": 4,
 "nbformat_minor": 1
}
