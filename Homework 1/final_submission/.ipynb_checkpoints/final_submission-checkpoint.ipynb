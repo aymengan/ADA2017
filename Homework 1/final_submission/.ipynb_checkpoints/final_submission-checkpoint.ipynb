{
 "cells": [
  {
   "cell_type": "markdown",
   "metadata": {},
   "source": [
    "# Task.1 Compiling Ebola Data\n",
    "\n",
    "In this task our goal is to calculate the daily average of new cases and deaths per month in three african countries(Guinea, Liberaia and Serra Leone) during the ebola outbreak in 2014.\n",
    "\n",
    "To solve this task we firstly collect the data for each country in a single DataFrame and then clean this to calulate the daily average per month"
   ]
  },
  {
   "cell_type": "code",
   "execution_count": 166,
   "metadata": {
    "collapsed": true
   },
   "outputs": [],
   "source": [
    "import pandas as pd\n",
    "import numpy as np\n",
    "import glob"
   ]
  },
  {
   "cell_type": "code",
   "execution_count": 167,
   "metadata": {
    "collapsed": true
   },
   "outputs": [],
   "source": [
    "#After importing the needed libraries, we save the paths to the data for future fetching\n",
    "guinea_folder = r'C:\\Users\\User\\git\\ADA2017-Tutorials\\02 - Intro to Pandas\\Data\\ebola\\guinea_data'\n",
    "liberia_folder = r'C:\\Users\\User\\git\\ADA2017-Tutorials\\02 - Intro to Pandas\\Data\\ebola\\liberia_data'\n",
    "sl_folder = r'C:\\Users\\User\\git\\ADA2017-Tutorials\\02 - Intro to Pandas\\Data\\ebola\\sl_data'\n",
    "all_files_guinea = glob.glob(guinea_folder + \"/*.csv\")\n",
    "all_files_liberia = glob.glob(liberia_folder + \"/*.csv\")\n",
    "all_files_sl= glob.glob(sl_folder+\"\\*.csv\")"
   ]
  },
  {
   "cell_type": "markdown",
   "metadata": {},
   "source": [
    "### Guinea- Daily average per month of deaths and new cases"
   ]
  },
  {
   "cell_type": "code",
   "execution_count": 168,
   "metadata": {
    "collapsed": true
   },
   "outputs": [],
   "source": [
    "# Fetch all the csv files contained in the guinea-folder\n",
    "# and join these in a new pre-created DataFrame\n",
    "frame_g = pd.DataFrame()\n",
    "list_g= []\n",
    "for file_ in all_files_guinea:\n",
    "    data = pd.read_csv(file_,parse_dates=['Date'], header=0)\n",
    "    list_g.append(data)\n",
    "frame_g = pd.concat(list_g)"
   ]
  },
  {
   "cell_type": "code",
   "execution_count": 169,
   "metadata": {
    "collapsed": true
   },
   "outputs": [],
   "source": [
    "# Filter the values contained in the frame by extracting the rows that\n",
    "# contain new cases and new deaths while excluding any row that contains total values\n",
    "filtered_data = frame_g.loc[frame_g['Description'].apply(func=lambda x: ('new cases' in x.lower() or 'new deaths' in x.lower()) and 'total' not in x.lower() and 'workers' not in x.lower() and 'today' not in x.lower()),:]"
   ]
  },
  {
   "cell_type": "code",
   "execution_count": 170,
   "metadata": {
    "collapsed": true
   },
   "outputs": [],
   "source": [
    "# Extract the columns Date, Description and Totals for further analysis\n",
    "guinea_data = filtered_data[['Date','Description','Totals']]"
   ]
  },
  {
   "cell_type": "code",
   "execution_count": 171,
   "metadata": {
    "collapsed": true
   },
   "outputs": [],
   "source": [
    "# Eliminate the NaN values \n",
    "guinea_data = guinea_data.dropna()"
   ]
  },
  {
   "cell_type": "code",
   "execution_count": 172,
   "metadata": {
    "collapsed": true
   },
   "outputs": [],
   "source": [
    "# Convert the attribute Totals from data type object to a numeric(integer)\n",
    "guinea_data['Totals'] = guinea_data['Totals'].apply(pd.to_numeric, errors='coerce') "
   ]
  },
  {
   "cell_type": "code",
   "execution_count": 173,
   "metadata": {
    "collapsed": false
   },
   "outputs": [
    {
     "data": {
      "text/html": [
       "<div>\n",
       "<style>\n",
       "    .dataframe thead tr:only-child th {\n",
       "        text-align: right;\n",
       "    }\n",
       "\n",
       "    .dataframe thead th {\n",
       "        text-align: left;\n",
       "    }\n",
       "\n",
       "    .dataframe tbody tr th {\n",
       "        vertical-align: top;\n",
       "    }\n",
       "</style>\n",
       "<table border=\"1\" class=\"dataframe\">\n",
       "  <thead>\n",
       "    <tr style=\"text-align: right;\">\n",
       "      <th></th>\n",
       "      <th></th>\n",
       "      <th>sum</th>\n",
       "      <th>count</th>\n",
       "      <th>mean</th>\n",
       "    </tr>\n",
       "    <tr>\n",
       "      <th>Date</th>\n",
       "      <th>Description</th>\n",
       "      <th></th>\n",
       "      <th></th>\n",
       "      <th></th>\n",
       "    </tr>\n",
       "  </thead>\n",
       "  <tbody>\n",
       "    <tr>\n",
       "      <th rowspan=\"4\" valign=\"top\">8</th>\n",
       "      <th>New cases of confirmed</th>\n",
       "      <td>62</td>\n",
       "      <td>5</td>\n",
       "      <td>12.4000</td>\n",
       "    </tr>\n",
       "    <tr>\n",
       "      <th>New cases of probables</th>\n",
       "      <td>8</td>\n",
       "      <td>4</td>\n",
       "      <td>2.0000</td>\n",
       "    </tr>\n",
       "    <tr>\n",
       "      <th>New cases of suspects</th>\n",
       "      <td>59</td>\n",
       "      <td>5</td>\n",
       "      <td>11.8000</td>\n",
       "    </tr>\n",
       "    <tr>\n",
       "      <th>New deaths registered</th>\n",
       "      <td>15</td>\n",
       "      <td>4</td>\n",
       "      <td>3.7500</td>\n",
       "    </tr>\n",
       "    <tr>\n",
       "      <th rowspan=\"4\" valign=\"top\">9</th>\n",
       "      <th>New cases of confirmed</th>\n",
       "      <td>208</td>\n",
       "      <td>16</td>\n",
       "      <td>13.0000</td>\n",
       "    </tr>\n",
       "    <tr>\n",
       "      <th>New cases of probables</th>\n",
       "      <td>19</td>\n",
       "      <td>16</td>\n",
       "      <td>1.1875</td>\n",
       "    </tr>\n",
       "    <tr>\n",
       "      <th>New cases of suspects</th>\n",
       "      <td>87</td>\n",
       "      <td>16</td>\n",
       "      <td>5.4375</td>\n",
       "    </tr>\n",
       "    <tr>\n",
       "      <th>New deaths registered</th>\n",
       "      <td>57</td>\n",
       "      <td>16</td>\n",
       "      <td>3.5625</td>\n",
       "    </tr>\n",
       "    <tr>\n",
       "      <th rowspan=\"4\" valign=\"top\">10</th>\n",
       "      <th>New cases of confirmed</th>\n",
       "      <td>6</td>\n",
       "      <td>1</td>\n",
       "      <td>6.0000</td>\n",
       "    </tr>\n",
       "    <tr>\n",
       "      <th>New cases of probables</th>\n",
       "      <td>0</td>\n",
       "      <td>1</td>\n",
       "      <td>0.0000</td>\n",
       "    </tr>\n",
       "    <tr>\n",
       "      <th>New cases of suspects</th>\n",
       "      <td>28</td>\n",
       "      <td>1</td>\n",
       "      <td>28.0000</td>\n",
       "    </tr>\n",
       "    <tr>\n",
       "      <th>New deaths registered</th>\n",
       "      <td>15</td>\n",
       "      <td>1</td>\n",
       "      <td>15.0000</td>\n",
       "    </tr>\n",
       "  </tbody>\n",
       "</table>\n",
       "</div>"
      ],
      "text/plain": [
       "                             sum  count     mean\n",
       "Date Description                                \n",
       "8    New cases of confirmed   62      5  12.4000\n",
       "     New cases of probables    8      4   2.0000\n",
       "     New cases of suspects    59      5  11.8000\n",
       "     New deaths registered    15      4   3.7500\n",
       "9    New cases of confirmed  208     16  13.0000\n",
       "     New cases of probables   19     16   1.1875\n",
       "     New cases of suspects    87     16   5.4375\n",
       "     New deaths registered    57     16   3.5625\n",
       "10   New cases of confirmed    6      1   6.0000\n",
       "     New cases of probables    0      1   0.0000\n",
       "     New cases of suspects    28      1  28.0000\n",
       "     New deaths registered    15      1  15.0000"
      ]
     },
     "execution_count": 173,
     "metadata": {},
     "output_type": "execute_result"
    }
   ],
   "source": [
    "# Group the Totals by months and calculate the mean based on the number of days within a month as contained in the dataset\n",
    "guinea_data['Totals'].groupby([guinea_data.Date.dt.month,guinea_data.Description]).agg(['sum','count','mean'])"
   ]
  },
  {
   "cell_type": "markdown",
   "metadata": {},
   "source": [
    "### Liberia- Daily average per month of deaths and new cases"
   ]
  },
  {
   "cell_type": "code",
   "execution_count": 174,
   "metadata": {
    "collapsed": true
   },
   "outputs": [],
   "source": [
    "frame_l = pd.DataFrame()\n",
    "list_l= []\n",
    "for file_ in all_files_liberia:\n",
    "    data = pd.read_csv(file_,parse_dates=['Date'], header=0)\n",
    "    list_l.append(data)\n",
    "frame_l = pd.concat(list_l)"
   ]
  },
  {
   "cell_type": "code",
   "execution_count": 175,
   "metadata": {
    "collapsed": true
   },
   "outputs": [],
   "source": [
    "# Filter the values contained in the frame by extracting the rows that\n",
    "# contain new cases and new deaths while excluding any row that contains total values\n",
    "filtered_l = frame_l.loc[frame_l['Variable'].apply(func=lambda x: ('probable' in x.lower() or 'case' in x.lower() or 'deaths' in x.lower()) and ('total') not in x.lower()  and ('cumulative') not in x.lower() and ('hcw') not in x.lower() and ('cfr') not in x.lower()),:]"
   ]
  },
  {
   "cell_type": "code",
   "execution_count": 176,
   "metadata": {
    "collapsed": true
   },
   "outputs": [],
   "source": [
    "# Extract the columns Date, Variable and National for further analysis\n",
    "liberia_data = filtered_l[['Date','Variable','National']]"
   ]
  },
  {
   "cell_type": "code",
   "execution_count": 177,
   "metadata": {
    "collapsed": true
   },
   "outputs": [],
   "source": [
    "# Eliminate NaN values\n",
    "liberia_data = liberia_data.dropna()"
   ]
  },
  {
   "cell_type": "code",
   "execution_count": 184,
   "metadata": {
    "collapsed": false
   },
   "outputs": [
    {
     "data": {
      "text/html": [
       "<div>\n",
       "<style>\n",
       "    .dataframe thead tr:only-child th {\n",
       "        text-align: right;\n",
       "    }\n",
       "\n",
       "    .dataframe thead th {\n",
       "        text-align: left;\n",
       "    }\n",
       "\n",
       "    .dataframe tbody tr th {\n",
       "        vertical-align: top;\n",
       "    }\n",
       "</style>\n",
       "<table border=\"1\" class=\"dataframe\">\n",
       "  <thead>\n",
       "    <tr style=\"text-align: right;\">\n",
       "      <th></th>\n",
       "      <th></th>\n",
       "      <th>sum</th>\n",
       "      <th>count</th>\n",
       "      <th>mean</th>\n",
       "    </tr>\n",
       "    <tr>\n",
       "      <th>Date</th>\n",
       "      <th>Variable</th>\n",
       "      <th></th>\n",
       "      <th></th>\n",
       "      <th></th>\n",
       "    </tr>\n",
       "  </thead>\n",
       "  <tbody>\n",
       "    <tr>\n",
       "      <th rowspan=\"4\" valign=\"top\">6</th>\n",
       "      <th>New Case/s (Probable)</th>\n",
       "      <td>8.0</td>\n",
       "      <td>7</td>\n",
       "      <td>1.142857</td>\n",
       "    </tr>\n",
       "    <tr>\n",
       "      <th>New Case/s (Suspected)</th>\n",
       "      <td>17.0</td>\n",
       "      <td>7</td>\n",
       "      <td>2.428571</td>\n",
       "    </tr>\n",
       "    <tr>\n",
       "      <th>New case/s (confirmed)</th>\n",
       "      <td>15.0</td>\n",
       "      <td>7</td>\n",
       "      <td>2.142857</td>\n",
       "    </tr>\n",
       "    <tr>\n",
       "      <th>Newly reported deaths</th>\n",
       "      <td>14.0</td>\n",
       "      <td>7</td>\n",
       "      <td>2.000000</td>\n",
       "    </tr>\n",
       "    <tr>\n",
       "      <th rowspan=\"4\" valign=\"top\">7</th>\n",
       "      <th>New Case/s (Probable)</th>\n",
       "      <td>41.0</td>\n",
       "      <td>11</td>\n",
       "      <td>3.727273</td>\n",
       "    </tr>\n",
       "    <tr>\n",
       "      <th>New Case/s (Suspected)</th>\n",
       "      <td>33.0</td>\n",
       "      <td>11</td>\n",
       "      <td>3.000000</td>\n",
       "    </tr>\n",
       "    <tr>\n",
       "      <th>New case/s (confirmed)</th>\n",
       "      <td>20.0</td>\n",
       "      <td>11</td>\n",
       "      <td>1.818182</td>\n",
       "    </tr>\n",
       "    <tr>\n",
       "      <th>Newly reported deaths</th>\n",
       "      <td>47.0</td>\n",
       "      <td>11</td>\n",
       "      <td>4.272727</td>\n",
       "    </tr>\n",
       "    <tr>\n",
       "      <th rowspan=\"4\" valign=\"top\">8</th>\n",
       "      <th>New Case/s (Probable)</th>\n",
       "      <td>178.0</td>\n",
       "      <td>9</td>\n",
       "      <td>19.777778</td>\n",
       "    </tr>\n",
       "    <tr>\n",
       "      <th>New Case/s (Suspected)</th>\n",
       "      <td>108.0</td>\n",
       "      <td>9</td>\n",
       "      <td>12.000000</td>\n",
       "    </tr>\n",
       "    <tr>\n",
       "      <th>New case/s (confirmed)</th>\n",
       "      <td>49.0</td>\n",
       "      <td>9</td>\n",
       "      <td>5.444444</td>\n",
       "    </tr>\n",
       "    <tr>\n",
       "      <th>Newly reported deaths</th>\n",
       "      <td>209.0</td>\n",
       "      <td>9</td>\n",
       "      <td>23.222222</td>\n",
       "    </tr>\n",
       "    <tr>\n",
       "      <th rowspan=\"4\" valign=\"top\">9</th>\n",
       "      <th>New Case/s (Probable)</th>\n",
       "      <td>704.0</td>\n",
       "      <td>24</td>\n",
       "      <td>29.333333</td>\n",
       "    </tr>\n",
       "    <tr>\n",
       "      <th>New Case/s (Suspected)</th>\n",
       "      <td>680.0</td>\n",
       "      <td>24</td>\n",
       "      <td>28.333333</td>\n",
       "    </tr>\n",
       "    <tr>\n",
       "      <th>New case/s (confirmed)</th>\n",
       "      <td>148.0</td>\n",
       "      <td>24</td>\n",
       "      <td>6.166667</td>\n",
       "    </tr>\n",
       "    <tr>\n",
       "      <th>Newly reported deaths</th>\n",
       "      <td>865.0</td>\n",
       "      <td>23</td>\n",
       "      <td>37.608696</td>\n",
       "    </tr>\n",
       "    <tr>\n",
       "      <th rowspan=\"4\" valign=\"top\">10</th>\n",
       "      <th>New Case/s (Probable)</th>\n",
       "      <td>444.0</td>\n",
       "      <td>25</td>\n",
       "      <td>17.760000</td>\n",
       "    </tr>\n",
       "    <tr>\n",
       "      <th>New Case/s (Suspected)</th>\n",
       "      <td>661.0</td>\n",
       "      <td>25</td>\n",
       "      <td>26.440000</td>\n",
       "    </tr>\n",
       "    <tr>\n",
       "      <th>New case/s (confirmed)</th>\n",
       "      <td>34.0</td>\n",
       "      <td>21</td>\n",
       "      <td>1.619048</td>\n",
       "    </tr>\n",
       "    <tr>\n",
       "      <th>Newly reported deaths</th>\n",
       "      <td>701.0</td>\n",
       "      <td>25</td>\n",
       "      <td>28.040000</td>\n",
       "    </tr>\n",
       "    <tr>\n",
       "      <th rowspan=\"4\" valign=\"top\">11</th>\n",
       "      <th>New Case/s (Probable)</th>\n",
       "      <td>105.0</td>\n",
       "      <td>13</td>\n",
       "      <td>8.076923</td>\n",
       "    </tr>\n",
       "    <tr>\n",
       "      <th>New Case/s (Suspected)</th>\n",
       "      <td>253.0</td>\n",
       "      <td>13</td>\n",
       "      <td>19.461538</td>\n",
       "    </tr>\n",
       "    <tr>\n",
       "      <th>New case/s (confirmed)</th>\n",
       "      <td>39.0</td>\n",
       "      <td>5</td>\n",
       "      <td>7.800000</td>\n",
       "    </tr>\n",
       "    <tr>\n",
       "      <th>Newly reported deaths</th>\n",
       "      <td>202.0</td>\n",
       "      <td>13</td>\n",
       "      <td>15.538462</td>\n",
       "    </tr>\n",
       "    <tr>\n",
       "      <th rowspan=\"3\" valign=\"top\">12</th>\n",
       "      <th>New Case/s (Probable)</th>\n",
       "      <td>10872.0</td>\n",
       "      <td>8</td>\n",
       "      <td>1359.000000</td>\n",
       "    </tr>\n",
       "    <tr>\n",
       "      <th>New Case/s (Suspected)</th>\n",
       "      <td>18380.0</td>\n",
       "      <td>8</td>\n",
       "      <td>2297.500000</td>\n",
       "    </tr>\n",
       "    <tr>\n",
       "      <th>New case/s (confirmed)</th>\n",
       "      <td>17355.0</td>\n",
       "      <td>8</td>\n",
       "      <td>2169.375000</td>\n",
       "    </tr>\n",
       "  </tbody>\n",
       "</table>\n",
       "</div>"
      ],
      "text/plain": [
       "                                 sum  count         mean\n",
       "Date Variable                                           \n",
       "6    New Case/s (Probable)       8.0      7     1.142857\n",
       "     New Case/s (Suspected)     17.0      7     2.428571\n",
       "     New case/s (confirmed)     15.0      7     2.142857\n",
       "     Newly reported deaths      14.0      7     2.000000\n",
       "7    New Case/s (Probable)      41.0     11     3.727273\n",
       "     New Case/s (Suspected)     33.0     11     3.000000\n",
       "     New case/s (confirmed)     20.0     11     1.818182\n",
       "     Newly reported deaths      47.0     11     4.272727\n",
       "8    New Case/s (Probable)     178.0      9    19.777778\n",
       "     New Case/s (Suspected)    108.0      9    12.000000\n",
       "     New case/s (confirmed)     49.0      9     5.444444\n",
       "     Newly reported deaths     209.0      9    23.222222\n",
       "9    New Case/s (Probable)     704.0     24    29.333333\n",
       "     New Case/s (Suspected)    680.0     24    28.333333\n",
       "     New case/s (confirmed)    148.0     24     6.166667\n",
       "     Newly reported deaths     865.0     23    37.608696\n",
       "10   New Case/s (Probable)     444.0     25    17.760000\n",
       "     New Case/s (Suspected)    661.0     25    26.440000\n",
       "     New case/s (confirmed)     34.0     21     1.619048\n",
       "     Newly reported deaths     701.0     25    28.040000\n",
       "11   New Case/s (Probable)     105.0     13     8.076923\n",
       "     New Case/s (Suspected)    253.0     13    19.461538\n",
       "     New case/s (confirmed)     39.0      5     7.800000\n",
       "     Newly reported deaths     202.0     13    15.538462\n",
       "12   New Case/s (Probable)   10872.0      8  1359.000000\n",
       "     New Case/s (Suspected)  18380.0      8  2297.500000\n",
       "     New case/s (confirmed)  17355.0      8  2169.375000"
      ]
     },
     "execution_count": 184,
     "metadata": {},
     "output_type": "execute_result"
    }
   ],
   "source": [
    "# Group the total national values by months and calculate the mean based on the number of days within a month as contained in the dataset\n",
    "liberia_data['National'].groupby([liberia_data.Date.dt.month,liberia_data.Variable]).agg(['sum','count','mean'])"
   ]
  },
  {
   "cell_type": "markdown",
   "metadata": {},
   "source": [
    "### Serra Leone- Daily average per month of deaths and new cases"
   ]
  },
  {
   "cell_type": "code",
   "execution_count": 179,
   "metadata": {
    "collapsed": true
   },
   "outputs": [],
   "source": [
    "# Fetch all the csv files contained in the guinea-folder\n",
    "# and join these in a new pre-created DataFrame\n",
    "frame_s = pd.DataFrame()\n",
    "list_s= []\n",
    "for file_ in all_files_sl:\n",
    "    data = pd.read_csv(file_,parse_dates=['date'], header=0)\n",
    "    list_s.append(data)\n",
    "frame_s = pd.concat(list_s)"
   ]
  },
  {
   "cell_type": "code",
   "execution_count": 180,
   "metadata": {
    "collapsed": true
   },
   "outputs": [],
   "source": [
    "# Filter the values contained in the frame by extracting the rows that\n",
    "# contain new cases and new deaths while excluding any row that contains total, or unwanted values\n",
    "filtered_s = frame_s.loc[frame_s['variable'].apply(func=lambda x: ('new' in x.lower() or 'death' in x.lower()) and ('cum') not in x.lower() and ('contacts') not in x.lower()and ('noncase') not in x.lower() and ('negative') not in x.lower() and ('discharges') not in x.lower() and ('samples') not in x.lower() and ('etc') not in x.lower()  and ('admission') not in x.lower()),:]"
   ]
  },
  {
   "cell_type": "code",
   "execution_count": 181,
   "metadata": {
    "collapsed": false
   },
   "outputs": [
    {
     "name": "stderr",
     "output_type": "stream",
     "text": [
      "C:\\Users\\User\\Anaconda3\\lib\\site-packages\\ipykernel\\__main__.py:1: SettingWithCopyWarning: \n",
      "A value is trying to be set on a copy of a slice from a DataFrame.\n",
      "Try using .loc[row_indexer,col_indexer] = value instead\n",
      "\n",
      "See the caveats in the documentation: http://pandas.pydata.org/pandas-docs/stable/indexing.html#indexing-view-versus-copy\n",
      "  if __name__ == '__main__':\n"
     ]
    }
   ],
   "source": [
    "# Convert National datatype from object to a numeric datatype(float64)\n",
    "filtered_s['National'] = filtered_s['National'].apply(pd.to_numeric,errors=\"coerce\")"
   ]
  },
  {
   "cell_type": "code",
   "execution_count": 187,
   "metadata": {
    "collapsed": false
   },
   "outputs": [
    {
     "data": {
      "text/html": [
       "<div>\n",
       "<style>\n",
       "    .dataframe thead tr:only-child th {\n",
       "        text-align: right;\n",
       "    }\n",
       "\n",
       "    .dataframe thead th {\n",
       "        text-align: left;\n",
       "    }\n",
       "\n",
       "    .dataframe tbody tr th {\n",
       "        vertical-align: top;\n",
       "    }\n",
       "</style>\n",
       "<table border=\"1\" class=\"dataframe\">\n",
       "  <thead>\n",
       "    <tr style=\"text-align: right;\">\n",
       "      <th></th>\n",
       "      <th></th>\n",
       "      <th>sum</th>\n",
       "      <th>count</th>\n",
       "      <th>mean</th>\n",
       "    </tr>\n",
       "    <tr>\n",
       "      <th>date</th>\n",
       "      <th>variable</th>\n",
       "      <th></th>\n",
       "      <th></th>\n",
       "      <th></th>\n",
       "    </tr>\n",
       "  </thead>\n",
       "  <tbody>\n",
       "    <tr>\n",
       "      <th rowspan=\"6\" valign=\"top\">8</th>\n",
       "      <th>death_confirmed</th>\n",
       "      <td>5877.0</td>\n",
       "      <td>18</td>\n",
       "      <td>326.500000</td>\n",
       "    </tr>\n",
       "    <tr>\n",
       "      <th>death_probable</th>\n",
       "      <td>633.0</td>\n",
       "      <td>18</td>\n",
       "      <td>35.166667</td>\n",
       "    </tr>\n",
       "    <tr>\n",
       "      <th>death_suspected</th>\n",
       "      <td>129.0</td>\n",
       "      <td>18</td>\n",
       "      <td>7.166667</td>\n",
       "    </tr>\n",
       "    <tr>\n",
       "      <th>new_confirmed</th>\n",
       "      <td>371.0</td>\n",
       "      <td>18</td>\n",
       "      <td>20.611111</td>\n",
       "    </tr>\n",
       "    <tr>\n",
       "      <th>new_probable</th>\n",
       "      <td>23.0</td>\n",
       "      <td>18</td>\n",
       "      <td>1.277778</td>\n",
       "    </tr>\n",
       "    <tr>\n",
       "      <th>new_suspected</th>\n",
       "      <td>109.0</td>\n",
       "      <td>18</td>\n",
       "      <td>6.055556</td>\n",
       "    </tr>\n",
       "    <tr>\n",
       "      <th rowspan=\"6\" valign=\"top\">9</th>\n",
       "      <th>death_confirmed</th>\n",
       "      <td>12856.0</td>\n",
       "      <td>27</td>\n",
       "      <td>476.148148</td>\n",
       "    </tr>\n",
       "    <tr>\n",
       "      <th>death_probable</th>\n",
       "      <td>999.0</td>\n",
       "      <td>27</td>\n",
       "      <td>37.000000</td>\n",
       "    </tr>\n",
       "    <tr>\n",
       "      <th>death_suspected</th>\n",
       "      <td>297.0</td>\n",
       "      <td>27</td>\n",
       "      <td>11.000000</td>\n",
       "    </tr>\n",
       "    <tr>\n",
       "      <th>new_confirmed</th>\n",
       "      <td>998.0</td>\n",
       "      <td>27</td>\n",
       "      <td>36.962963</td>\n",
       "    </tr>\n",
       "    <tr>\n",
       "      <th>new_probable</th>\n",
       "      <td>0.0</td>\n",
       "      <td>26</td>\n",
       "      <td>0.000000</td>\n",
       "    </tr>\n",
       "    <tr>\n",
       "      <th>new_suspected</th>\n",
       "      <td>182.0</td>\n",
       "      <td>26</td>\n",
       "      <td>7.000000</td>\n",
       "    </tr>\n",
       "    <tr>\n",
       "      <th rowspan=\"7\" valign=\"top\">10</th>\n",
       "      <th>death_confirmed</th>\n",
       "      <td>25353.0</td>\n",
       "      <td>28</td>\n",
       "      <td>905.464286</td>\n",
       "    </tr>\n",
       "    <tr>\n",
       "      <th>death_probable</th>\n",
       "      <td>4466.0</td>\n",
       "      <td>28</td>\n",
       "      <td>159.500000</td>\n",
       "    </tr>\n",
       "    <tr>\n",
       "      <th>death_suspected</th>\n",
       "      <td>2727.0</td>\n",
       "      <td>28</td>\n",
       "      <td>97.392857</td>\n",
       "    </tr>\n",
       "    <tr>\n",
       "      <th>new_confirmed</th>\n",
       "      <td>1588.0</td>\n",
       "      <td>28</td>\n",
       "      <td>56.714286</td>\n",
       "    </tr>\n",
       "    <tr>\n",
       "      <th>new_positive</th>\n",
       "      <td>425.0</td>\n",
       "      <td>7</td>\n",
       "      <td>60.714286</td>\n",
       "    </tr>\n",
       "    <tr>\n",
       "      <th>new_probable</th>\n",
       "      <td>24.0</td>\n",
       "      <td>27</td>\n",
       "      <td>0.888889</td>\n",
       "    </tr>\n",
       "    <tr>\n",
       "      <th>new_suspected</th>\n",
       "      <td>374.0</td>\n",
       "      <td>27</td>\n",
       "      <td>13.851852</td>\n",
       "    </tr>\n",
       "    <tr>\n",
       "      <th rowspan=\"7\" valign=\"top\">11</th>\n",
       "      <th>death_confirmed</th>\n",
       "      <td>23581.0</td>\n",
       "      <td>19</td>\n",
       "      <td>1241.105263</td>\n",
       "    </tr>\n",
       "    <tr>\n",
       "      <th>death_probable</th>\n",
       "      <td>3952.0</td>\n",
       "      <td>19</td>\n",
       "      <td>208.000000</td>\n",
       "    </tr>\n",
       "    <tr>\n",
       "      <th>death_suspected</th>\n",
       "      <td>2990.0</td>\n",
       "      <td>19</td>\n",
       "      <td>157.368421</td>\n",
       "    </tr>\n",
       "    <tr>\n",
       "      <th>new_confirmed</th>\n",
       "      <td>1258.0</td>\n",
       "      <td>19</td>\n",
       "      <td>66.210526</td>\n",
       "    </tr>\n",
       "    <tr>\n",
       "      <th>new_positive</th>\n",
       "      <td>787.0</td>\n",
       "      <td>12</td>\n",
       "      <td>65.583333</td>\n",
       "    </tr>\n",
       "    <tr>\n",
       "      <th>new_probable</th>\n",
       "      <td>0.0</td>\n",
       "      <td>14</td>\n",
       "      <td>0.000000</td>\n",
       "    </tr>\n",
       "    <tr>\n",
       "      <th>new_suspected</th>\n",
       "      <td>322.0</td>\n",
       "      <td>14</td>\n",
       "      <td>23.000000</td>\n",
       "    </tr>\n",
       "    <tr>\n",
       "      <th rowspan=\"7\" valign=\"top\">12</th>\n",
       "      <th>death_confirmed</th>\n",
       "      <td>6574.0</td>\n",
       "      <td>4</td>\n",
       "      <td>1643.500000</td>\n",
       "    </tr>\n",
       "    <tr>\n",
       "      <th>death_probable</th>\n",
       "      <td>832.0</td>\n",
       "      <td>4</td>\n",
       "      <td>208.000000</td>\n",
       "    </tr>\n",
       "    <tr>\n",
       "      <th>death_suspected</th>\n",
       "      <td>632.0</td>\n",
       "      <td>4</td>\n",
       "      <td>158.000000</td>\n",
       "    </tr>\n",
       "    <tr>\n",
       "      <th>new_confirmed</th>\n",
       "      <td>163.0</td>\n",
       "      <td>3</td>\n",
       "      <td>54.333333</td>\n",
       "    </tr>\n",
       "    <tr>\n",
       "      <th>new_positive</th>\n",
       "      <td>91.0</td>\n",
       "      <td>2</td>\n",
       "      <td>45.500000</td>\n",
       "    </tr>\n",
       "    <tr>\n",
       "      <th>new_probable</th>\n",
       "      <td>0.0</td>\n",
       "      <td>3</td>\n",
       "      <td>0.000000</td>\n",
       "    </tr>\n",
       "    <tr>\n",
       "      <th>new_suspected</th>\n",
       "      <td>42.0</td>\n",
       "      <td>3</td>\n",
       "      <td>14.000000</td>\n",
       "    </tr>\n",
       "  </tbody>\n",
       "</table>\n",
       "</div>"
      ],
      "text/plain": [
       "                          sum  count         mean\n",
       "date variable                                    \n",
       "8    death_confirmed   5877.0     18   326.500000\n",
       "     death_probable     633.0     18    35.166667\n",
       "     death_suspected    129.0     18     7.166667\n",
       "     new_confirmed      371.0     18    20.611111\n",
       "     new_probable        23.0     18     1.277778\n",
       "     new_suspected      109.0     18     6.055556\n",
       "9    death_confirmed  12856.0     27   476.148148\n",
       "     death_probable     999.0     27    37.000000\n",
       "     death_suspected    297.0     27    11.000000\n",
       "     new_confirmed      998.0     27    36.962963\n",
       "     new_probable         0.0     26     0.000000\n",
       "     new_suspected      182.0     26     7.000000\n",
       "10   death_confirmed  25353.0     28   905.464286\n",
       "     death_probable    4466.0     28   159.500000\n",
       "     death_suspected   2727.0     28    97.392857\n",
       "     new_confirmed     1588.0     28    56.714286\n",
       "     new_positive       425.0      7    60.714286\n",
       "     new_probable        24.0     27     0.888889\n",
       "     new_suspected      374.0     27    13.851852\n",
       "11   death_confirmed  23581.0     19  1241.105263\n",
       "     death_probable    3952.0     19   208.000000\n",
       "     death_suspected   2990.0     19   157.368421\n",
       "     new_confirmed     1258.0     19    66.210526\n",
       "     new_positive       787.0     12    65.583333\n",
       "     new_probable         0.0     14     0.000000\n",
       "     new_suspected      322.0     14    23.000000\n",
       "12   death_confirmed   6574.0      4  1643.500000\n",
       "     death_probable     832.0      4   208.000000\n",
       "     death_suspected    632.0      4   158.000000\n",
       "     new_confirmed      163.0      3    54.333333\n",
       "     new_positive        91.0      2    45.500000\n",
       "     new_probable         0.0      3     0.000000\n",
       "     new_suspected       42.0      3    14.000000"
      ]
     },
     "execution_count": 187,
     "metadata": {},
     "output_type": "execute_result"
    }
   ],
   "source": [
    "# Eliminate NaN Values and Group the total national values by months and calculate the mean based on the number of days within a month as contained in the dataset\n",
    "filtered_s['National'].groupby([filtered_s.date.dt.month,filtered_s.variable]).agg(['sum','count','mean']).dropna()"
   ]
  },
  {
   "cell_type": "markdown",
   "metadata": {},
   "source": [
    "# Task.2 RNA Sequences"
   ]
  },
  {
   "cell_type": "markdown",
   "metadata": {},
   "source": [
    "The goal of this task is to join the bacteria data of 9 spreadsheets together then include the metadata contents for each group of bacteries."
   ]
  },
  {
   "cell_type": "code",
   "execution_count": 190,
   "metadata": {
    "collapsed": true
   },
   "outputs": [],
   "source": [
    "import pandas as pd\n",
    "import numpy as np\n",
    "import glob"
   ]
  },
  {
   "cell_type": "code",
   "execution_count": 191,
   "metadata": {
    "collapsed": true
   },
   "outputs": [],
   "source": [
    "bio_folder = r'C:\\Users\\User\\git\\ADA2017-Tutorials\\02 - Intro to Pandas\\Data\\microbiome'"
   ]
  },
  {
   "cell_type": "code",
   "execution_count": 192,
   "metadata": {
    "collapsed": true
   },
   "outputs": [],
   "source": [
    "# get all MID.xls files from the data folder\n",
    "all_files = glob.glob(bio_folder + \"/MID?.xls\")"
   ]
  },
  {
   "cell_type": "code",
   "execution_count": 198,
   "metadata": {
    "collapsed": true
   },
   "outputs": [],
   "source": [
    "# read the metadata file\n",
    "metadata=pd.read_excel(bio_folder+\"/metadata.xls\", header=0)"
   ]
  },
  {
   "cell_type": "code",
   "execution_count": 199,
   "metadata": {
    "collapsed": true
   },
   "outputs": [],
   "source": [
    "# Read first each MID.xls file and append its group and sample read from the metadata\n",
    "# Join all MID files together into a single DataFrame\n",
    "frame = pd.DataFrame()\n",
    "list_ = []\n",
    "i=0\n",
    "for file_ in all_files:\n",
    "    i = i+1\n",
    "    data = pd.read_excel(file_, header=None)\n",
    "    data['Group']= metadata.loc[metadata['BARCODE'] == ('MID'+str(i)), 'GROUP'].iloc[0]\n",
    "    data['Sample']=metadata.loc[metadata['BARCODE'] == ('MID'+str(i)), 'SAMPLE'].iloc[0]\n",
    "    list_.append(data)\n",
    "metadata=pd.read_excel(bio_folder+\"/metadata.xls\", header=None)\n",
    "frame = pd.concat(list_)"
   ]
  },
  {
   "cell_type": "code",
   "execution_count": 200,
   "metadata": {
    "collapsed": true
   },
   "outputs": [],
   "source": [
    "# Reset the index to inquire new unique indexes and drop the old index\n",
    "frame = frame.reset_index(drop=True) "
   ]
  },
  {
   "cell_type": "code",
   "execution_count": 201,
   "metadata": {
    "collapsed": false
   },
   "outputs": [
    {
     "data": {
      "text/html": [
       "<div>\n",
       "<style>\n",
       "    .dataframe thead tr:only-child th {\n",
       "        text-align: right;\n",
       "    }\n",
       "\n",
       "    .dataframe thead th {\n",
       "        text-align: left;\n",
       "    }\n",
       "\n",
       "    .dataframe tbody tr th {\n",
       "        vertical-align: top;\n",
       "    }\n",
       "</style>\n",
       "<table border=\"1\" class=\"dataframe\">\n",
       "  <thead>\n",
       "    <tr style=\"text-align: right;\">\n",
       "      <th></th>\n",
       "      <th>0</th>\n",
       "      <th>1</th>\n",
       "      <th>Group</th>\n",
       "      <th>Sample</th>\n",
       "    </tr>\n",
       "  </thead>\n",
       "  <tbody>\n",
       "    <tr>\n",
       "      <th>0</th>\n",
       "      <td>Archaea \"Crenarchaeota\" Thermoprotei Desulfuro...</td>\n",
       "      <td>7</td>\n",
       "      <td>EXTRACTION CONTROL</td>\n",
       "      <td>unknown</td>\n",
       "    </tr>\n",
       "    <tr>\n",
       "      <th>1</th>\n",
       "      <td>Archaea \"Crenarchaeota\" Thermoprotei Desulfuro...</td>\n",
       "      <td>2</td>\n",
       "      <td>EXTRACTION CONTROL</td>\n",
       "      <td>unknown</td>\n",
       "    </tr>\n",
       "    <tr>\n",
       "      <th>2</th>\n",
       "      <td>Archaea \"Crenarchaeota\" Thermoprotei Sulfoloba...</td>\n",
       "      <td>3</td>\n",
       "      <td>EXTRACTION CONTROL</td>\n",
       "      <td>unknown</td>\n",
       "    </tr>\n",
       "    <tr>\n",
       "      <th>3</th>\n",
       "      <td>Archaea \"Crenarchaeota\" Thermoprotei Thermopro...</td>\n",
       "      <td>3</td>\n",
       "      <td>EXTRACTION CONTROL</td>\n",
       "      <td>unknown</td>\n",
       "    </tr>\n",
       "    <tr>\n",
       "      <th>4</th>\n",
       "      <td>Archaea \"Euryarchaeota\" \"Methanomicrobia\" Meth...</td>\n",
       "      <td>7</td>\n",
       "      <td>EXTRACTION CONTROL</td>\n",
       "      <td>unknown</td>\n",
       "    </tr>\n",
       "    <tr>\n",
       "      <th>5</th>\n",
       "      <td>Archaea \"Euryarchaeota\" \"Methanomicrobia\" Meth...</td>\n",
       "      <td>1</td>\n",
       "      <td>EXTRACTION CONTROL</td>\n",
       "      <td>unknown</td>\n",
       "    </tr>\n",
       "    <tr>\n",
       "      <th>6</th>\n",
       "      <td>Archaea \"Euryarchaeota\" \"Methanomicrobia\" Meth...</td>\n",
       "      <td>1</td>\n",
       "      <td>EXTRACTION CONTROL</td>\n",
       "      <td>unknown</td>\n",
       "    </tr>\n",
       "    <tr>\n",
       "      <th>7</th>\n",
       "      <td>Archaea \"Euryarchaeota\" Archaeoglobi Archaeogl...</td>\n",
       "      <td>1</td>\n",
       "      <td>EXTRACTION CONTROL</td>\n",
       "      <td>unknown</td>\n",
       "    </tr>\n",
       "    <tr>\n",
       "      <th>8</th>\n",
       "      <td>Archaea \"Euryarchaeota\" Archaeoglobi Archaeogl...</td>\n",
       "      <td>1</td>\n",
       "      <td>EXTRACTION CONTROL</td>\n",
       "      <td>unknown</td>\n",
       "    </tr>\n",
       "    <tr>\n",
       "      <th>9</th>\n",
       "      <td>Archaea \"Euryarchaeota\" Halobacteria Halobacte...</td>\n",
       "      <td>1</td>\n",
       "      <td>EXTRACTION CONTROL</td>\n",
       "      <td>unknown</td>\n",
       "    </tr>\n",
       "    <tr>\n",
       "      <th>10</th>\n",
       "      <td>Archaea \"Euryarchaeota\" Halobacteria Halobacte...</td>\n",
       "      <td>4</td>\n",
       "      <td>EXTRACTION CONTROL</td>\n",
       "      <td>unknown</td>\n",
       "    </tr>\n",
       "    <tr>\n",
       "      <th>11</th>\n",
       "      <td>Archaea \"Euryarchaeota\" Halobacteria Halobacte...</td>\n",
       "      <td>1</td>\n",
       "      <td>EXTRACTION CONTROL</td>\n",
       "      <td>unknown</td>\n",
       "    </tr>\n",
       "    <tr>\n",
       "      <th>12</th>\n",
       "      <td>Archaea \"Euryarchaeota\" Halobacteria Halobacte...</td>\n",
       "      <td>2</td>\n",
       "      <td>EXTRACTION CONTROL</td>\n",
       "      <td>unknown</td>\n",
       "    </tr>\n",
       "    <tr>\n",
       "      <th>13</th>\n",
       "      <td>Archaea \"Euryarchaeota\" Halobacteria Halobacte...</td>\n",
       "      <td>4</td>\n",
       "      <td>EXTRACTION CONTROL</td>\n",
       "      <td>unknown</td>\n",
       "    </tr>\n",
       "    <tr>\n",
       "      <th>14</th>\n",
       "      <td>Archaea \"Euryarchaeota\" Methanococci Methanoco...</td>\n",
       "      <td>1</td>\n",
       "      <td>EXTRACTION CONTROL</td>\n",
       "      <td>unknown</td>\n",
       "    </tr>\n",
       "    <tr>\n",
       "      <th>15</th>\n",
       "      <td>Archaea \"Euryarchaeota\" Methanopyri Methanopyr...</td>\n",
       "      <td>12</td>\n",
       "      <td>EXTRACTION CONTROL</td>\n",
       "      <td>unknown</td>\n",
       "    </tr>\n",
       "    <tr>\n",
       "      <th>16</th>\n",
       "      <td>Archaea \"Euryarchaeota\" Thermoplasmata Thermop...</td>\n",
       "      <td>2</td>\n",
       "      <td>EXTRACTION CONTROL</td>\n",
       "      <td>unknown</td>\n",
       "    </tr>\n",
       "    <tr>\n",
       "      <th>17</th>\n",
       "      <td>Bacteria \"Actinobacteria\" Actinobacteria Actin...</td>\n",
       "      <td>2</td>\n",
       "      <td>EXTRACTION CONTROL</td>\n",
       "      <td>unknown</td>\n",
       "    </tr>\n",
       "    <tr>\n",
       "      <th>18</th>\n",
       "      <td>Bacteria \"Actinobacteria\" Actinobacteria Actin...</td>\n",
       "      <td>1</td>\n",
       "      <td>EXTRACTION CONTROL</td>\n",
       "      <td>unknown</td>\n",
       "    </tr>\n",
       "    <tr>\n",
       "      <th>19</th>\n",
       "      <td>Bacteria \"Actinobacteria\" Actinobacteria Actin...</td>\n",
       "      <td>1</td>\n",
       "      <td>EXTRACTION CONTROL</td>\n",
       "      <td>unknown</td>\n",
       "    </tr>\n",
       "    <tr>\n",
       "      <th>20</th>\n",
       "      <td>Bacteria \"Actinobacteria\" Actinobacteria Actin...</td>\n",
       "      <td>1</td>\n",
       "      <td>EXTRACTION CONTROL</td>\n",
       "      <td>unknown</td>\n",
       "    </tr>\n",
       "    <tr>\n",
       "      <th>21</th>\n",
       "      <td>Bacteria \"Actinobacteria\" Actinobacteria Actin...</td>\n",
       "      <td>2</td>\n",
       "      <td>EXTRACTION CONTROL</td>\n",
       "      <td>unknown</td>\n",
       "    </tr>\n",
       "    <tr>\n",
       "      <th>22</th>\n",
       "      <td>Bacteria \"Actinobacteria\" Actinobacteria Actin...</td>\n",
       "      <td>53</td>\n",
       "      <td>EXTRACTION CONTROL</td>\n",
       "      <td>unknown</td>\n",
       "    </tr>\n",
       "    <tr>\n",
       "      <th>23</th>\n",
       "      <td>Bacteria \"Actinobacteria\" Actinobacteria Actin...</td>\n",
       "      <td>1</td>\n",
       "      <td>EXTRACTION CONTROL</td>\n",
       "      <td>unknown</td>\n",
       "    </tr>\n",
       "    <tr>\n",
       "      <th>24</th>\n",
       "      <td>Bacteria \"Actinobacteria\" Actinobacteria Actin...</td>\n",
       "      <td>2</td>\n",
       "      <td>EXTRACTION CONTROL</td>\n",
       "      <td>unknown</td>\n",
       "    </tr>\n",
       "    <tr>\n",
       "      <th>25</th>\n",
       "      <td>Bacteria \"Actinobacteria\" Actinobacteria Actin...</td>\n",
       "      <td>3</td>\n",
       "      <td>EXTRACTION CONTROL</td>\n",
       "      <td>unknown</td>\n",
       "    </tr>\n",
       "    <tr>\n",
       "      <th>26</th>\n",
       "      <td>Bacteria \"Actinobacteria\" Actinobacteria Actin...</td>\n",
       "      <td>1</td>\n",
       "      <td>EXTRACTION CONTROL</td>\n",
       "      <td>unknown</td>\n",
       "    </tr>\n",
       "    <tr>\n",
       "      <th>27</th>\n",
       "      <td>Bacteria \"Actinobacteria\" Actinobacteria Actin...</td>\n",
       "      <td>99</td>\n",
       "      <td>EXTRACTION CONTROL</td>\n",
       "      <td>unknown</td>\n",
       "    </tr>\n",
       "    <tr>\n",
       "      <th>28</th>\n",
       "      <td>Bacteria \"Actinobacteria\" Actinobacteria Actin...</td>\n",
       "      <td>17</td>\n",
       "      <td>EXTRACTION CONTROL</td>\n",
       "      <td>unknown</td>\n",
       "    </tr>\n",
       "    <tr>\n",
       "      <th>29</th>\n",
       "      <td>Bacteria \"Actinobacteria\" Actinobacteria Actin...</td>\n",
       "      <td>2</td>\n",
       "      <td>EXTRACTION CONTROL</td>\n",
       "      <td>unknown</td>\n",
       "    </tr>\n",
       "    <tr>\n",
       "      <th>...</th>\n",
       "      <td>...</td>\n",
       "      <td>...</td>\n",
       "      <td>...</td>\n",
       "      <td>...</td>\n",
       "    </tr>\n",
       "    <tr>\n",
       "      <th>2366</th>\n",
       "      <td>Bacteria \"Proteobacteria\" Gammaproteobacteria ...</td>\n",
       "      <td>10</td>\n",
       "      <td>Control 2</td>\n",
       "      <td>stool</td>\n",
       "    </tr>\n",
       "    <tr>\n",
       "      <th>2367</th>\n",
       "      <td>Bacteria \"Proteobacteria\" Gammaproteobacteria ...</td>\n",
       "      <td>1</td>\n",
       "      <td>Control 2</td>\n",
       "      <td>stool</td>\n",
       "    </tr>\n",
       "    <tr>\n",
       "      <th>2368</th>\n",
       "      <td>Bacteria \"Proteobacteria\" Gammaproteobacteria ...</td>\n",
       "      <td>1</td>\n",
       "      <td>Control 2</td>\n",
       "      <td>stool</td>\n",
       "    </tr>\n",
       "    <tr>\n",
       "      <th>2369</th>\n",
       "      <td>Bacteria \"Proteobacteria\" Gammaproteobacteria ...</td>\n",
       "      <td>1</td>\n",
       "      <td>Control 2</td>\n",
       "      <td>stool</td>\n",
       "    </tr>\n",
       "    <tr>\n",
       "      <th>2370</th>\n",
       "      <td>Bacteria \"Proteobacteria\" Gammaproteobacteria ...</td>\n",
       "      <td>12</td>\n",
       "      <td>Control 2</td>\n",
       "      <td>stool</td>\n",
       "    </tr>\n",
       "    <tr>\n",
       "      <th>2371</th>\n",
       "      <td>Bacteria \"Proteobacteria\" Gammaproteobacteria ...</td>\n",
       "      <td>4</td>\n",
       "      <td>Control 2</td>\n",
       "      <td>stool</td>\n",
       "    </tr>\n",
       "    <tr>\n",
       "      <th>2372</th>\n",
       "      <td>Bacteria \"Proteobacteria\" Gammaproteobacteria ...</td>\n",
       "      <td>805</td>\n",
       "      <td>Control 2</td>\n",
       "      <td>stool</td>\n",
       "    </tr>\n",
       "    <tr>\n",
       "      <th>2373</th>\n",
       "      <td>Bacteria \"Proteobacteria\" Gammaproteobacteria ...</td>\n",
       "      <td>862</td>\n",
       "      <td>Control 2</td>\n",
       "      <td>stool</td>\n",
       "    </tr>\n",
       "    <tr>\n",
       "      <th>2374</th>\n",
       "      <td>Bacteria \"Proteobacteria\" Gammaproteobacteria ...</td>\n",
       "      <td>12</td>\n",
       "      <td>Control 2</td>\n",
       "      <td>stool</td>\n",
       "    </tr>\n",
       "    <tr>\n",
       "      <th>2375</th>\n",
       "      <td>Bacteria \"Proteobacteria\" Gammaproteobacteria ...</td>\n",
       "      <td>3534</td>\n",
       "      <td>Control 2</td>\n",
       "      <td>stool</td>\n",
       "    </tr>\n",
       "    <tr>\n",
       "      <th>2376</th>\n",
       "      <td>Bacteria \"Proteobacteria\" Gammaproteobacteria ...</td>\n",
       "      <td>4</td>\n",
       "      <td>Control 2</td>\n",
       "      <td>stool</td>\n",
       "    </tr>\n",
       "    <tr>\n",
       "      <th>2377</th>\n",
       "      <td>Bacteria \"Proteobacteria\" Gammaproteobacteria ...</td>\n",
       "      <td>1</td>\n",
       "      <td>Control 2</td>\n",
       "      <td>stool</td>\n",
       "    </tr>\n",
       "    <tr>\n",
       "      <th>2378</th>\n",
       "      <td>Bacteria \"Proteobacteria\" Gammaproteobacteria ...</td>\n",
       "      <td>25</td>\n",
       "      <td>Control 2</td>\n",
       "      <td>stool</td>\n",
       "    </tr>\n",
       "    <tr>\n",
       "      <th>2379</th>\n",
       "      <td>Bacteria \"Proteobacteria\" Gammaproteobacteria ...</td>\n",
       "      <td>2</td>\n",
       "      <td>Control 2</td>\n",
       "      <td>stool</td>\n",
       "    </tr>\n",
       "    <tr>\n",
       "      <th>2380</th>\n",
       "      <td>Bacteria \"Proteobacteria\" Gammaproteobacteria ...</td>\n",
       "      <td>3</td>\n",
       "      <td>Control 2</td>\n",
       "      <td>stool</td>\n",
       "    </tr>\n",
       "    <tr>\n",
       "      <th>2381</th>\n",
       "      <td>Bacteria \"Proteobacteria\" Gammaproteobacteria ...</td>\n",
       "      <td>2</td>\n",
       "      <td>Control 2</td>\n",
       "      <td>stool</td>\n",
       "    </tr>\n",
       "    <tr>\n",
       "      <th>2382</th>\n",
       "      <td>Bacteria \"Proteobacteria\" Gammaproteobacteria ...</td>\n",
       "      <td>1</td>\n",
       "      <td>Control 2</td>\n",
       "      <td>stool</td>\n",
       "    </tr>\n",
       "    <tr>\n",
       "      <th>2383</th>\n",
       "      <td>Bacteria \"Proteobacteria\" Gammaproteobacteria ...</td>\n",
       "      <td>3</td>\n",
       "      <td>Control 2</td>\n",
       "      <td>stool</td>\n",
       "    </tr>\n",
       "    <tr>\n",
       "      <th>2384</th>\n",
       "      <td>Bacteria \"Proteobacteria\" Gammaproteobacteria ...</td>\n",
       "      <td>2</td>\n",
       "      <td>Control 2</td>\n",
       "      <td>stool</td>\n",
       "    </tr>\n",
       "    <tr>\n",
       "      <th>2385</th>\n",
       "      <td>Bacteria \"Proteobacteria\" Gammaproteobacteria ...</td>\n",
       "      <td>1</td>\n",
       "      <td>Control 2</td>\n",
       "      <td>stool</td>\n",
       "    </tr>\n",
       "    <tr>\n",
       "      <th>2386</th>\n",
       "      <td>Bacteria \"Synergistetes\" Synergistia Synergist...</td>\n",
       "      <td>3</td>\n",
       "      <td>Control 2</td>\n",
       "      <td>stool</td>\n",
       "    </tr>\n",
       "    <tr>\n",
       "      <th>2387</th>\n",
       "      <td>Bacteria \"Tenericutes\" Mollicutes Anaeroplasma...</td>\n",
       "      <td>1</td>\n",
       "      <td>Control 2</td>\n",
       "      <td>stool</td>\n",
       "    </tr>\n",
       "    <tr>\n",
       "      <th>2388</th>\n",
       "      <td>Bacteria \"Tenericutes\" Mollicutes Haloplasmata...</td>\n",
       "      <td>11</td>\n",
       "      <td>Control 2</td>\n",
       "      <td>stool</td>\n",
       "    </tr>\n",
       "    <tr>\n",
       "      <th>2389</th>\n",
       "      <td>Bacteria \"Thermodesulfobacteria\" Thermodesulfo...</td>\n",
       "      <td>1</td>\n",
       "      <td>Control 2</td>\n",
       "      <td>stool</td>\n",
       "    </tr>\n",
       "    <tr>\n",
       "      <th>2390</th>\n",
       "      <td>Bacteria \"Thermodesulfobacteria\" Thermodesulfo...</td>\n",
       "      <td>1</td>\n",
       "      <td>Control 2</td>\n",
       "      <td>stool</td>\n",
       "    </tr>\n",
       "    <tr>\n",
       "      <th>2391</th>\n",
       "      <td>Bacteria \"Thermotogae\" Thermotogae Thermotogal...</td>\n",
       "      <td>43</td>\n",
       "      <td>Control 2</td>\n",
       "      <td>stool</td>\n",
       "    </tr>\n",
       "    <tr>\n",
       "      <th>2392</th>\n",
       "      <td>Bacteria \"Thermotogae\" Thermotogae Thermotogal...</td>\n",
       "      <td>16</td>\n",
       "      <td>Control 2</td>\n",
       "      <td>stool</td>\n",
       "    </tr>\n",
       "    <tr>\n",
       "      <th>2393</th>\n",
       "      <td>Bacteria \"Verrucomicrobia\" Opitutae Opitutales...</td>\n",
       "      <td>1</td>\n",
       "      <td>Control 2</td>\n",
       "      <td>stool</td>\n",
       "    </tr>\n",
       "    <tr>\n",
       "      <th>2394</th>\n",
       "      <td>Bacteria Cyanobacteria Cyanobacteria  Chloropl...</td>\n",
       "      <td>1</td>\n",
       "      <td>Control 2</td>\n",
       "      <td>stool</td>\n",
       "    </tr>\n",
       "    <tr>\n",
       "      <th>2395</th>\n",
       "      <td>Bacteria Cyanobacteria Cyanobacteria  Chloropl...</td>\n",
       "      <td>10</td>\n",
       "      <td>Control 2</td>\n",
       "      <td>stool</td>\n",
       "    </tr>\n",
       "  </tbody>\n",
       "</table>\n",
       "<p>2396 rows × 4 columns</p>\n",
       "</div>"
      ],
      "text/plain": [
       "                                                      0     1  \\\n",
       "0     Archaea \"Crenarchaeota\" Thermoprotei Desulfuro...     7   \n",
       "1     Archaea \"Crenarchaeota\" Thermoprotei Desulfuro...     2   \n",
       "2     Archaea \"Crenarchaeota\" Thermoprotei Sulfoloba...     3   \n",
       "3     Archaea \"Crenarchaeota\" Thermoprotei Thermopro...     3   \n",
       "4     Archaea \"Euryarchaeota\" \"Methanomicrobia\" Meth...     7   \n",
       "5     Archaea \"Euryarchaeota\" \"Methanomicrobia\" Meth...     1   \n",
       "6     Archaea \"Euryarchaeota\" \"Methanomicrobia\" Meth...     1   \n",
       "7     Archaea \"Euryarchaeota\" Archaeoglobi Archaeogl...     1   \n",
       "8     Archaea \"Euryarchaeota\" Archaeoglobi Archaeogl...     1   \n",
       "9     Archaea \"Euryarchaeota\" Halobacteria Halobacte...     1   \n",
       "10    Archaea \"Euryarchaeota\" Halobacteria Halobacte...     4   \n",
       "11    Archaea \"Euryarchaeota\" Halobacteria Halobacte...     1   \n",
       "12    Archaea \"Euryarchaeota\" Halobacteria Halobacte...     2   \n",
       "13    Archaea \"Euryarchaeota\" Halobacteria Halobacte...     4   \n",
       "14    Archaea \"Euryarchaeota\" Methanococci Methanoco...     1   \n",
       "15    Archaea \"Euryarchaeota\" Methanopyri Methanopyr...    12   \n",
       "16    Archaea \"Euryarchaeota\" Thermoplasmata Thermop...     2   \n",
       "17    Bacteria \"Actinobacteria\" Actinobacteria Actin...     2   \n",
       "18    Bacteria \"Actinobacteria\" Actinobacteria Actin...     1   \n",
       "19    Bacteria \"Actinobacteria\" Actinobacteria Actin...     1   \n",
       "20    Bacteria \"Actinobacteria\" Actinobacteria Actin...     1   \n",
       "21    Bacteria \"Actinobacteria\" Actinobacteria Actin...     2   \n",
       "22    Bacteria \"Actinobacteria\" Actinobacteria Actin...    53   \n",
       "23    Bacteria \"Actinobacteria\" Actinobacteria Actin...     1   \n",
       "24    Bacteria \"Actinobacteria\" Actinobacteria Actin...     2   \n",
       "25    Bacteria \"Actinobacteria\" Actinobacteria Actin...     3   \n",
       "26    Bacteria \"Actinobacteria\" Actinobacteria Actin...     1   \n",
       "27    Bacteria \"Actinobacteria\" Actinobacteria Actin...    99   \n",
       "28    Bacteria \"Actinobacteria\" Actinobacteria Actin...    17   \n",
       "29    Bacteria \"Actinobacteria\" Actinobacteria Actin...     2   \n",
       "...                                                 ...   ...   \n",
       "2366  Bacteria \"Proteobacteria\" Gammaproteobacteria ...    10   \n",
       "2367  Bacteria \"Proteobacteria\" Gammaproteobacteria ...     1   \n",
       "2368  Bacteria \"Proteobacteria\" Gammaproteobacteria ...     1   \n",
       "2369  Bacteria \"Proteobacteria\" Gammaproteobacteria ...     1   \n",
       "2370  Bacteria \"Proteobacteria\" Gammaproteobacteria ...    12   \n",
       "2371  Bacteria \"Proteobacteria\" Gammaproteobacteria ...     4   \n",
       "2372  Bacteria \"Proteobacteria\" Gammaproteobacteria ...   805   \n",
       "2373  Bacteria \"Proteobacteria\" Gammaproteobacteria ...   862   \n",
       "2374  Bacteria \"Proteobacteria\" Gammaproteobacteria ...    12   \n",
       "2375  Bacteria \"Proteobacteria\" Gammaproteobacteria ...  3534   \n",
       "2376  Bacteria \"Proteobacteria\" Gammaproteobacteria ...     4   \n",
       "2377  Bacteria \"Proteobacteria\" Gammaproteobacteria ...     1   \n",
       "2378  Bacteria \"Proteobacteria\" Gammaproteobacteria ...    25   \n",
       "2379  Bacteria \"Proteobacteria\" Gammaproteobacteria ...     2   \n",
       "2380  Bacteria \"Proteobacteria\" Gammaproteobacteria ...     3   \n",
       "2381  Bacteria \"Proteobacteria\" Gammaproteobacteria ...     2   \n",
       "2382  Bacteria \"Proteobacteria\" Gammaproteobacteria ...     1   \n",
       "2383  Bacteria \"Proteobacteria\" Gammaproteobacteria ...     3   \n",
       "2384  Bacteria \"Proteobacteria\" Gammaproteobacteria ...     2   \n",
       "2385  Bacteria \"Proteobacteria\" Gammaproteobacteria ...     1   \n",
       "2386  Bacteria \"Synergistetes\" Synergistia Synergist...     3   \n",
       "2387  Bacteria \"Tenericutes\" Mollicutes Anaeroplasma...     1   \n",
       "2388  Bacteria \"Tenericutes\" Mollicutes Haloplasmata...    11   \n",
       "2389  Bacteria \"Thermodesulfobacteria\" Thermodesulfo...     1   \n",
       "2390  Bacteria \"Thermodesulfobacteria\" Thermodesulfo...     1   \n",
       "2391  Bacteria \"Thermotogae\" Thermotogae Thermotogal...    43   \n",
       "2392  Bacteria \"Thermotogae\" Thermotogae Thermotogal...    16   \n",
       "2393  Bacteria \"Verrucomicrobia\" Opitutae Opitutales...     1   \n",
       "2394  Bacteria Cyanobacteria Cyanobacteria  Chloropl...     1   \n",
       "2395  Bacteria Cyanobacteria Cyanobacteria  Chloropl...    10   \n",
       "\n",
       "                   Group   Sample  \n",
       "0     EXTRACTION CONTROL  unknown  \n",
       "1     EXTRACTION CONTROL  unknown  \n",
       "2     EXTRACTION CONTROL  unknown  \n",
       "3     EXTRACTION CONTROL  unknown  \n",
       "4     EXTRACTION CONTROL  unknown  \n",
       "5     EXTRACTION CONTROL  unknown  \n",
       "6     EXTRACTION CONTROL  unknown  \n",
       "7     EXTRACTION CONTROL  unknown  \n",
       "8     EXTRACTION CONTROL  unknown  \n",
       "9     EXTRACTION CONTROL  unknown  \n",
       "10    EXTRACTION CONTROL  unknown  \n",
       "11    EXTRACTION CONTROL  unknown  \n",
       "12    EXTRACTION CONTROL  unknown  \n",
       "13    EXTRACTION CONTROL  unknown  \n",
       "14    EXTRACTION CONTROL  unknown  \n",
       "15    EXTRACTION CONTROL  unknown  \n",
       "16    EXTRACTION CONTROL  unknown  \n",
       "17    EXTRACTION CONTROL  unknown  \n",
       "18    EXTRACTION CONTROL  unknown  \n",
       "19    EXTRACTION CONTROL  unknown  \n",
       "20    EXTRACTION CONTROL  unknown  \n",
       "21    EXTRACTION CONTROL  unknown  \n",
       "22    EXTRACTION CONTROL  unknown  \n",
       "23    EXTRACTION CONTROL  unknown  \n",
       "24    EXTRACTION CONTROL  unknown  \n",
       "25    EXTRACTION CONTROL  unknown  \n",
       "26    EXTRACTION CONTROL  unknown  \n",
       "27    EXTRACTION CONTROL  unknown  \n",
       "28    EXTRACTION CONTROL  unknown  \n",
       "29    EXTRACTION CONTROL  unknown  \n",
       "...                  ...      ...  \n",
       "2366           Control 2    stool  \n",
       "2367           Control 2    stool  \n",
       "2368           Control 2    stool  \n",
       "2369           Control 2    stool  \n",
       "2370           Control 2    stool  \n",
       "2371           Control 2    stool  \n",
       "2372           Control 2    stool  \n",
       "2373           Control 2    stool  \n",
       "2374           Control 2    stool  \n",
       "2375           Control 2    stool  \n",
       "2376           Control 2    stool  \n",
       "2377           Control 2    stool  \n",
       "2378           Control 2    stool  \n",
       "2379           Control 2    stool  \n",
       "2380           Control 2    stool  \n",
       "2381           Control 2    stool  \n",
       "2382           Control 2    stool  \n",
       "2383           Control 2    stool  \n",
       "2384           Control 2    stool  \n",
       "2385           Control 2    stool  \n",
       "2386           Control 2    stool  \n",
       "2387           Control 2    stool  \n",
       "2388           Control 2    stool  \n",
       "2389           Control 2    stool  \n",
       "2390           Control 2    stool  \n",
       "2391           Control 2    stool  \n",
       "2392           Control 2    stool  \n",
       "2393           Control 2    stool  \n",
       "2394           Control 2    stool  \n",
       "2395           Control 2    stool  \n",
       "\n",
       "[2396 rows x 4 columns]"
      ]
     },
     "execution_count": 201,
     "metadata": {},
     "output_type": "execute_result"
    }
   ],
   "source": [
    "frame.fillna('unknown') #replace all NaN with unknown as required"
   ]
  },
  {
   "cell_type": "markdown",
   "metadata": {},
   "source": [
    "# Task 3. Class War in Titanic"
   ]
  },
  {
   "cell_type": "code",
   "execution_count": 1,
   "metadata": {
    "collapsed": true
   },
   "outputs": [],
   "source": [
    "import pandas as pd\n",
    "import numpy as np\n",
    "import matplotlib.pyplot as plt\n",
    "import seaborn as sns\n",
    "import math\n",
    "import glob\n",
    "import re\n",
    "from IPython.core.display import HTML\n",
    "import os\n",
    "import random\n",
    "\n",
    "DATA_FOLDER = '/Users/KhalilCherif/Desktop/ada/ADA2017-Tutorials/02 - Intro to Pandas/Data/'\n",
    "\n",
    "HTML(filename=DATA_FOLDER+'/titanic.html')\n",
    "data = pd.read_excel(DATA_FOLDER+\"/titanic.xls\")\n",
    "df1 = pd.DataFrame({'attribute': list(data),'type':list(data.dtypes)})\n",
    "%matplotlib inline"
   ]
  },
  {
   "cell_type": "code",
   "execution_count": 2,
   "metadata": {
    "collapsed": true
   },
   "outputs": [],
   "source": [
    "sns.set_context('notebook')\n",
    "\n",
    "DATA_FOLDER = '/Users/KhalilCherif/Desktop/ada/ADA2017-Tutorials/02 - Intro to Pandas/Data'\n",
    "os.chdir(DATA_FOLDER)"
   ]
  },
  {
   "cell_type": "code",
   "execution_count": 3,
   "metadata": {
    "collapsed": false
   },
   "outputs": [
    {
     "data": {
      "text/html": [
       "<hr><h2>Data frame:titanic3</h2>1309 observations and 14 variables, maximum # NAs:1188<hr>\n",
       "<TABLE BORDER>\n",
       "<tr><td>Name</td><td>Labels</td><td>Units</td><td>Levels</td><td>Storage</td><td>NAs</td></tr>\n",
       "<tr><td>pclass</td><td></td><td></td><td><a href=\"#pclass\"><div align=right>  3</div></a></td><td>integer</td><td><div align=right>   0</div></td></tr>\n",
       "<tr><td>survived</td><td>Survived</td><td></td><td><div align=right></div></td><td>double</td><td><div align=right>   0</div></td></tr>\n",
       "<tr><td>name</td><td>Name</td><td></td><td><div align=right></div></td><td>character</td><td><div align=right>   0</div></td></tr>\n",
       "<tr><td>sex</td><td></td><td></td><td><a href=\"#sex\"><div align=right>  2</div></a></td><td>integer</td><td><div align=right>   0</div></td></tr>\n",
       "<tr><td>age</td><td>Age</td><td>Year</td><td><div align=right></div></td><td>double</td><td><div align=right> 263</div></td></tr>\n",
       "<tr><td>sibsp</td><td>Number of Siblings/Spouses Aboard</td><td></td><td><div align=right></div></td><td>double</td><td><div align=right>   0</div></td></tr>\n",
       "<tr><td>parch</td><td>Number of Parents/Children Aboard</td><td></td><td><div align=right></div></td><td>double</td><td><div align=right>   0</div></td></tr>\n",
       "<tr><td>ticket</td><td>Ticket Number</td><td></td><td><div align=right></div></td><td>character</td><td><div align=right>   0</div></td></tr>\n",
       "<tr><td>fare</td><td>Passenger Fare</td><td>British Pound (\\243)</td><td><div align=right></div></td><td>double</td><td><div align=right>   1</div></td></tr>\n",
       "<tr><td>cabin</td><td></td><td></td><td><a href=\"#cabin\"><div align=right>187</div></a></td><td>integer</td><td><div align=right>   0</div></td></tr>\n",
       "<tr><td>embarked</td><td></td><td></td><td><a href=\"#embarked\"><div align=right>  3</div></a></td><td>integer</td><td><div align=right>   2</div></td></tr>\n",
       "<tr><td>boat</td><td></td><td></td><td><a href=\"#boat\"><div align=right> 28</div></a></td><td>integer</td><td><div align=right>   0</div></td></tr>\n",
       "<tr><td>body</td><td>Body Identification Number</td><td></td><td><div align=right></div></td><td>double</td><td><div align=right>1188</div></td></tr>\n",
       "<tr><td>home.dest</td><td>Home/Destination</td><td></td><td><div align=right></div></td><td>character</td><td><div align=right>   0</div></td></tr>\n",
       "</TABLE>\n",
       "<hr>\n",
       "<TABLE BORDER>\n",
       "<tr><td>Variable</td><td>Levels</td></tr>\n",
       "<tr><td><a name=\"pclass\">pclass</a></td><td>1st</td></tr>\n",
       "<tr><td></td><td>2nd</td></tr>\n",
       "<tr><td></td><td>3rd</td></tr>\n",
       "<tr><td><a name=\"sex\">sex</a></td><td>female</td></tr>\n",
       "<tr><td></td><td>male</td></tr>\n",
       "<tr><td><a name=\"cabin\">cabin</a></td><td></td></tr>\n",
       "<tr><td></td><td>A10</td></tr>\n",
       "<tr><td></td><td>A11</td></tr>\n",
       "<tr><td></td><td>A14</td></tr>\n",
       "<tr><td></td><td>A16</td></tr>\n",
       "<tr><td></td><td>A18</td></tr>\n",
       "<tr><td></td><td>A19</td></tr>\n",
       "<tr><td></td><td>A20</td></tr>\n",
       "<tr><td></td><td>A21</td></tr>\n",
       "<tr><td></td><td>A23</td></tr>\n",
       "<tr><td></td><td>A24</td></tr>\n",
       "<tr><td></td><td>A26</td></tr>\n",
       "<tr><td></td><td>A29</td></tr>\n",
       "<tr><td></td><td>A31</td></tr>\n",
       "<tr><td></td><td>A32</td></tr>\n",
       "<tr><td></td><td>A34</td></tr>\n",
       "<tr><td></td><td>A36</td></tr>\n",
       "<tr><td></td><td>A5</td></tr>\n",
       "<tr><td></td><td>A6</td></tr>\n",
       "<tr><td></td><td>A7</td></tr>\n",
       "<tr><td></td><td>A9</td></tr>\n",
       "<tr><td></td><td>B10</td></tr>\n",
       "<tr><td></td><td>B101</td></tr>\n",
       "<tr><td></td><td>B102</td></tr>\n",
       "<tr><td></td><td>B11</td></tr>\n",
       "<tr><td></td><td>B18</td></tr>\n",
       "<tr><td></td><td>B19</td></tr>\n",
       "<tr><td></td><td>B20</td></tr>\n",
       "<tr><td></td><td>B22</td></tr>\n",
       "<tr><td></td><td>B24</td></tr>\n",
       "<tr><td></td><td>B26</td></tr>\n",
       "<tr><td></td><td>B28</td></tr>\n",
       "<tr><td></td><td>B3</td></tr>\n",
       "<tr><td></td><td>B30</td></tr>\n",
       "<tr><td></td><td>B35</td></tr>\n",
       "<tr><td></td><td>B36</td></tr>\n",
       "<tr><td></td><td>B37</td></tr>\n",
       "<tr><td></td><td>B38</td></tr>\n",
       "<tr><td></td><td>B39</td></tr>\n",
       "<tr><td></td><td>B4</td></tr>\n",
       "<tr><td></td><td>B41</td></tr>\n",
       "<tr><td></td><td>B42</td></tr>\n",
       "<tr><td></td><td>B45</td></tr>\n",
       "<tr><td></td><td>B49</td></tr>\n",
       "<tr><td></td><td>B5</td></tr>\n",
       "<tr><td></td><td>B50</td></tr>\n",
       "<tr><td></td><td>B51 B53 B55</td></tr>\n",
       "<tr><td></td><td>B52 B54 B56</td></tr>\n",
       "<tr><td></td><td>B57 B59 B63 B66</td></tr>\n",
       "<tr><td></td><td>B58 B60</td></tr>\n",
       "<tr><td></td><td>B61</td></tr>\n",
       "<tr><td></td><td>B69</td></tr>\n",
       "<tr><td></td><td>B71</td></tr>\n",
       "<tr><td></td><td>B73</td></tr>\n",
       "<tr><td></td><td>B77</td></tr>\n",
       "<tr><td></td><td>B78</td></tr>\n",
       "<tr><td></td><td>B79</td></tr>\n",
       "<tr><td></td><td>B80</td></tr>\n",
       "<tr><td></td><td>B82 B84</td></tr>\n",
       "<tr><td></td><td>B86</td></tr>\n",
       "<tr><td></td><td>B94</td></tr>\n",
       "<tr><td></td><td>B96 B98</td></tr>\n",
       "<tr><td></td><td>C101</td></tr>\n",
       "<tr><td></td><td>C103</td></tr>\n",
       "<tr><td></td><td>C104</td></tr>\n",
       "<tr><td></td><td>C105</td></tr>\n",
       "<tr><td></td><td>C106</td></tr>\n",
       "<tr><td></td><td>C110</td></tr>\n",
       "<tr><td></td><td>C111</td></tr>\n",
       "<tr><td></td><td>C116</td></tr>\n",
       "<tr><td></td><td>C118</td></tr>\n",
       "<tr><td></td><td>C123</td></tr>\n",
       "<tr><td></td><td>C124</td></tr>\n",
       "<tr><td></td><td>C125</td></tr>\n",
       "<tr><td></td><td>C126</td></tr>\n",
       "<tr><td></td><td>C128</td></tr>\n",
       "<tr><td></td><td>C130</td></tr>\n",
       "<tr><td></td><td>C132</td></tr>\n",
       "<tr><td></td><td>C148</td></tr>\n",
       "<tr><td></td><td>C2</td></tr>\n",
       "<tr><td></td><td>C22 C26</td></tr>\n",
       "<tr><td></td><td>C23 C25 C27</td></tr>\n",
       "<tr><td></td><td>C28</td></tr>\n",
       "<tr><td></td><td>C30</td></tr>\n",
       "<tr><td></td><td>C31</td></tr>\n",
       "<tr><td></td><td>C32</td></tr>\n",
       "<tr><td></td><td>C39</td></tr>\n",
       "<tr><td></td><td>C45</td></tr>\n",
       "<tr><td></td><td>C46</td></tr>\n",
       "<tr><td></td><td>C47</td></tr>\n",
       "<tr><td></td><td>C49</td></tr>\n",
       "<tr><td></td><td>C50</td></tr>\n",
       "<tr><td></td><td>C51</td></tr>\n",
       "<tr><td></td><td>C52</td></tr>\n",
       "<tr><td></td><td>C53</td></tr>\n",
       "<tr><td></td><td>C54</td></tr>\n",
       "<tr><td></td><td>C55 C57</td></tr>\n",
       "<tr><td></td><td>C6</td></tr>\n",
       "<tr><td></td><td>C62 C64</td></tr>\n",
       "<tr><td></td><td>C65</td></tr>\n",
       "<tr><td></td><td>C68</td></tr>\n",
       "<tr><td></td><td>C7</td></tr>\n",
       "<tr><td></td><td>C70</td></tr>\n",
       "<tr><td></td><td>C78</td></tr>\n",
       "<tr><td></td><td>C80</td></tr>\n",
       "<tr><td></td><td>C82</td></tr>\n",
       "<tr><td></td><td>C83</td></tr>\n",
       "<tr><td></td><td>C85</td></tr>\n",
       "<tr><td></td><td>C86</td></tr>\n",
       "<tr><td></td><td>C87</td></tr>\n",
       "<tr><td></td><td>C89</td></tr>\n",
       "<tr><td></td><td>C90</td></tr>\n",
       "<tr><td></td><td>C91</td></tr>\n",
       "<tr><td></td><td>C92</td></tr>\n",
       "<tr><td></td><td>C93</td></tr>\n",
       "<tr><td></td><td>C95</td></tr>\n",
       "<tr><td></td><td>C97</td></tr>\n",
       "<tr><td></td><td>C99</td></tr>\n",
       "<tr><td></td><td>D</td></tr>\n",
       "<tr><td></td><td>D10 D12</td></tr>\n",
       "<tr><td></td><td>D11</td></tr>\n",
       "<tr><td></td><td>D15</td></tr>\n",
       "<tr><td></td><td>D17</td></tr>\n",
       "<tr><td></td><td>D19</td></tr>\n",
       "<tr><td></td><td>D20</td></tr>\n",
       "<tr><td></td><td>D21</td></tr>\n",
       "<tr><td></td><td>D22</td></tr>\n",
       "<tr><td></td><td>D26</td></tr>\n",
       "<tr><td></td><td>D28</td></tr>\n",
       "<tr><td></td><td>D30</td></tr>\n",
       "<tr><td></td><td>D33</td></tr>\n",
       "<tr><td></td><td>D34</td></tr>\n",
       "<tr><td></td><td>D35</td></tr>\n",
       "<tr><td></td><td>D36</td></tr>\n",
       "<tr><td></td><td>D37</td></tr>\n",
       "<tr><td></td><td>D38</td></tr>\n",
       "<tr><td></td><td>D40</td></tr>\n",
       "<tr><td></td><td>D43</td></tr>\n",
       "<tr><td></td><td>D45</td></tr>\n",
       "<tr><td></td><td>D46</td></tr>\n",
       "<tr><td></td><td>D47</td></tr>\n",
       "<tr><td></td><td>D48</td></tr>\n",
       "<tr><td></td><td>D49</td></tr>\n",
       "<tr><td></td><td>D50</td></tr>\n",
       "<tr><td></td><td>D56</td></tr>\n",
       "<tr><td></td><td>D6</td></tr>\n",
       "<tr><td></td><td>D7</td></tr>\n",
       "<tr><td></td><td>D9</td></tr>\n",
       "<tr><td></td><td>E10</td></tr>\n",
       "<tr><td></td><td>E101</td></tr>\n",
       "<tr><td></td><td>E12</td></tr>\n",
       "<tr><td></td><td>E121</td></tr>\n",
       "<tr><td></td><td>E17</td></tr>\n",
       "<tr><td></td><td>E24</td></tr>\n",
       "<tr><td></td><td>E25</td></tr>\n",
       "<tr><td></td><td>E31</td></tr>\n",
       "<tr><td></td><td>E33</td></tr>\n",
       "<tr><td></td><td>E34</td></tr>\n",
       "<tr><td></td><td>E36</td></tr>\n",
       "<tr><td></td><td>E38</td></tr>\n",
       "<tr><td></td><td>E39 E41</td></tr>\n",
       "<tr><td></td><td>E40</td></tr>\n",
       "<tr><td></td><td>E44</td></tr>\n",
       "<tr><td></td><td>E45</td></tr>\n",
       "<tr><td></td><td>E46</td></tr>\n",
       "<tr><td></td><td>E49</td></tr>\n",
       "<tr><td></td><td>E50</td></tr>\n",
       "<tr><td></td><td>E52</td></tr>\n",
       "<tr><td></td><td>E58</td></tr>\n",
       "<tr><td></td><td>E60</td></tr>\n",
       "<tr><td></td><td>E63</td></tr>\n",
       "<tr><td></td><td>E67</td></tr>\n",
       "<tr><td></td><td>E68</td></tr>\n",
       "<tr><td></td><td>E77</td></tr>\n",
       "<tr><td></td><td>E8</td></tr>\n",
       "<tr><td></td><td>F</td></tr>\n",
       "<tr><td></td><td>F E46</td></tr>\n",
       "<tr><td></td><td>F E57</td></tr>\n",
       "<tr><td></td><td>F E69</td></tr>\n",
       "<tr><td></td><td>F G63</td></tr>\n",
       "<tr><td></td><td>F G73</td></tr>\n",
       "<tr><td></td><td>F2</td></tr>\n",
       "<tr><td></td><td>F33</td></tr>\n",
       "<tr><td></td><td>F38</td></tr>\n",
       "<tr><td></td><td>F4</td></tr>\n",
       "<tr><td></td><td>G6</td></tr>\n",
       "<tr><td></td><td>T</td></tr>\n",
       "<tr><td><a name=\"embarked\">embarked</a></td><td>Cherbourg</td></tr>\n",
       "<tr><td></td><td>Queenstown</td></tr>\n",
       "<tr><td></td><td>Southampton</td></tr>\n",
       "<tr><td><a name=\"boat\">boat</a></td><td></td></tr>\n",
       "<tr><td></td><td>1</td></tr>\n",
       "<tr><td></td><td>10</td></tr>\n",
       "<tr><td></td><td>11</td></tr>\n",
       "<tr><td></td><td>12</td></tr>\n",
       "<tr><td></td><td>13</td></tr>\n",
       "<tr><td></td><td>13 15</td></tr>\n",
       "<tr><td></td><td>13 15 B</td></tr>\n",
       "<tr><td></td><td>14</td></tr>\n",
       "<tr><td></td><td>15</td></tr>\n",
       "<tr><td></td><td>15 16</td></tr>\n",
       "<tr><td></td><td>16</td></tr>\n",
       "<tr><td></td><td>2</td></tr>\n",
       "<tr><td></td><td>3</td></tr>\n",
       "<tr><td></td><td>4</td></tr>\n",
       "<tr><td></td><td>5</td></tr>\n",
       "<tr><td></td><td>5 7</td></tr>\n",
       "<tr><td></td><td>5 9</td></tr>\n",
       "<tr><td></td><td>6</td></tr>\n",
       "<tr><td></td><td>7</td></tr>\n",
       "<tr><td></td><td>8</td></tr>\n",
       "<tr><td></td><td>8 10</td></tr>\n",
       "<tr><td></td><td>9</td></tr>\n",
       "<tr><td></td><td>A</td></tr>\n",
       "<tr><td></td><td>B</td></tr>\n",
       "<tr><td></td><td>C</td></tr>\n",
       "<tr><td></td><td>C D</td></tr>\n",
       "<tr><td></td><td>D</td></tr>\n",
       "</TABLE>\n",
       "<hr>\n"
      ],
      "text/plain": [
       "<IPython.core.display.HTML object>"
      ]
     },
     "execution_count": 3,
     "metadata": {},
     "output_type": "execute_result"
    }
   ],
   "source": [
    "HTML(filename=DATA_FOLDER+'/titanic.html')"
   ]
  },
  {
   "cell_type": "markdown",
   "metadata": {},
   "source": [
    "Question 1: In the next 4 celles w load the data into data and create df1, a dataframe with index equal to the columns of data and with one column containing the data type of every column"
   ]
  },
  {
   "cell_type": "code",
   "execution_count": 4,
   "metadata": {
    "collapsed": true
   },
   "outputs": [],
   "source": [
    "data = pd.read_excel(DATA_FOLDER+'/titanic.xls')"
   ]
  },
  {
   "cell_type": "code",
   "execution_count": 5,
   "metadata": {
    "collapsed": false
   },
   "outputs": [],
   "source": [
    "df1 = pd.DataFrame({'attribute': list(data.columns),'type':list(data.dtypes)})"
   ]
  },
  {
   "cell_type": "code",
   "execution_count": 6,
   "metadata": {
    "collapsed": false
   },
   "outputs": [
    {
     "data": {
      "text/plain": [
       "Index(['pclass', 'survived', 'age', 'sibsp', 'parch', 'fare', 'body'], dtype='object')"
      ]
     },
     "execution_count": 6,
     "metadata": {},
     "output_type": "execute_result"
    }
   ],
   "source": [
    "data.select_dtypes(exclude=[object]).min().index"
   ]
  },
  {
   "cell_type": "code",
   "execution_count": 7,
   "metadata": {
    "collapsed": false
   },
   "outputs": [],
   "source": [
    "df1.set_index('attribute', inplace=True)"
   ]
  },
  {
   "cell_type": "markdown",
   "metadata": {},
   "source": [
    "We added a column for the min value and max value for every attribute different of object (meaning float64 and int64)"
   ]
  },
  {
   "cell_type": "code",
   "execution_count": 8,
   "metadata": {
    "collapsed": true
   },
   "outputs": [],
   "source": [
    "df1.loc[data.select_dtypes(exclude=[object]).min().index,'Min']=data.select_dtypes(exclude=[object]).min()"
   ]
  },
  {
   "cell_type": "code",
   "execution_count": 9,
   "metadata": {
    "collapsed": false
   },
   "outputs": [],
   "source": [
    "df1.loc[data.select_dtypes(exclude=[object]).max().index,'Max']=data.select_dtypes(exclude=[object]).max()"
   ]
  },
  {
   "cell_type": "markdown",
   "metadata": {},
   "source": [
    "Here we change the type of every column with less than 9 different elements"
   ]
  },
  {
   "cell_type": "code",
   "execution_count": 10,
   "metadata": {
    "collapsed": false
   },
   "outputs": [],
   "source": [
    "ind = [elem for elem in data.columns if data[elem].nunique()<9]\n",
    "for elem in ind:\n",
    "    data[elem]=data[elem].astype('category')\n",
    "    "
   ]
  },
  {
   "cell_type": "markdown",
   "metadata": {},
   "source": [
    "Question 2: We now plot the histograms of class, embarked, sex and age in the first, second, third and fourth histograms respectiveley"
   ]
  },
  {
   "cell_type": "code",
   "execution_count": 11,
   "metadata": {
    "collapsed": false
   },
   "outputs": [
    {
     "data": {
      "text/plain": [
       "<matplotlib.axes._subplots.AxesSubplot at 0x1115ab550>"
      ]
     },
     "execution_count": 11,
     "metadata": {},
     "output_type": "execute_result"
    },
    {
     "data": {
      "image/png": "[encoded data removed]",
      "text/plain": [
       "<matplotlib.figure.Figure at 0x111577fd0>"
      ]
     },
     "metadata": {},
     "output_type": "display_data"
    }
   ],
   "source": [
    "sns.countplot(x='pclass', data=data)"
   ]
  },
  {
   "cell_type": "code",
   "execution_count": 12,
   "metadata": {
    "collapsed": false
   },
   "outputs": [
    {
     "data": {
      "text/plain": [
       "<matplotlib.axes._subplots.AxesSubplot at 0x114a5d550>"
      ]
     },
     "execution_count": 12,
     "metadata": {},
     "output_type": "execute_result"
    },
    {
     "data": {
      "image/png": "[encoded data removed]",
      "text/plain": [
       "<matplotlib.figure.Figure at 0x1116a6cf8>"
      ]
     },
     "metadata": {},
     "output_type": "display_data"
    }
   ],
   "source": [
    "sns.countplot(data=data, x='embarked')"
   ]
  },
  {
   "cell_type": "code",
   "execution_count": 13,
   "metadata": {
    "collapsed": false
   },
   "outputs": [
    {
     "data": {
      "text/plain": [
       "<matplotlib.axes._subplots.AxesSubplot at 0x114a9c080>"
      ]
     },
     "execution_count": 13,
     "metadata": {},
     "output_type": "execute_result"
    },
    {
     "data": {
      "image/png": "[encoded data removed]",
      "text/plain": [
       "<matplotlib.figure.Figure at 0x114b552b0>"
      ]
     },
     "metadata": {},
     "output_type": "display_data"
    }
   ],
   "source": [
    "sns.countplot(data=data, x='sex')"
   ]
  },
  {
   "cell_type": "code",
   "execution_count": 14,
   "metadata": {
    "collapsed": false
   },
   "outputs": [
    {
     "data": {
      "text/plain": [
       "<matplotlib.axes._subplots.AxesSubplot at 0x114c8d1d0>"
      ]
     },
     "execution_count": 14,
     "metadata": {},
     "output_type": "execute_result"
    },
    {
     "data": {
      "image/png": "[encoded data removed]",
      "text/plain": [
       "<matplotlib.figure.Figure at 0x114bbdb38>"
      ]
     },
     "metadata": {},
     "output_type": "display_data"
    }
   ],
   "source": [
    "#We calculate the length of the interval of the ages, then divide it by 10 to get the number of bins we will use.\n",
    "from math import ceil\n",
    "data['age'].hist(bins=ceil((data['age'].max()-data['age'].min())/10), ec='black')"
   ]
  },
  {
   "cell_type": "markdown",
   "metadata": {},
   "source": [
    "This histogram is just made to visualize if there is a difference of the number of survivors within a same class"
   ]
  },
  {
   "cell_type": "code",
   "execution_count": 15,
   "metadata": {
    "collapsed": false
   },
   "outputs": [
    {
     "data": {
      "text/plain": [
       "<matplotlib.axes._subplots.AxesSubplot at 0x114e3b5f8>"
      ]
     },
     "execution_count": 15,
     "metadata": {},
     "output_type": "execute_result"
    },
    {
     "data": {
      "image/png": "[encoded data removed]",
      "text/plain": [
       "<matplotlib.figure.Figure at 0x114b5ca20>"
      ]
     },
     "metadata": {},
     "output_type": "display_data"
    }
   ],
   "source": [
    "sns.countplot(data=data, hue='survived', x='pclass')"
   ]
  },
  {
   "cell_type": "markdown",
   "metadata": {},
   "source": [
    "Question 3: We have noticed in our data that some cabines were put as a range of cabins for a family. \n",
    "For a group, in the cabin column we have distinct cabin as a single string. \n",
    "So we used this code to add every cabin in the range, for example if we have C34-C37 we add in a new array final_cab the cabins C34,C35,C36,C37. \n",
    "For a group we just split the string and add distinct cabine in the final array. "
   ]
  },
  {
   "cell_type": "code",
   "execution_count": 17,
   "metadata": {
    "collapsed": true
   },
   "outputs": [],
   "source": [
    "cabin1 = data['cabin'].dropna()\n",
    "#final_cab is the array where we will have all the cabins after handling ranges and distinct \n",
    "#values(there are duplicates in it). \n",
    "\n",
    "final_cab = []\n",
    "\n",
    "i = 0\n",
    "for elem in cabin1:\n",
    "        if (len(elem.split())>1):\n",
    "            tmp = re.findall(\"\\d+\", elem)\n",
    "            #here we handle the range\n",
    "            if (len(tmp) == 2):\n",
    "                tmp[0] = int(tmp[0])\n",
    "                tmp[1] = int(tmp[1])\n",
    "                tmp2 = list(range(tmp[0],tmp[1]+1))\n",
    "                for elem2 in tmp2:\n",
    "                    final_cab.append(elem[0] + str(elem2))\n",
    "            if (len(tmp) > 2):\n",
    "                #here we handle the distinct case\n",
    "                for elem3 in elem.split():\n",
    "                    final_cab.append(elem3)\n",
    "        else: \n",
    "            #here we just add the single cabin case (travial one)\n",
    "                final_cab.append(elem)\n",
    "        i=i+1\n"
   ]
  },
  {
   "cell_type": "code",
   "execution_count": 18,
   "metadata": {
    "collapsed": false
   },
   "outputs": [
    {
     "data": {
      "text/plain": [
       "<matplotlib.legend.Legend at 0x114fdf0f0>"
      ]
     },
     "execution_count": 18,
     "metadata": {},
     "output_type": "execute_result"
    },
    {
     "data": {
      "image/png": "[encoded data removed]",
      "text/plain": [
       "<matplotlib.figure.Figure at 0x114fe48d0>"
      ]
     },
     "metadata": {},
     "output_type": "display_data"
    }
   ],
   "source": [
    "#here we make sure that we have an array of unique cabins, so that we can count the proportion\n",
    "#of passengers by cabin. \n",
    "\n",
    "distinct_cab_proportion = pd.DataFrame()\n",
    "#distinct_cab_proportion is the resulting dataframe. \n",
    "final_cab_distinct = []\n",
    "#final_cab_distinct contains the distinct cabins that we have. \n",
    "\n",
    "for elem in final_cab:\n",
    "    final_cab_distinct.append(elem[0])\n",
    "final_cab_distinct = list(set(final_cab_distinct))\n",
    "\n",
    "length = len(final_cab_distinct)\n",
    "zeros = np.zeros(length)\n",
    "\n",
    "for elem in final_cab: \n",
    "    ind = 0\n",
    "    for elem2 in final_cab_distinct:\n",
    "        if elem[0] == elem2:\n",
    "            zeros[ind] = zeros[ind] + 1\n",
    "        ind=ind+1\n",
    "\n",
    "distinct_cab_proportion['Cabin_floor'] = final_cab_distinct\n",
    "distinct_cab_proportion['Number_of_persons'] = zeros/len(final_cab)\n",
    "\n",
    "#plots\n",
    "colors = ['gold', 'red', 'blue', 'navy', 'maroon', 'green', 'skyblue', 'deeppink']\n",
    "\n",
    "fig = plt.figure(figsize=(15,15))\n",
    "\n",
    "plt.pie(distinct_cab_proportion['Number_of_persons'], labels = distinct_cab_proportion['Cabin_floor'], colors=colors,autopct='%1.1f%%')\n",
    "plt.legend(distinct_cab_proportion['Cabin_floor'])"
   ]
  },
  {
   "cell_type": "markdown",
   "metadata": {},
   "source": [
    "Question 4: For the next 2 cells we calculate the survival rate by class"
   ]
  },
  {
   "cell_type": "code",
   "execution_count": 19,
   "metadata": {
    "collapsed": false
   },
   "outputs": [],
   "source": [
    "classes = data['pclass'].unique()\n",
    "proportion_survived_by_class = [data.loc[data['pclass']==cls,'survived'].astype('int').mean() for cls in classes]"
   ]
  },
  {
   "cell_type": "code",
   "execution_count": 20,
   "metadata": {
    "collapsed": false
   },
   "outputs": [
    {
     "data": {
      "text/plain": [
       "<matplotlib.legend.Legend at 0x115895518>"
      ]
     },
     "execution_count": 20,
     "metadata": {},
     "output_type": "execute_result"
    },
    {
     "data": {
      "image/png": "[encoded data removed]",
      "text/plain": [
       "<matplotlib.figure.Figure at 0x114c7b9e8>"
      ]
     },
     "metadata": {},
     "output_type": "display_data"
    }
   ],
   "source": [
    "fig = plt.figure(figsize=(10,10))\n",
    "plt.pie(proportion_survived_by_class, labels='First class,Second class,Third class'.split(','))\n",
    "plt.title('Survival rate by class')\n",
    "plt.legend('First class,Second class,Third class'.split(','), loc=1)"
   ]
  },
  {
   "cell_type": "markdown",
   "metadata": {},
   "source": [
    "In the next 2 cells we create df_class_sex which contains the cartesian product of the set of classe and the set of sex"
   ]
  },
  {
   "cell_type": "code",
   "execution_count": 21,
   "metadata": {
    "collapsed": false
   },
   "outputs": [],
   "source": [
    "df_class = pd.DataFrame({'pclass':data['pclass'].unique(), 'key': np.zeros(data['pclass'].nunique())})\n",
    "df_sex = pd.DataFrame({'key': np.zeros(data['sex'].nunique()), 'sex': data['sex'].unique()})"
   ]
  },
  {
   "cell_type": "code",
   "execution_count": 22,
   "metadata": {
    "collapsed": false
   },
   "outputs": [],
   "source": [
    "df_class_sex = pd.merge(df_class, df_sex, on = 'key')[['pclass', 'sex']]"
   ]
  },
  {
   "cell_type": "markdown",
   "metadata": {},
   "source": [
    "In the next cell, we iterate over df_class_sex, filtering the rows by the sex and the class in which our iterator is,\n",
    "we then calculate the survivale rate and the number of survivors for every couple of class and sex that we put in a\n",
    "3-tuple, we then set the index of the table to sex/class"
   ]
  },
  {
   "cell_type": "code",
   "execution_count": 23,
   "metadata": {
    "collapsed": false
   },
   "outputs": [],
   "source": [
    "df_mean_class_sex = pd.DataFrame([('{}/{}'.format(df_class_sex.iloc[i,1],df_class_sex.iloc[i,0].astype('str')),data.loc[(data['pclass']==df_class_sex.iloc[i,0]) & (data['sex']==df_class_sex.iloc[i,1]),'survived'].astype('int').mean(),data.loc[(data['pclass']==df_class_sex.iloc[i,0]) & (data['sex']==df_class_sex.iloc[i,1]),'survived'].astype('int').sum()) for i in range(df_class_sex.shape[0])], columns='sex/class,survival rate,number of survivors'.split(','))\n",
    "\n",
    "\n",
    "df_mean_class_sex.set_index('sex/class', inplace=True)"
   ]
  },
  {
   "cell_type": "markdown",
   "metadata": {},
   "source": [
    "We wanted to show the difference between the suvival rate among a class vs the proportion of suvivor of one class amongst all suvivors, clearly it is not the same thing as these 2 plots show us. Even though there is more males from third class that survived than from 2nd class, the survival rate of mens of 1st class is far better than in the 3rd class"
   ]
  },
  {
   "cell_type": "code",
   "execution_count": 24,
   "metadata": {
    "collapsed": false
   },
   "outputs": [
    {
     "data": {
      "text/plain": [
       "<Container object of 6 artists>"
      ]
     },
     "execution_count": 24,
     "metadata": {},
     "output_type": "execute_result"
    },
    {
     "data": {
      "image/png": "[encoded data removed]",
      "text/plain": [
       "<matplotlib.figure.Figure at 0x114e69dd8>"
      ]
     },
     "metadata": {},
     "output_type": "display_data"
    }
   ],
   "source": [
    "fig, axes = plt.subplots(nrows=1, ncols=2, figsize=(20,8))\n",
    "axes[0].pie(df_mean_class_sex['number of survivors'], labels = df_mean_class_sex.index, autopct='%1.2f%%')\n",
    "axes[1].bar(height=df_mean_class_sex['survival rate'], left=range(len(df_mean_class_sex['survival rate'])), tick_label = df_mean_class_sex.index)"
   ]
  },
  {
   "cell_type": "markdown",
   "metadata": {},
   "source": [
    "Question 5: Histogram of suvival rate by class and sex (female/1 means sex: female, class: 1st for example)"
   ]
  },
  {
   "cell_type": "code",
   "execution_count": 25,
   "metadata": {
    "collapsed": false
   },
   "outputs": [
    {
     "data": {
      "text/plain": [
       "<matplotlib.axes._subplots.AxesSubplot at 0x114f7fc18>"
      ]
     },
     "execution_count": 25,
     "metadata": {},
     "output_type": "execute_result"
    },
    {
     "data": {
      "image/png": "[encoded data removed]",
      "text/plain": [
       "<matplotlib.figure.Figure at 0x114c7bf28>"
      ]
     },
     "metadata": {},
     "output_type": "display_data"
    }
   ],
   "source": [
    "df_mean_class_sex['survival rate'].plot(kind='bar')"
   ]
  },
  {
   "cell_type": "markdown",
   "metadata": {},
   "source": [
    "Question 6: We start by creating a DataFrame containing the cartesian product of class, sex and age category.\n",
    "Age category was constructed by droping all the na values, selecting the correponding rows from data, creating a column age category in which you are in category 0 if you are under 28 (the 50% quantile) and 1 otherwise.\n",
    "\n",
    "Using the 50% quantile splitted the data into 2 age categories of length 510 and 536, which we consider as \"equally\" populated. This choice was the most natural choice for us."
   ]
  },
  {
   "cell_type": "code",
   "execution_count": 26,
   "metadata": {
    "collapsed": true
   },
   "outputs": [],
   "source": [
    "df_class_sex['key']=np.zeros(len(df_class_sex.index))"
   ]
  },
  {
   "cell_type": "code",
   "execution_count": 27,
   "metadata": {
    "collapsed": true
   },
   "outputs": [],
   "source": [
    "df_class_sex_age_cat = pd.merge(left=df_class_sex, right=pd.DataFrame({'age category':pd.Series([0,1]), 'key':np.zeros(2)}), on='key')['sex,pclass,age category'.split(',')]\n"
   ]
  },
  {
   "cell_type": "code",
   "execution_count": 28,
   "metadata": {
    "collapsed": true
   },
   "outputs": [],
   "source": [
    "our_indexes = data['age'].dropna().index"
   ]
  },
  {
   "cell_type": "code",
   "execution_count": 29,
   "metadata": {
    "collapsed": true
   },
   "outputs": [],
   "source": [
    "new_data = data.loc[our_indexes, 'survived sex pclass age'.split()]"
   ]
  },
  {
   "cell_type": "code",
   "execution_count": 30,
   "metadata": {
    "collapsed": true
   },
   "outputs": [],
   "source": [
    "new_data['age category']=new_data['age'].apply(lambda x: 0 if x <= 28 else 1)"
   ]
  },
  {
   "cell_type": "markdown",
   "metadata": {},
   "source": [
    "Here we calculate the survival rate and the number of survivors for each sex/class/age category set-up using the same logic as the precedent question and loading everything into a DataFrame"
   ]
  },
  {
   "cell_type": "code",
   "execution_count": 31,
   "metadata": {
    "collapsed": true
   },
   "outputs": [],
   "source": [
    "avg_class_sex_age_cat = pd.DataFrame([('{}/{}/{}'.format(df_class_sex_age_cat.loc[i,'sex'], df_class_sex_age_cat.loc[i,'pclass'],df_class_sex_age_cat.loc[i,'age category']), new_data.loc[(new_data['sex']==df_class_sex_age_cat.loc[i,'sex'])&(new_data['pclass']==df_class_sex_age_cat.loc[i,'pclass'])&(new_data['age category']==df_class_sex_age_cat.loc[i,'age category']),'survived'].astype('int').mean(),new_data.loc[(new_data['sex']==df_class_sex_age_cat.loc[i,'sex'])&(new_data['pclass']==df_class_sex_age_cat.loc[i,'pclass'])&(new_data['age category']==df_class_sex_age_cat.loc[i,'age category']),'survived'].astype('int').sum()) for i in range(df_class_sex_age_cat.shape[0])], columns='sex/class/age category,survival rate,number of survivors'.split(','))\n",
    "\n",
    "\n",
    "avg_class_sex_age_cat.set_index(keys=['sex/class/age category'], inplace=True)\n",
    "\n"
   ]
  },
  {
   "cell_type": "code",
   "execution_count": 32,
   "metadata": {
    "collapsed": false
   },
   "outputs": [
    {
     "data": {
      "text/html": [
       "<div>\n",
       "<table border=\"1\" class=\"dataframe\">\n",
       "  <thead>\n",
       "    <tr style=\"text-align: right;\">\n",
       "      <th></th>\n",
       "      <th>survival rate</th>\n",
       "      <th>number of survivors</th>\n",
       "    </tr>\n",
       "    <tr>\n",
       "      <th>sex/class/age category</th>\n",
       "      <th></th>\n",
       "      <th></th>\n",
       "    </tr>\n",
       "  </thead>\n",
       "  <tbody>\n",
       "    <tr>\n",
       "      <th>female/1/0</th>\n",
       "      <td>0.951220</td>\n",
       "      <td>39</td>\n",
       "    </tr>\n",
       "    <tr>\n",
       "      <th>female/1/1</th>\n",
       "      <td>0.967391</td>\n",
       "      <td>89</td>\n",
       "    </tr>\n",
       "    <tr>\n",
       "      <th>male/1/0</th>\n",
       "      <td>0.531250</td>\n",
       "      <td>17</td>\n",
       "    </tr>\n",
       "    <tr>\n",
       "      <th>male/1/1</th>\n",
       "      <td>0.302521</td>\n",
       "      <td>36</td>\n",
       "    </tr>\n",
       "    <tr>\n",
       "      <th>female/2/0</th>\n",
       "      <td>0.910714</td>\n",
       "      <td>51</td>\n",
       "    </tr>\n",
       "    <tr>\n",
       "      <th>female/2/1</th>\n",
       "      <td>0.872340</td>\n",
       "      <td>41</td>\n",
       "    </tr>\n",
       "    <tr>\n",
       "      <th>male/2/0</th>\n",
       "      <td>0.216216</td>\n",
       "      <td>16</td>\n",
       "    </tr>\n",
       "    <tr>\n",
       "      <th>male/2/1</th>\n",
       "      <td>0.083333</td>\n",
       "      <td>7</td>\n",
       "    </tr>\n",
       "    <tr>\n",
       "      <th>female/3/0</th>\n",
       "      <td>0.513761</td>\n",
       "      <td>56</td>\n",
       "    </tr>\n",
       "    <tr>\n",
       "      <th>female/3/1</th>\n",
       "      <td>0.372093</td>\n",
       "      <td>16</td>\n",
       "    </tr>\n",
       "    <tr>\n",
       "      <th>male/3/0</th>\n",
       "      <td>0.183036</td>\n",
       "      <td>41</td>\n",
       "    </tr>\n",
       "    <tr>\n",
       "      <th>male/3/1</th>\n",
       "      <td>0.144000</td>\n",
       "      <td>18</td>\n",
       "    </tr>\n",
       "  </tbody>\n",
       "</table>\n",
       "</div>"
      ],
      "text/plain": [
       "                        survival rate  number of survivors\n",
       "sex/class/age category                                    \n",
       "female/1/0                   0.951220                   39\n",
       "female/1/1                   0.967391                   89\n",
       "male/1/0                     0.531250                   17\n",
       "male/1/1                     0.302521                   36\n",
       "female/2/0                   0.910714                   51\n",
       "female/2/1                   0.872340                   41\n",
       "male/2/0                     0.216216                   16\n",
       "male/2/1                     0.083333                    7\n",
       "female/3/0                   0.513761                   56\n",
       "female/3/1                   0.372093                   16\n",
       "male/3/0                     0.183036                   41\n",
       "male/3/1                     0.144000                   18"
      ]
     },
     "execution_count": 32,
     "metadata": {},
     "output_type": "execute_result"
    }
   ],
   "source": [
    "avg_class_sex_age_cat"
   ]
  }
 ],
 "metadata": {
  "kernelspec": {
   "display_name": "Python 3",
   "language": "python",
   "name": "python3"
  },
  "language_info": {
   "codemirror_mode": {
    "name": "ipython",
    "version": 3
   },
   "file_extension": ".py",
   "mimetype": "text/x-python",
   "name": "python",
   "nbconvert_exporter": "python",
   "pygments_lexer": "ipython3",
   "version": "3.6.0"
  }
 },
 "nbformat": 4,
 "nbformat_minor": 2
}
