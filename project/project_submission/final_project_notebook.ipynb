{
 "cells": [
  {
   "cell_type": "markdown",
   "metadata": {},
   "source": [
    "# Deep into Computer Science Publications - Milestone 3\n",
    "**Applied Data Analysis @ EPFL -** By Nour Ghalia Abbassi, Khalil Cherif, and Aymen Gannouni"
   ]
  },
  {
   "cell_type": "code",
   "execution_count": 442,
   "metadata": {},
   "outputs": [],
   "source": [
    "import pandas as pd\n",
    "import pyarrow\n",
    "import fastparquet\n",
    "import json\n",
    "import numpy as np\n",
    "import seaborn as sns\n",
    "%matplotlib inline \n",
    "import time\n",
    "import matplotlib.pyplot as plt\n",
    "from sklearn.feature_extraction.text import TfidfVectorizer\n",
    "from sklearn.decomposition import TruncatedSVD\n",
    "from sklearn.random_projection import sparse_random_matrix\n",
    "from sklearn.cluster import KMeans\n",
    "from scipy.spatial.distance import cdist\n",
    "from scipy.spatial.distance import cdist\n",
    "from sklearn.metrics import silhouette_score\n",
    "import matplotlib.pyplot as plt\n",
    "%matplotlib inline\n",
    "from tqdm import tqdm\n"
   ]
  },
  {
   "cell_type": "markdown",
   "metadata": {},
   "source": [
    "## Load complete data "
   ]
  },
  {
   "cell_type": "markdown",
   "metadata": {},
   "source": [
    "The data was cleaned in the other ipynb file where we did the scrapping. Here we are only doing the analysis and the clustering."
   ]
  },
  {
   "cell_type": "code",
   "execution_count": 2,
   "metadata": {},
   "outputs": [],
   "source": [
    "#load all our dataset\n",
    "path = '/Users/nourghaliaabassi/Downloads/dblp-ref/dblp-ref-0.json'\n",
    "doc = []\n",
    "for i in range(4):\n",
    "    file = open('/Users/nourghaliaabassi/Downloads/dblp-ref/dblp-ref-'+str(i)+'.json') \n",
    "    for line in file:\n",
    "        j_content = json.loads(line)\n",
    "        doc.append(j_content)\n",
    "doc = pd.DataFrame(doc)"
   ]
  },
  {
   "cell_type": "code",
   "execution_count": 4,
   "metadata": {},
   "outputs": [],
   "source": [
    "#load the page_rank algorithm applied to our publications\n",
    "page_rank = pd.read_parquet('/Users/nourghaliaabassi/Downloads/final_page_rank')"
   ]
  },
  {
   "cell_type": "code",
   "execution_count": 314,
   "metadata": {},
   "outputs": [],
   "source": [
    "#append the pagerank results to our dataframe and sort it depending on the pagerank score\n",
    "page_rank_df = doc.merge(page_rank, on = 'id')\n",
    "page_rank_df.sort_values(by = 'pagerank', ascending=False, inplace = True)"
   ]
  },
  {
   "cell_type": "code",
   "execution_count": 349,
   "metadata": {},
   "outputs": [
    {
     "data": {
      "text/html": [
       "<div>\n",
       "<style scoped>\n",
       "    .dataframe tbody tr th:only-of-type {\n",
       "        vertical-align: middle;\n",
       "    }\n",
       "\n",
       "    .dataframe tbody tr th {\n",
       "        vertical-align: top;\n",
       "    }\n",
       "\n",
       "    .dataframe thead th {\n",
       "        text-align: right;\n",
       "    }\n",
       "</style>\n",
       "<table border=\"1\" class=\"dataframe\">\n",
       "  <thead>\n",
       "    <tr style=\"text-align: right;\">\n",
       "      <th></th>\n",
       "      <th>abstract</th>\n",
       "      <th>authors</th>\n",
       "      <th>id</th>\n",
       "      <th>references</th>\n",
       "      <th>title</th>\n",
       "      <th>venue</th>\n",
       "      <th>year</th>\n",
       "      <th>pagerank</th>\n",
       "    </tr>\n",
       "  </thead>\n",
       "  <tbody>\n",
       "    <tr>\n",
       "      <th>1437201</th>\n",
       "      <td>Finite automata are considered in this paper a...</td>\n",
       "      <td>[Michael O. Rabin, Dana S. Scott]</td>\n",
       "      <td>b0f6455a-6f99-42c5-8502-4fa535768ceb</td>\n",
       "      <td>[1cecb6af-a150-4abe-a950-6ceab75d015f]</td>\n",
       "      <td>Finite automata and their decision problems</td>\n",
       "      <td>Ibm Journal of Research and Development</td>\n",
       "      <td>1959</td>\n",
       "      <td>2018.186268</td>\n",
       "    </tr>\n",
       "    <tr>\n",
       "      <th>804326</th>\n",
       "      <td>Rabin has proved1,2 that two-way finite automa...</td>\n",
       "      <td>[J. C. Shepherdson]</td>\n",
       "      <td>1cecb6af-a150-4abe-a950-6ceab75d015f</td>\n",
       "      <td>[b0f6455a-6f99-42c5-8502-4fa535768ceb]</td>\n",
       "      <td>The reduction of two-way automata to one-way a...</td>\n",
       "      <td>Ibm Journal of Research and Development</td>\n",
       "      <td>1959</td>\n",
       "      <td>1820.104506</td>\n",
       "    </tr>\n",
       "    <tr>\n",
       "      <th>557560</th>\n",
       "      <td>From the Publisher:#R##N#With this text, you g...</td>\n",
       "      <td>[Alfred V. Aho, John E. Hopcroft]</td>\n",
       "      <td>a662a4e7-415e-417e-8a8f-fe085d7e487f</td>\n",
       "      <td>[]</td>\n",
       "      <td>The Design and Analysis of Computer Algorithms</td>\n",
       "      <td></td>\n",
       "      <td>1974</td>\n",
       "      <td>1396.062942</td>\n",
       "    </tr>\n",
       "    <tr>\n",
       "      <th>1283932</th>\n",
       "      <td>It is shown that any recognition problem solve...</td>\n",
       "      <td>[Stephen A. Cook]</td>\n",
       "      <td>8d09527f-b5ad-4902-ba34-5583f6759d3b</td>\n",
       "      <td>[c0a69970-4b14-492a-adcc-6928988a9f2a, c5dbdb9...</td>\n",
       "      <td>The complexity of theorem-proving procedures</td>\n",
       "      <td>symposium on the theory of computing</td>\n",
       "      <td>1971</td>\n",
       "      <td>1364.043082</td>\n",
       "    </tr>\n",
       "    <tr>\n",
       "      <th>2384088</th>\n",
       "      <td>Two kinds of contemporary developments in cryp...</td>\n",
       "      <td>[Whitfield Diffie, Martin E. Hellman]</td>\n",
       "      <td>ca394e6a-59e0-466c-a66a-d976555db689</td>\n",
       "      <td>[172f9f68-8417-43bb-8fe5-b377d569f6b6, 360dc1b...</td>\n",
       "      <td>New Directions in Cryptography</td>\n",
       "      <td>IEEE Transactions on Information Theory</td>\n",
       "      <td>1976</td>\n",
       "      <td>1238.157584</td>\n",
       "    </tr>\n",
       "  </tbody>\n",
       "</table>\n",
       "</div>"
      ],
      "text/plain": [
       "                                                  abstract  \\\n",
       "1437201  Finite automata are considered in this paper a...   \n",
       "804326   Rabin has proved1,2 that two-way finite automa...   \n",
       "557560   From the Publisher:#R##N#With this text, you g...   \n",
       "1283932  It is shown that any recognition problem solve...   \n",
       "2384088  Two kinds of contemporary developments in cryp...   \n",
       "\n",
       "                                       authors  \\\n",
       "1437201      [Michael O. Rabin, Dana S. Scott]   \n",
       "804326                     [J. C. Shepherdson]   \n",
       "557560       [Alfred V. Aho, John E. Hopcroft]   \n",
       "1283932                      [Stephen A. Cook]   \n",
       "2384088  [Whitfield Diffie, Martin E. Hellman]   \n",
       "\n",
       "                                           id  \\\n",
       "1437201  b0f6455a-6f99-42c5-8502-4fa535768ceb   \n",
       "804326   1cecb6af-a150-4abe-a950-6ceab75d015f   \n",
       "557560   a662a4e7-415e-417e-8a8f-fe085d7e487f   \n",
       "1283932  8d09527f-b5ad-4902-ba34-5583f6759d3b   \n",
       "2384088  ca394e6a-59e0-466c-a66a-d976555db689   \n",
       "\n",
       "                                                references  \\\n",
       "1437201             [1cecb6af-a150-4abe-a950-6ceab75d015f]   \n",
       "804326              [b0f6455a-6f99-42c5-8502-4fa535768ceb]   \n",
       "557560                                                  []   \n",
       "1283932  [c0a69970-4b14-492a-adcc-6928988a9f2a, c5dbdb9...   \n",
       "2384088  [172f9f68-8417-43bb-8fe5-b377d569f6b6, 360dc1b...   \n",
       "\n",
       "                                                     title  \\\n",
       "1437201        Finite automata and their decision problems   \n",
       "804326   The reduction of two-way automata to one-way a...   \n",
       "557560      The Design and Analysis of Computer Algorithms   \n",
       "1283932       The complexity of theorem-proving procedures   \n",
       "2384088                     New Directions in Cryptography   \n",
       "\n",
       "                                           venue  year     pagerank  \n",
       "1437201  Ibm Journal of Research and Development  1959  2018.186268  \n",
       "804326   Ibm Journal of Research and Development  1959  1820.104506  \n",
       "557560                                            1974  1396.062942  \n",
       "1283932     symposium on the theory of computing  1971  1364.043082  \n",
       "2384088  IEEE Transactions on Information Theory  1976  1238.157584  "
      ]
     },
     "execution_count": 349,
     "metadata": {},
     "output_type": "execute_result"
    }
   ],
   "source": [
    "page_rank_df.head()"
   ]
  },
  {
   "cell_type": "code",
   "execution_count": 320,
   "metadata": {},
   "outputs": [
    {
     "data": {
      "image/png": "[encoded data removed]",
      "text/plain": [
       "<matplotlib.figure.Figure at 0x11f363128>"
      ]
     },
     "metadata": {},
     "output_type": "display_data"
    }
   ],
   "source": [
    "#plot the first 200000 publication/years that have the best pagerank\n",
    "plt.title('first 200000 pageranked publications per year')\n",
    "plt.xlabel('years')\n",
    "plt.ylabel('average pagerank')\n",
    "fig = plt.scatter(x =page_rank_df[:200000]['year'], y = page_rank_df[:200000]['pagerank'])"
   ]
  },
  {
   "cell_type": "code",
   "execution_count": 265,
   "metadata": {},
   "outputs": [
    {
     "data": {
      "image/png": "[encoded data removed]",
      "text/plain": [
       "<matplotlib.figure.Figure at 0x11d8caac8>"
      ]
     },
     "metadata": {},
     "output_type": "display_data"
    }
   ],
   "source": [
    "# number of publications per year\n",
    "page_rank_df.hist(column='year',bins = 30, label= 'year', rwidth= 0.9,figsize=[15,7])\n",
    "plt.title('number of publications per year intervals')\n",
    "plt.xlabel('years')\n",
    "plt.ylabel('publications_count')\n",
    "plt.tight_layout()"
   ]
  },
  {
   "cell_type": "code",
   "execution_count": 332,
   "metadata": {},
   "outputs": [
    {
     "data": {
      "image/png": "[encoded data removed]",
      "text/plain": [
       "<matplotlib.figure.Figure at 0x11f8d8d30>"
      ]
     },
     "metadata": {},
     "output_type": "display_data"
    }
   ],
   "source": [
    "# zoom on the number of publications per year starting from 1965\n",
    "page_rank_df[page_rank_df['year']>1965].hist(column='year',bins = 30, label= 'year', rwidth= 0.9,figsize=[15,7])\n",
    "plt.title('number of publications per year intervals starting from 1965')\n",
    "plt.xlabel('years')\n",
    "plt.ylabel('publications_count')\n",
    "plt.tight_layout()"
   ]
  },
  {
   "cell_type": "code",
   "execution_count": 281,
   "metadata": {
    "collapsed": true
   },
   "outputs": [],
   "source": [
    "#calculating the average pagerank per year\n",
    "average_year_PR = page_rank_df.groupby(by ='year').mean().sort_values(by = 'pagerank', ascending = False).reset_index()"
   ]
  },
  {
   "cell_type": "code",
   "execution_count": 282,
   "metadata": {},
   "outputs": [
    {
     "data": {
      "text/html": [
       "<div>\n",
       "<style scoped>\n",
       "    .dataframe tbody tr th:only-of-type {\n",
       "        vertical-align: middle;\n",
       "    }\n",
       "\n",
       "    .dataframe tbody tr th {\n",
       "        vertical-align: top;\n",
       "    }\n",
       "\n",
       "    .dataframe thead th {\n",
       "        text-align: right;\n",
       "    }\n",
       "</style>\n",
       "<table border=\"1\" class=\"dataframe\">\n",
       "  <thead>\n",
       "    <tr style=\"text-align: right;\">\n",
       "      <th></th>\n",
       "      <th>year</th>\n",
       "      <th>pagerank</th>\n",
       "    </tr>\n",
       "  </thead>\n",
       "  <tbody>\n",
       "    <tr>\n",
       "      <th>0</th>\n",
       "      <td>1959</td>\n",
       "      <td>36.536994</td>\n",
       "    </tr>\n",
       "    <tr>\n",
       "      <th>1</th>\n",
       "      <td>1947</td>\n",
       "      <td>27.194903</td>\n",
       "    </tr>\n",
       "    <tr>\n",
       "      <th>2</th>\n",
       "      <td>1936</td>\n",
       "      <td>17.504742</td>\n",
       "    </tr>\n",
       "    <tr>\n",
       "      <th>3</th>\n",
       "      <td>1960</td>\n",
       "      <td>16.156488</td>\n",
       "    </tr>\n",
       "    <tr>\n",
       "      <th>4</th>\n",
       "      <td>1956</td>\n",
       "      <td>15.550937</td>\n",
       "    </tr>\n",
       "  </tbody>\n",
       "</table>\n",
       "</div>"
      ],
      "text/plain": [
       "   year   pagerank\n",
       "0  1959  36.536994\n",
       "1  1947  27.194903\n",
       "2  1936  17.504742\n",
       "3  1960  16.156488\n",
       "4  1956  15.550937"
      ]
     },
     "execution_count": 282,
     "metadata": {},
     "output_type": "execute_result"
    }
   ],
   "source": [
    "average_year_PR.head()"
   ]
  },
  {
   "cell_type": "code",
   "execution_count": 312,
   "metadata": {},
   "outputs": [
    {
     "data": {
      "image/png": "[encoded data removed]",
      "text/plain": [
       "<matplotlib.figure.Figure at 0x11f107390>"
      ]
     },
     "metadata": {},
     "output_type": "display_data"
    }
   ],
   "source": [
    "#plotting the average pagerank per year \n",
    "plt.title('the average pagerank of the publications per year')\n",
    "plt.xlabel('years')\n",
    "plt.ylabel('average pagerank')\n",
    "fig1 = plt.scatter(x = average_year_PR['year'], y = average_year_PR['pagerank'])"
   ]
  },
  {
   "cell_type": "code",
   "execution_count": 313,
   "metadata": {},
   "outputs": [
    {
     "data": {
      "image/png": "[encoded data removed]",
      "text/plain": [
       "<matplotlib.figure.Figure at 0x11f178400>"
      ]
     },
     "metadata": {},
     "output_type": "display_data"
    }
   ],
   "source": [
    "# fitting a regression to see if there is a positive or negative evolution of the citations\n",
    "fig2 = sns.regplot(x ='year', y = 'pagerank', data = average_year_PR)\n",
    "fig2 = fig2.set_title('try to fit linear regression on the average pagerank per year')"
   ]
  },
  {
   "cell_type": "code",
   "execution_count": 272,
   "metadata": {},
   "outputs": [],
   "source": [
    "#extracting the pagerank max for each year, in other terms here we want to extract the most cited publication per year\n",
    "max_pagerank = page_rank_df.groupby(by ='year').max().sort_values(by = 'pagerank', ascending = False).reset_index()"
   ]
  },
  {
   "cell_type": "code",
   "execution_count": 273,
   "metadata": {
    "collapsed": true
   },
   "outputs": [],
   "source": [
    "max_pagerank = max_pagerank['title year pagerank'.split()]"
   ]
  },
  {
   "cell_type": "code",
   "execution_count": 333,
   "metadata": {},
   "outputs": [
    {
     "data": {
      "text/html": [
       "<div>\n",
       "<style scoped>\n",
       "    .dataframe tbody tr th:only-of-type {\n",
       "        vertical-align: middle;\n",
       "    }\n",
       "\n",
       "    .dataframe tbody tr th {\n",
       "        vertical-align: top;\n",
       "    }\n",
       "\n",
       "    .dataframe thead th {\n",
       "        text-align: right;\n",
       "    }\n",
       "</style>\n",
       "<table border=\"1\" class=\"dataframe\">\n",
       "  <thead>\n",
       "    <tr style=\"text-align: right;\">\n",
       "      <th></th>\n",
       "      <th>title</th>\n",
       "      <th>year</th>\n",
       "      <th>pagerank</th>\n",
       "    </tr>\n",
       "  </thead>\n",
       "  <tbody>\n",
       "    <tr>\n",
       "      <th>0</th>\n",
       "      <td>Unnormalized Floating Point Arithmetic</td>\n",
       "      <td>1959</td>\n",
       "      <td>2018.186268</td>\n",
       "    </tr>\n",
       "    <tr>\n",
       "      <th>1</th>\n",
       "      <td>ℓ-matrices and a characterization of binary ma...</td>\n",
       "      <td>1974</td>\n",
       "      <td>1396.062942</td>\n",
       "    </tr>\n",
       "    <tr>\n",
       "      <th>2</th>\n",
       "      <td>Über ein Problem von L. Collatz</td>\n",
       "      <td>1971</td>\n",
       "      <td>1364.043082</td>\n",
       "    </tr>\n",
       "    <tr>\n",
       "      <th>3</th>\n",
       "      <td>α Logic and Infinitary Languages</td>\n",
       "      <td>1976</td>\n",
       "      <td>1238.157584</td>\n",
       "    </tr>\n",
       "    <tr>\n",
       "      <th>4</th>\n",
       "      <td>“Natural” properties of flowchart step-countin...</td>\n",
       "      <td>1978</td>\n",
       "      <td>1015.430039</td>\n",
       "    </tr>\n",
       "  </tbody>\n",
       "</table>\n",
       "</div>"
      ],
      "text/plain": [
       "                                               title  year     pagerank\n",
       "0             Unnormalized Floating Point Arithmetic  1959  2018.186268\n",
       "1  ℓ-matrices and a characterization of binary ma...  1974  1396.062942\n",
       "2                    Über ein Problem von L. Collatz  1971  1364.043082\n",
       "3                   α Logic and Infinitary Languages  1976  1238.157584\n",
       "4  “Natural” properties of flowchart step-countin...  1978  1015.430039"
      ]
     },
     "execution_count": 333,
     "metadata": {},
     "output_type": "execute_result"
    }
   ],
   "source": [
    "max_pagerank.head()"
   ]
  },
  {
   "cell_type": "code",
   "execution_count": 334,
   "metadata": {},
   "outputs": [
    {
     "data": {
      "image/png": "[encoded data removed]",
      "text/plain": [
       "<matplotlib.figure.Figure at 0x11f957eb8>"
      ]
     },
     "metadata": {},
     "output_type": "display_data"
    }
   ],
   "source": [
    "plt.title('the most cited publication per year')\n",
    "plt.xlabel('years')\n",
    "plt.ylabel('max pagerank')\n",
    "fig1 = plt.scatter(x = max_pagerank['year'], y = max_pagerank['pagerank'])"
   ]
  },
  {
   "cell_type": "code",
   "execution_count": 275,
   "metadata": {},
   "outputs": [],
   "source": [
    "#counting the number of publication per year to be critical towards the average pagerank per year\n",
    "count_per_yer =  page_rank_df.groupby(by ='year').count()['pagerank']"
   ]
  },
  {
   "cell_type": "code",
   "execution_count": 276,
   "metadata": {},
   "outputs": [],
   "source": [
    "#merging previous information about the dataset to better describe it\n",
    "describe = pd.DataFrame(count_per_yer).merge(average_year_PR, left_index = True,right_on = 'year').rename(columns = {'pagerank_x' : 'count per year', 'pagerank_y':'mean page rank'})"
   ]
  },
  {
   "cell_type": "code",
   "execution_count": 277,
   "metadata": {},
   "outputs": [],
   "source": [
    "describe = max_pagerank.merge(describe,left_on = 'year', right_on='year').sort_values(by = 'year')"
   ]
  },
  {
   "cell_type": "code",
   "execution_count": 278,
   "metadata": {},
   "outputs": [
    {
     "data": {
      "text/html": [
       "<div>\n",
       "<style scoped>\n",
       "    .dataframe tbody tr th:only-of-type {\n",
       "        vertical-align: middle;\n",
       "    }\n",
       "\n",
       "    .dataframe tbody tr th {\n",
       "        vertical-align: top;\n",
       "    }\n",
       "\n",
       "    .dataframe thead th {\n",
       "        text-align: right;\n",
       "    }\n",
       "</style>\n",
       "<table border=\"1\" class=\"dataframe\">\n",
       "  <thead>\n",
       "    <tr style=\"text-align: right;\">\n",
       "      <th></th>\n",
       "      <th>title</th>\n",
       "      <th>year</th>\n",
       "      <th>pagerank</th>\n",
       "      <th>count per year</th>\n",
       "      <th>mean page rank</th>\n",
       "    </tr>\n",
       "  </thead>\n",
       "  <tbody>\n",
       "    <tr>\n",
       "      <th>56</th>\n",
       "      <td>Toward a calculus of concepts</td>\n",
       "      <td>1936</td>\n",
       "      <td>104.223908</td>\n",
       "      <td>7</td>\n",
       "      <td>17.504742</td>\n",
       "    </tr>\n",
       "    <tr>\n",
       "      <th>76</th>\n",
       "      <td>The þ-function in λ-K-conversion</td>\n",
       "      <td>1937</td>\n",
       "      <td>2.005421</td>\n",
       "      <td>9</td>\n",
       "      <td>0.443435</td>\n",
       "    </tr>\n",
       "    <tr>\n",
       "      <th>72</th>\n",
       "      <td>Third Meeting of the Association for Symbolic ...</td>\n",
       "      <td>1938</td>\n",
       "      <td>7.033757</td>\n",
       "      <td>5</td>\n",
       "      <td>1.568065</td>\n",
       "    </tr>\n",
       "    <tr>\n",
       "      <th>66</th>\n",
       "      <td>The Hypothesis That Infinite Classes are Similar</td>\n",
       "      <td>1939</td>\n",
       "      <td>18.096214</td>\n",
       "      <td>9</td>\n",
       "      <td>2.966849</td>\n",
       "    </tr>\n",
       "    <tr>\n",
       "      <th>61</th>\n",
       "      <td>The calculus of individuals and its uses</td>\n",
       "      <td>1940</td>\n",
       "      <td>54.292833</td>\n",
       "      <td>6</td>\n",
       "      <td>10.140941</td>\n",
       "    </tr>\n",
       "  </tbody>\n",
       "</table>\n",
       "</div>"
      ],
      "text/plain": [
       "                                                title  year    pagerank  \\\n",
       "56                      Toward a calculus of concepts  1936  104.223908   \n",
       "76                   The þ-function in λ-K-conversion  1937    2.005421   \n",
       "72  Third Meeting of the Association for Symbolic ...  1938    7.033757   \n",
       "66   The Hypothesis That Infinite Classes are Similar  1939   18.096214   \n",
       "61           The calculus of individuals and its uses  1940   54.292833   \n",
       "\n",
       "    count per year  mean page rank  \n",
       "56               7       17.504742  \n",
       "76               9        0.443435  \n",
       "72               5        1.568065  \n",
       "66               9        2.966849  \n",
       "61               6       10.140941  "
      ]
     },
     "execution_count": 278,
     "metadata": {},
     "output_type": "execute_result"
    }
   ],
   "source": [
    "describe.head()"
   ]
  },
  {
   "cell_type": "markdown",
   "metadata": {},
   "source": [
    "# Insights about the dataset based on the PageRank algorithm"
   ]
  },
  {
   "cell_type": "markdown",
   "metadata": {},
   "source": [
    "First of all the 10 best ranked publications belong to the years between 1959-1989 except for the 'Reducibility Among Combinatorial Problems' which was published in 2010. \n",
    "Which seems to be normal because these papers are old papers and had the time to be cited. On top of that they belong to the area marked by the explosion of the algorithms, automation, cryptography... \n",
    "The number of publication per year consolidate this idea. In fact we can see that there is an explosion of the publications starting from the 80's. \n",
    "On the other hand, the least ranked publications corresponds mostly to recent publications (between 2015-2018) or unpopular ones. \n",
    "Secondly, since the field of computer science is getting older, the major discoveries rarifies due to the hardness of big breakthroughs. So many works just get dilluted in this huge sea of publications and they don't get the interest they would have had 10 or 20 years ago.\n"
   ]
  },
  {
   "cell_type": "markdown",
   "metadata": {},
   "source": [
    "# Community detection algorithms"
   ]
  },
  {
   "cell_type": "code",
   "execution_count": 353,
   "metadata": {
    "collapsed": true
   },
   "outputs": [],
   "source": [
    "#load the strongly connected file\n",
    "strongly_connected_components_authors = pd.read_parquet('/Users/nourghaliaabassi/Desktop/parquets/authors_strongly_connected')\n"
   ]
  },
  {
   "cell_type": "code",
   "execution_count": 351,
   "metadata": {
    "collapsed": true
   },
   "outputs": [],
   "source": [
    "#load the lpa algorithm used here for the community detection for the references \n",
    "lpa_method_references = pd.read_parquet('/Users/nourghaliaabassi/Desktop/parquets/ref_lpa_first')"
   ]
  },
  {
   "cell_type": "code",
   "execution_count": 350,
   "metadata": {
    "collapsed": true
   },
   "outputs": [],
   "source": [
    "#load the lpa algorithm applied to the community detection of the authors \n",
    "lpa_method_authors = pd.read_parquet('/Users/nourghaliaabassi/Desktop/parquets/authors_community_detection')"
   ]
  },
  {
   "cell_type": "code",
   "execution_count": 366,
   "metadata": {},
   "outputs": [
    {
     "data": {
      "text/html": [
       "<div>\n",
       "<style scoped>\n",
       "    .dataframe tbody tr th:only-of-type {\n",
       "        vertical-align: middle;\n",
       "    }\n",
       "\n",
       "    .dataframe tbody tr th {\n",
       "        vertical-align: top;\n",
       "    }\n",
       "\n",
       "    .dataframe thead th {\n",
       "        text-align: right;\n",
       "    }\n",
       "</style>\n",
       "<table border=\"1\" class=\"dataframe\">\n",
       "  <thead>\n",
       "    <tr style=\"text-align: right;\">\n",
       "      <th></th>\n",
       "      <th>id</th>\n",
       "      <th>component</th>\n",
       "    </tr>\n",
       "  </thead>\n",
       "  <tbody>\n",
       "    <tr>\n",
       "      <th>0</th>\n",
       "      <td>Ilya V. Osipov</td>\n",
       "      <td>31</td>\n",
       "    </tr>\n",
       "    <tr>\n",
       "      <th>1</th>\n",
       "      <td>Thomas Schuster</td>\n",
       "      <td>0</td>\n",
       "    </tr>\n",
       "    <tr>\n",
       "      <th>2</th>\n",
       "      <td>Richard C. H. Connor</td>\n",
       "      <td>0</td>\n",
       "    </tr>\n",
       "    <tr>\n",
       "      <th>3</th>\n",
       "      <td>Carlos José Pereira de Lucena</td>\n",
       "      <td>0</td>\n",
       "    </tr>\n",
       "    <tr>\n",
       "      <th>4</th>\n",
       "      <td>Kelly A. Lyons</td>\n",
       "      <td>0</td>\n",
       "    </tr>\n",
       "  </tbody>\n",
       "</table>\n",
       "</div>"
      ],
      "text/plain": [
       "                              id  component\n",
       "0                 Ilya V. Osipov         31\n",
       "1                Thomas Schuster          0\n",
       "2           Richard C. H. Connor          0\n",
       "3  Carlos José Pereira de Lucena          0\n",
       "4                 Kelly A. Lyons          0"
      ]
     },
     "execution_count": 366,
     "metadata": {},
     "output_type": "execute_result"
    }
   ],
   "source": [
    "#sort by components to know which are the most connected authors\n",
    "strongly_connected_components_authors.head()"
   ]
  },
  {
   "cell_type": "markdown",
   "metadata": {},
   "source": [
    "The lpa algorithm is used for community detection here we can see the labeling for an author in a specified community corresponding for a specified community. We will show how much communities do we have and on average how many author by community. "
   ]
  },
  {
   "cell_type": "code",
   "execution_count": 369,
   "metadata": {},
   "outputs": [
    {
     "data": {
      "text/html": [
       "<div>\n",
       "<style scoped>\n",
       "    .dataframe tbody tr th:only-of-type {\n",
       "        vertical-align: middle;\n",
       "    }\n",
       "\n",
       "    .dataframe tbody tr th {\n",
       "        vertical-align: top;\n",
       "    }\n",
       "\n",
       "    .dataframe thead th {\n",
       "        text-align: right;\n",
       "    }\n",
       "</style>\n",
       "<table border=\"1\" class=\"dataframe\">\n",
       "  <thead>\n",
       "    <tr style=\"text-align: right;\">\n",
       "      <th></th>\n",
       "      <th>id</th>\n",
       "      <th>label</th>\n",
       "    </tr>\n",
       "  </thead>\n",
       "  <tbody>\n",
       "    <tr>\n",
       "      <th>0</th>\n",
       "      <td>Ilya V. Osipov</td>\n",
       "      <td>180</td>\n",
       "    </tr>\n",
       "    <tr>\n",
       "      <th>1</th>\n",
       "      <td>Thomas Schuster</td>\n",
       "      <td>403</td>\n",
       "    </tr>\n",
       "    <tr>\n",
       "      <th>2</th>\n",
       "      <td>Richard C. H. Connor</td>\n",
       "      <td>146867</td>\n",
       "    </tr>\n",
       "    <tr>\n",
       "      <th>3</th>\n",
       "      <td>Carlos José Pereira de Lucena</td>\n",
       "      <td>66617</td>\n",
       "    </tr>\n",
       "    <tr>\n",
       "      <th>4</th>\n",
       "      <td>Kelly A. Lyons</td>\n",
       "      <td>18646</td>\n",
       "    </tr>\n",
       "  </tbody>\n",
       "</table>\n",
       "</div>"
      ],
      "text/plain": [
       "                              id   label\n",
       "0                 Ilya V. Osipov     180\n",
       "1                Thomas Schuster     403\n",
       "2           Richard C. H. Connor  146867\n",
       "3  Carlos José Pereira de Lucena   66617\n",
       "4                 Kelly A. Lyons   18646"
      ]
     },
     "execution_count": 369,
     "metadata": {},
     "output_type": "execute_result"
    }
   ],
   "source": [
    "lpa_method_authors.head()"
   ]
  },
  {
   "cell_type": "code",
   "execution_count": 373,
   "metadata": {},
   "outputs": [
    {
     "data": {
      "text/html": [
       "<div>\n",
       "<style scoped>\n",
       "    .dataframe tbody tr th:only-of-type {\n",
       "        vertical-align: middle;\n",
       "    }\n",
       "\n",
       "    .dataframe tbody tr th {\n",
       "        vertical-align: top;\n",
       "    }\n",
       "\n",
       "    .dataframe thead th {\n",
       "        text-align: right;\n",
       "    }\n",
       "</style>\n",
       "<table border=\"1\" class=\"dataframe\">\n",
       "  <thead>\n",
       "    <tr style=\"text-align: right;\">\n",
       "      <th></th>\n",
       "      <th>id</th>\n",
       "    </tr>\n",
       "    <tr>\n",
       "      <th>label</th>\n",
       "      <th></th>\n",
       "    </tr>\n",
       "  </thead>\n",
       "  <tbody>\n",
       "    <tr>\n",
       "      <th>12629</th>\n",
       "      <td>855</td>\n",
       "    </tr>\n",
       "    <tr>\n",
       "      <th>1686481</th>\n",
       "      <td>715</td>\n",
       "    </tr>\n",
       "    <tr>\n",
       "      <th>773960</th>\n",
       "      <td>704</td>\n",
       "    </tr>\n",
       "    <tr>\n",
       "      <th>251306</th>\n",
       "      <td>616</td>\n",
       "    </tr>\n",
       "    <tr>\n",
       "      <th>33543</th>\n",
       "      <td>543</td>\n",
       "    </tr>\n",
       "  </tbody>\n",
       "</table>\n",
       "</div>"
      ],
      "text/plain": [
       "          id\n",
       "label       \n",
       "12629    855\n",
       "1686481  715\n",
       "773960   704\n",
       "251306   616\n",
       "33543    543"
      ]
     },
     "execution_count": 373,
     "metadata": {},
     "output_type": "execute_result"
    }
   ],
   "source": [
    "#here we are printing the most dense communities.\n",
    "lpa_method_authors.groupby(by = 'label').count().sort_values(by = 'id', ascending = False).head()"
   ]
  },
  {
   "cell_type": "code",
   "execution_count": 374,
   "metadata": {},
   "outputs": [
    {
     "data": {
      "text/html": [
       "<div>\n",
       "<style scoped>\n",
       "    .dataframe tbody tr th:only-of-type {\n",
       "        vertical-align: middle;\n",
       "    }\n",
       "\n",
       "    .dataframe tbody tr th {\n",
       "        vertical-align: top;\n",
       "    }\n",
       "\n",
       "    .dataframe thead th {\n",
       "        text-align: right;\n",
       "    }\n",
       "</style>\n",
       "<table border=\"1\" class=\"dataframe\">\n",
       "  <thead>\n",
       "    <tr style=\"text-align: right;\">\n",
       "      <th></th>\n",
       "      <th>id</th>\n",
       "    </tr>\n",
       "    <tr>\n",
       "      <th>label</th>\n",
       "      <th></th>\n",
       "    </tr>\n",
       "  </thead>\n",
       "  <tbody>\n",
       "    <tr>\n",
       "      <th>1022485</th>\n",
       "      <td>1</td>\n",
       "    </tr>\n",
       "    <tr>\n",
       "      <th>1022466</th>\n",
       "      <td>1</td>\n",
       "    </tr>\n",
       "    <tr>\n",
       "      <th>1022462</th>\n",
       "      <td>1</td>\n",
       "    </tr>\n",
       "    <tr>\n",
       "      <th>548646</th>\n",
       "      <td>1</td>\n",
       "    </tr>\n",
       "    <tr>\n",
       "      <th>480871</th>\n",
       "      <td>1</td>\n",
       "    </tr>\n",
       "  </tbody>\n",
       "</table>\n",
       "</div>"
      ],
      "text/plain": [
       "         id\n",
       "label      \n",
       "1022485   1\n",
       "1022466   1\n",
       "1022462   1\n",
       "548646    1\n",
       "480871    1"
      ]
     },
     "execution_count": 374,
     "metadata": {},
     "output_type": "execute_result"
    }
   ],
   "source": [
    "#here we print the least regroupped authors \n",
    "lpa_method_authors.groupby(by = 'label').count().sort_values(by = 'id', ascending = False).tail()"
   ]
  },
  {
   "cell_type": "markdown",
   "metadata": {},
   "source": [
    "Here, just to check we are going to print the name of the sigle author of the label 1022485 and we are going to verify if this author have zero component in the strongly connected subgraph dataframe. We will find that it is indeed true :D. "
   ]
  },
  {
   "cell_type": "code",
   "execution_count": 392,
   "metadata": {},
   "outputs": [
    {
     "data": {
      "text/plain": [
       "'M.P. Yu'"
      ]
     },
     "execution_count": 392,
     "metadata": {},
     "output_type": "execute_result"
    }
   ],
   "source": [
    "# getting the author name\n",
    "lpa_method_authors.loc[1022485,'id']"
   ]
  },
  {
   "cell_type": "code",
   "execution_count": 393,
   "metadata": {},
   "outputs": [
    {
     "data": {
      "text/html": [
       "<div>\n",
       "<style scoped>\n",
       "    .dataframe tbody tr th:only-of-type {\n",
       "        vertical-align: middle;\n",
       "    }\n",
       "\n",
       "    .dataframe tbody tr th {\n",
       "        vertical-align: top;\n",
       "    }\n",
       "\n",
       "    .dataframe thead th {\n",
       "        text-align: right;\n",
       "    }\n",
       "</style>\n",
       "<table border=\"1\" class=\"dataframe\">\n",
       "  <thead>\n",
       "    <tr style=\"text-align: right;\">\n",
       "      <th></th>\n",
       "      <th>id</th>\n",
       "      <th>component</th>\n",
       "    </tr>\n",
       "  </thead>\n",
       "  <tbody>\n",
       "    <tr>\n",
       "      <th>1022485</th>\n",
       "      <td>M.P. Yu</td>\n",
       "      <td>0</td>\n",
       "    </tr>\n",
       "  </tbody>\n",
       "</table>\n",
       "</div>"
      ],
      "text/plain": [
       "              id  component\n",
       "1022485  M.P. Yu          0"
      ]
     },
     "execution_count": 393,
     "metadata": {},
     "output_type": "execute_result"
    }
   ],
   "source": [
    "# getting the number of components corresponding to the author 'M.P. Yu'\n",
    "strongly_connected_components_authors.loc[strongly_connected_components_authors['id']== 'M.P. Yu']"
   ]
  },
  {
   "cell_type": "code",
   "execution_count": 399,
   "metadata": {
    "scrolled": true
   },
   "outputs": [
    {
     "data": {
      "text/plain": [
       "id       1729816\n",
       "label     255797\n",
       "dtype: int64"
      ]
     },
     "execution_count": 399,
     "metadata": {},
     "output_type": "execute_result"
    }
   ],
   "source": [
    "# here we want to show the number of communities that we have depending on the 1729816 distinct authors that we have. \n",
    "lpa_method_authors.nunique()"
   ]
  },
  {
   "cell_type": "code",
   "execution_count": 411,
   "metadata": {},
   "outputs": [
    {
     "data": {
      "text/html": [
       "<div>\n",
       "<style scoped>\n",
       "    .dataframe tbody tr th:only-of-type {\n",
       "        vertical-align: middle;\n",
       "    }\n",
       "\n",
       "    .dataframe tbody tr th {\n",
       "        vertical-align: top;\n",
       "    }\n",
       "\n",
       "    .dataframe thead th {\n",
       "        text-align: right;\n",
       "    }\n",
       "</style>\n",
       "<table border=\"1\" class=\"dataframe\">\n",
       "  <thead>\n",
       "    <tr style=\"text-align: right;\">\n",
       "      <th></th>\n",
       "      <th>id</th>\n",
       "      <th>label</th>\n",
       "    </tr>\n",
       "  </thead>\n",
       "  <tbody>\n",
       "    <tr>\n",
       "      <th>0</th>\n",
       "      <td>5b912b0f-0430-4b0b-b8ab-d17ddec85ec9</td>\n",
       "      <td>392845</td>\n",
       "    </tr>\n",
       "    <tr>\n",
       "      <th>1</th>\n",
       "      <td>da7c74a8-40b7-435a-8016-5d000676be2f</td>\n",
       "      <td>2285708</td>\n",
       "    </tr>\n",
       "    <tr>\n",
       "      <th>2</th>\n",
       "      <td>676e1927-2c68-47bd-82a5-2ece9ee7c68b</td>\n",
       "      <td>2664910</td>\n",
       "    </tr>\n",
       "    <tr>\n",
       "      <th>3</th>\n",
       "      <td>0b18652d-4468-49cf-afa5-69fe8fc2be6c</td>\n",
       "      <td>2286080</td>\n",
       "    </tr>\n",
       "    <tr>\n",
       "      <th>4</th>\n",
       "      <td>b3c15437-925b-4249-9388-81f1ccfb6c2d</td>\n",
       "      <td>2407761</td>\n",
       "    </tr>\n",
       "  </tbody>\n",
       "</table>\n",
       "</div>"
      ],
      "text/plain": [
       "                                     id    label\n",
       "0  5b912b0f-0430-4b0b-b8ab-d17ddec85ec9   392845\n",
       "1  da7c74a8-40b7-435a-8016-5d000676be2f  2285708\n",
       "2  676e1927-2c68-47bd-82a5-2ece9ee7c68b  2664910\n",
       "3  0b18652d-4468-49cf-afa5-69fe8fc2be6c  2286080\n",
       "4  b3c15437-925b-4249-9388-81f1ccfb6c2d  2407761"
      ]
     },
     "execution_count": 411,
     "metadata": {},
     "output_type": "execute_result"
    }
   ],
   "source": [
    "lpa_method_references.head()"
   ]
  },
  {
   "cell_type": "code",
   "execution_count": 414,
   "metadata": {},
   "outputs": [],
   "source": [
    "lpa_method_references[lpa_method_references['label'] == 392845]\n"
   ]
  },
  {
   "cell_type": "markdown",
   "metadata": {},
   "source": [
    "# Clustering"
   ]
  },
  {
   "cell_type": "markdown",
   "metadata": {},
   "source": [
    "In this section, we we will try to cluster our document based on their titles, abstract and venue to see if we can group documents about the same topics together.\n",
    "\n",
    "Let's first start with a sample from our data and apply this to a larger scale if we find good results"
   ]
  },
  {
   "cell_type": "code",
   "execution_count": 423,
   "metadata": {},
   "outputs": [
    {
     "data": {
      "text/html": [
       "<div>\n",
       "<style scoped>\n",
       "    .dataframe tbody tr th:only-of-type {\n",
       "        vertical-align: middle;\n",
       "    }\n",
       "\n",
       "    .dataframe tbody tr th {\n",
       "        vertical-align: top;\n",
       "    }\n",
       "\n",
       "    .dataframe thead th {\n",
       "        text-align: right;\n",
       "    }\n",
       "</style>\n",
       "<table border=\"1\" class=\"dataframe\">\n",
       "  <thead>\n",
       "    <tr style=\"text-align: right;\">\n",
       "      <th></th>\n",
       "      <th>abstract</th>\n",
       "      <th>authors</th>\n",
       "      <th>id</th>\n",
       "      <th>references</th>\n",
       "      <th>title</th>\n",
       "      <th>venue</th>\n",
       "      <th>year</th>\n",
       "    </tr>\n",
       "  </thead>\n",
       "  <tbody>\n",
       "    <tr>\n",
       "      <th>0</th>\n",
       "      <td>The purpose of this study is to develop a lear...</td>\n",
       "      <td>[Makoto Satoh, Ryo Muramatsu, Mizue Kayama, Ka...</td>\n",
       "      <td>00127ee2-cb05-48ce-bc49-9de556b93346</td>\n",
       "      <td>[51c7e02e-f5ed-431a-8cf5-f761f266d4be, 69b625b...</td>\n",
       "      <td>Preliminary Design of a Network Protocol Learn...</td>\n",
       "      <td>international conference on human-computer int...</td>\n",
       "      <td>2013</td>\n",
       "    </tr>\n",
       "    <tr>\n",
       "      <th>1</th>\n",
       "      <td>This paper describes the design and implementa...</td>\n",
       "      <td>[Gareth Beale, Graeme Earl]</td>\n",
       "      <td>001c58d3-26ad-46b3-ab3a-c1e557d16821</td>\n",
       "      <td>[10482dd3-4642-4193-842f-85f3b70fcf65, 3133714...</td>\n",
       "      <td>A methodology for the physically accurate visu...</td>\n",
       "      <td>visual analytics science and technology</td>\n",
       "      <td>2011</td>\n",
       "    </tr>\n",
       "    <tr>\n",
       "      <th>2</th>\n",
       "      <td>This article applied GARCH model instead AR or...</td>\n",
       "      <td>[Altaf Hossain, Faisal Zaman, Mohammed Nasser,...</td>\n",
       "      <td>001c8744-73c4-4b04-9364-22d31a10dbf1</td>\n",
       "      <td>[2d84c0f2-e656-4ce7-b018-90eda1c132fe, a083a1b...</td>\n",
       "      <td>Comparison of GARCH, Neural Network and Suppor...</td>\n",
       "      <td>pattern recognition and machine intelligence</td>\n",
       "      <td>2009</td>\n",
       "    </tr>\n",
       "    <tr>\n",
       "      <th>3</th>\n",
       "      <td>NaN</td>\n",
       "      <td>[Jea-Bum Park, Byungmok Kim, Jian Shen, Sun-Yo...</td>\n",
       "      <td>00338203-9eb3-40c5-9f31-cbac73a519ec</td>\n",
       "      <td>[8c78e4b0-632b-4293-b491-85b1976675e6, 9cdc54f...</td>\n",
       "      <td>Development of Remote Monitoring and Control D...</td>\n",
       "      <td></td>\n",
       "      <td>2011</td>\n",
       "    </tr>\n",
       "    <tr>\n",
       "      <th>4</th>\n",
       "      <td>NaN</td>\n",
       "      <td>[Giovanna Guerrini, Isabella Merlo]</td>\n",
       "      <td>0040b022-1472-4f70-a753-74832df65266</td>\n",
       "      <td>NaN</td>\n",
       "      <td>Reasonig about Set-Oriented Methods in Object ...</td>\n",
       "      <td></td>\n",
       "      <td>1998</td>\n",
       "    </tr>\n",
       "  </tbody>\n",
       "</table>\n",
       "</div>"
      ],
      "text/plain": [
       "                                            abstract  \\\n",
       "0  The purpose of this study is to develop a lear...   \n",
       "1  This paper describes the design and implementa...   \n",
       "2  This article applied GARCH model instead AR or...   \n",
       "3                                                NaN   \n",
       "4                                                NaN   \n",
       "\n",
       "                                             authors  \\\n",
       "0  [Makoto Satoh, Ryo Muramatsu, Mizue Kayama, Ka...   \n",
       "1                        [Gareth Beale, Graeme Earl]   \n",
       "2  [Altaf Hossain, Faisal Zaman, Mohammed Nasser,...   \n",
       "3  [Jea-Bum Park, Byungmok Kim, Jian Shen, Sun-Yo...   \n",
       "4                [Giovanna Guerrini, Isabella Merlo]   \n",
       "\n",
       "                                     id  \\\n",
       "0  00127ee2-cb05-48ce-bc49-9de556b93346   \n",
       "1  001c58d3-26ad-46b3-ab3a-c1e557d16821   \n",
       "2  001c8744-73c4-4b04-9364-22d31a10dbf1   \n",
       "3  00338203-9eb3-40c5-9f31-cbac73a519ec   \n",
       "4  0040b022-1472-4f70-a753-74832df65266   \n",
       "\n",
       "                                          references  \\\n",
       "0  [51c7e02e-f5ed-431a-8cf5-f761f266d4be, 69b625b...   \n",
       "1  [10482dd3-4642-4193-842f-85f3b70fcf65, 3133714...   \n",
       "2  [2d84c0f2-e656-4ce7-b018-90eda1c132fe, a083a1b...   \n",
       "3  [8c78e4b0-632b-4293-b491-85b1976675e6, 9cdc54f...   \n",
       "4                                                NaN   \n",
       "\n",
       "                                               title  \\\n",
       "0  Preliminary Design of a Network Protocol Learn...   \n",
       "1  A methodology for the physically accurate visu...   \n",
       "2  Comparison of GARCH, Neural Network and Suppor...   \n",
       "3  Development of Remote Monitoring and Control D...   \n",
       "4  Reasonig about Set-Oriented Methods in Object ...   \n",
       "\n",
       "                                               venue  year  \n",
       "0  international conference on human-computer int...  2013  \n",
       "1            visual analytics science and technology  2011  \n",
       "2       pattern recognition and machine intelligence  2009  \n",
       "3                                                     2011  \n",
       "4                                                     1998  "
      ]
     },
     "execution_count": 423,
     "metadata": {},
     "output_type": "execute_result"
    }
   ],
   "source": [
    "import re\n",
    "\n",
    "path = '/Users/nourghaliaabassi/Downloads/dblp-ref/dblp-ref-0.json'\n",
    "doc = []\n",
    "with open(path, 'r') as file:\n",
    "    for line in file:\n",
    "        j_content = json.loads(line)\n",
    "        doc.append(j_content)\n",
    "\n",
    "doc = pd.DataFrame(doc)\n",
    "doc.head()\n"
   ]
  },
  {
   "cell_type": "code",
   "execution_count": 424,
   "metadata": {
    "collapsed": true
   },
   "outputs": [],
   "source": [
    "# Selecting the columns with which we will work\n",
    "corpus = doc['abstract,title,venue'.split(',')]"
   ]
  },
  {
   "cell_type": "code",
   "execution_count": 425,
   "metadata": {},
   "outputs": [
    {
     "name": "stderr",
     "output_type": "stream",
     "text": [
      "/Users/nourghaliaabassi/anaconda3/lib/python3.6/site-packages/ipykernel_launcher.py:2: SettingWithCopyWarning: \n",
      "A value is trying to be set on a copy of a slice from a DataFrame.\n",
      "Try using .loc[row_indexer,col_indexer] = value instead\n",
      "\n",
      "See the caveats in the documentation: http://pandas.pydata.org/pandas-docs/stable/indexing.html#indexing-view-versus-copy\n",
      "  \n",
      "/Users/nourghaliaabassi/anaconda3/lib/python3.6/site-packages/ipykernel_launcher.py:3: SettingWithCopyWarning: \n",
      "A value is trying to be set on a copy of a slice from a DataFrame.\n",
      "Try using .loc[row_indexer,col_indexer] = value instead\n",
      "\n",
      "See the caveats in the documentation: http://pandas.pydata.org/pandas-docs/stable/indexing.html#indexing-view-versus-copy\n",
      "  This is separate from the ipykernel package so we can avoid doing imports until\n",
      "/Users/nourghaliaabassi/anaconda3/lib/python3.6/site-packages/ipykernel_launcher.py:4: SettingWithCopyWarning: \n",
      "A value is trying to be set on a copy of a slice from a DataFrame.\n",
      "Try using .loc[row_indexer,col_indexer] = value instead\n",
      "\n",
      "See the caveats in the documentation: http://pandas.pydata.org/pandas-docs/stable/indexing.html#indexing-view-versus-copy\n",
      "  after removing the cwd from sys.path.\n"
     ]
    }
   ],
   "source": [
    "# We are setting the Nan values to the empty string to deal with the columns as columns of string\n",
    "corpus['abstract'] = corpus['abstract'].apply(lambda x: x if type(x)==type('') else '')\n",
    "corpus['title'] = corpus['title'].apply(lambda x: x if type(x)==type('') else '')\n",
    "corpus['venue'] = corpus['venue'].apply(lambda x: x if type(x)==type('') else '')"
   ]
  },
  {
   "cell_type": "code",
   "execution_count": 426,
   "metadata": {
    "collapsed": true
   },
   "outputs": [],
   "source": [
    "# Concatenating the three columns into one Serie\n",
    "with_venue = True \n",
    "if with_venue:\n",
    "    agg = corpus[corpus.columns.values[0]]\n",
    "    for col in corpus.columns.values[1:]:\n",
    "        agg= agg+' '+corpus[col]\n",
    "        \n",
    "else:\n",
    "    agg = corpus['abstract'] + corpus['title']"
   ]
  },
  {
   "cell_type": "code",
   "execution_count": 427,
   "metadata": {},
   "outputs": [
    {
     "data": {
      "text/plain": [
       "0    The purpose of this study is to develop a lear...\n",
       "1    This paper describes the design and implementa...\n",
       "2    This article applied GARCH model instead AR or...\n",
       "3     Development of Remote Monitoring and Control ...\n",
       "4     Reasonig about Set-Oriented Methods in Object...\n",
       "dtype: object"
      ]
     },
     "execution_count": 427,
     "metadata": {},
     "output_type": "execute_result"
    }
   ],
   "source": [
    "# The serie obtained\n",
    "agg.head()"
   ]
  },
  {
   "cell_type": "code",
   "execution_count": 428,
   "metadata": {},
   "outputs": [
    {
     "data": {
      "text/html": [
       "<div>\n",
       "<style scoped>\n",
       "    .dataframe tbody tr th:only-of-type {\n",
       "        vertical-align: middle;\n",
       "    }\n",
       "\n",
       "    .dataframe tbody tr th {\n",
       "        vertical-align: top;\n",
       "    }\n",
       "\n",
       "    .dataframe thead th {\n",
       "        text-align: right;\n",
       "    }\n",
       "</style>\n",
       "<table border=\"1\" class=\"dataframe\">\n",
       "  <thead>\n",
       "    <tr style=\"text-align: right;\">\n",
       "      <th></th>\n",
       "      <th>abstract</th>\n",
       "      <th>title</th>\n",
       "      <th>venue</th>\n",
       "    </tr>\n",
       "  </thead>\n",
       "  <tbody>\n",
       "    <tr>\n",
       "      <th>0</th>\n",
       "      <td>The purpose of this study is to develop a lear...</td>\n",
       "      <td>Preliminary Design of a Network Protocol Learn...</td>\n",
       "      <td>international conference on human-computer int...</td>\n",
       "    </tr>\n",
       "    <tr>\n",
       "      <th>1</th>\n",
       "      <td>This paper describes the design and implementa...</td>\n",
       "      <td>A methodology for the physically accurate visu...</td>\n",
       "      <td>visual analytics science and technology</td>\n",
       "    </tr>\n",
       "    <tr>\n",
       "      <th>2</th>\n",
       "      <td>This article applied GARCH model instead AR or...</td>\n",
       "      <td>Comparison of GARCH, Neural Network and Suppor...</td>\n",
       "      <td>pattern recognition and machine intelligence</td>\n",
       "    </tr>\n",
       "    <tr>\n",
       "      <th>3</th>\n",
       "      <td>NaN</td>\n",
       "      <td>Development of Remote Monitoring and Control D...</td>\n",
       "      <td></td>\n",
       "    </tr>\n",
       "    <tr>\n",
       "      <th>4</th>\n",
       "      <td>NaN</td>\n",
       "      <td>Reasonig about Set-Oriented Methods in Object ...</td>\n",
       "      <td></td>\n",
       "    </tr>\n",
       "  </tbody>\n",
       "</table>\n",
       "</div>"
      ],
      "text/plain": [
       "                                            abstract  \\\n",
       "0  The purpose of this study is to develop a lear...   \n",
       "1  This paper describes the design and implementa...   \n",
       "2  This article applied GARCH model instead AR or...   \n",
       "3                                                NaN   \n",
       "4                                                NaN   \n",
       "\n",
       "                                               title  \\\n",
       "0  Preliminary Design of a Network Protocol Learn...   \n",
       "1  A methodology for the physically accurate visu...   \n",
       "2  Comparison of GARCH, Neural Network and Suppor...   \n",
       "3  Development of Remote Monitoring and Control D...   \n",
       "4  Reasonig about Set-Oriented Methods in Object ...   \n",
       "\n",
       "                                               venue  \n",
       "0  international conference on human-computer int...  \n",
       "1            visual analytics science and technology  \n",
       "2       pattern recognition and machine intelligence  \n",
       "3                                                     \n",
       "4                                                     "
      ]
     },
     "execution_count": 428,
     "metadata": {},
     "output_type": "execute_result"
    }
   ],
   "source": [
    "# We are now selecting the columns that we will only use during this section, which are the ones selected to be\n",
    "# in our corpus DataFrame, the remaining ones will be deleted (For memory sake)\n",
    "cols_to_del = doc.columns.difference(corpus.columns)\n",
    "for col in cols_to_del:\n",
    "    del(doc[col])\n",
    "corpus = agg\n",
    "del(agg)\n",
    "doc.head()\n"
   ]
  },
  {
   "cell_type": "code",
   "execution_count": 429,
   "metadata": {
    "collapsed": true
   },
   "outputs": [],
   "source": [
    "# A tokenize method that processes data by removing anything but the letters (return a list of the words)\n",
    "def tokenize_only(text):\n",
    "    \n",
    "    tokens = re.sub('[^a-zA-Z]', '' ,text).lower().split()\n",
    "    return tokens"
   ]
  },
  {
   "cell_type": "code",
   "execution_count": 430,
   "metadata": {
    "collapsed": true
   },
   "outputs": [],
   "source": [
    "# Selecting a subset to work with from our corpus\n",
    "my_corpus = corpus[:20000]"
   ]
  },
  {
   "cell_type": "markdown",
   "metadata": {},
   "source": [
    "Since we are willing to find topics, we thought TFIDF would be the best Feature extractor to use in this case, since it weights well the important words that are not too rare and hence common to same topics and decreases the weights for too common words and words to specific to the document.\n"
   ]
  },
  {
   "cell_type": "code",
   "execution_count": 433,
   "metadata": {},
   "outputs": [
    {
     "name": "stdout",
     "output_type": "stream",
     "text": [
      "CPU times: user 1.01 s, sys: 136 ms, total: 1.15 s\n",
      "Wall time: 1.49 s\n",
      "(20000, 19999)\n"
     ]
    }
   ],
   "source": [
    "# Embedding our corpus using TFIDF\n",
    "tfidf_vectorizer = TfidfVectorizer( max_features=200000,\n",
    "                                    stop_words='english',\n",
    "                                 use_idf=True, tokenizer=tokenize_only, ngram_range=(1,3))\n",
    "\n",
    "%time tfidf_matrix = tfidf_vectorizer.fit_transform(my_corpus) #fit the vectorizer to synopses\n",
    "\n",
    "print(tfidf_matrix.shape)"
   ]
  },
  {
   "cell_type": "markdown",
   "metadata": {},
   "source": [
    "It will be too heavy to deal with our TFIDF matrix, so we decided to reduce the dimensionality of our matrix to 1000 using SVD\n"
   ]
  },
  {
   "cell_type": "code",
   "execution_count": 436,
   "metadata": {},
   "outputs": [],
   "source": [
    "svd = TruncatedSVD(n_components=1000, n_iter=9)\n",
    "truncated_tfidf_matrix = svd.fit_transform(tfidf_matrix)\n"
   ]
  },
  {
   "cell_type": "markdown",
   "metadata": {},
   "source": [
    "Let's start our clustering process"
   ]
  },
  {
   "cell_type": "code",
   "execution_count": 437,
   "metadata": {
    "collapsed": true
   },
   "outputs": [],
   "source": [
    "# A function that creates KMeans and runs it with the specified parameters, this will be handy when we will plot\n",
    "# the silhouette function to try different K values.\n",
    "\n",
    "def Kmeans_clusters_labels(X,num_clusters=5, return_k_means_object=False):\n",
    "    num_clusters = num_clusters\n",
    "\n",
    "    km = KMeans(n_clusters=num_clusters)\n",
    "    km.fit(X)\n",
    "\n",
    "    labels = km.predict(X)\n",
    "    clusters = km.cluster_centers_\n",
    "    \n",
    "    return (np.array(clusters),labels) if not return_k_means_object else (np.array(clusters),labels,km)"
   ]
  },
  {
   "cell_type": "code",
   "execution_count": 438,
   "metadata": {
    "collapsed": true
   },
   "outputs": [],
   "source": [
    "#silhouette value for one point\n",
    "def sil(distance, label): \n",
    "    \"\"\"Returns the silhouette value for a point\"\"\"\n",
    "    b = min(distance[~(distance==distance[label])])\n",
    "    a = distance[label]\n",
    "    \n",
    "    s = (b-a)/max(b,a)\n",
    "    \n",
    "    return s\n"
   ]
  },
  {
   "cell_type": "code",
   "execution_count": null,
   "metadata": {},
   "outputs": [],
   "source": [
    "silhouette = []\n",
    "for i in tqdm(range(5,20)):\n",
    "    print('Step number : {} for {} clusters'.format(i-4,i))\n",
    "    clusters,labels = Kmeans_clusters_labels(truncated_tfidf_matrix,i)\n",
    "    distances = cdist(truncated_tfidf_matrix,clusters)\n",
    "    clusters = np.array(clusters)\n",
    "    labels = np.array(labels)\n",
    "    si=[]\n",
    "    for i in range(distances.shape[0]):\n",
    "        si.append(sil(distances[i,:], labels[i]))\n",
    "        \n",
    "    silhouette.append(np.array(si).mean())\n",
    "    \n",
    "del(clusters, labels, distances, si, i)"
   ]
  },
  {
   "cell_type": "code",
   "execution_count": 445,
   "metadata": {},
   "outputs": [
    {
     "data": {
      "text/plain": [
       "<matplotlib.collections.PathCollection at 0x1799daf28>"
      ]
     },
     "execution_count": 445,
     "metadata": {},
     "output_type": "execute_result"
    },
    {
     "data": {
      "image/png": "[encoded data removed]",
      "text/plain": [
       "<matplotlib.figure.Figure at 0x17993cb00>"
      ]
     },
     "metadata": {},
     "output_type": "display_data"
    }
   ],
   "source": [
    "# Plotting the silhouette function to assess the best K to use\n",
    "plt.scatter(range(5,20), silhouette)"
   ]
  },
  {
   "cell_type": "markdown",
   "metadata": {},
   "source": [
    "It seems like any value for clustering would give the same result, this is maybe due to the curse of dimensionality, where in such higher dimensions every points seems to be real close to each others, so let's reduce even more the dimensinality of our truncated_tfidf_matrix by applying another time the SVD algorith with n=100\n"
   ]
  },
  {
   "cell_type": "code",
   "execution_count": 446,
   "metadata": {
    "collapsed": true
   },
   "outputs": [],
   "source": [
    "svd = TruncatedSVD(n_components=70, n_iter=9)\n",
    "truncated_tfidf_matrix = svd.fit_transform(tfidf_matrix)"
   ]
  },
  {
   "cell_type": "code",
   "execution_count": 447,
   "metadata": {},
   "outputs": [
    {
     "name": "stderr",
     "output_type": "stream",
     "text": [
      "\n",
      "  0%|          | 0/15 [00:00<?, ?it/s]\u001b[A\n",
      "Exception in thread Thread-4:\n",
      "Traceback (most recent call last):\n",
      "  File \"/Users/nourghaliaabassi/anaconda3/lib/python3.6/threading.py\", line 916, in _bootstrap_inner\n",
      "    self.run()\n",
      "  File \"/Users/nourghaliaabassi/anaconda3/lib/python3.6/site-packages/tqdm/_tqdm.py\", line 144, in run\n",
      "    for instance in self.tqdm_cls._instances:\n",
      "  File \"/Users/nourghaliaabassi/anaconda3/lib/python3.6/_weakrefset.py\", line 60, in __iter__\n",
      "    for itemref in self.data:\n",
      "RuntimeError: Set changed size during iteration\n",
      "\n",
      "100%|██████████| 15/15 [05:34<00:00, 22.31s/it]\n"
     ]
    }
   ],
   "source": [
    "silhouette = []\n",
    "for i in tqdm(range(5,20)):\n",
    "    #print('Step number : {} for {} clusters'.format(i-4,i))\n",
    "    clusters,labels = Kmeans_clusters_labels(truncated_tfidf_matrix,i)\n",
    "    distances = cdist(truncated_tfidf_matrix,clusters)\n",
    "    clusters = np.array(clusters)\n",
    "    labels = np.array(labels)\n",
    "    si=[]\n",
    "    for i in range(distances.shape[0]):\n",
    "        si.append(sil(distances[i,:], labels[i]))\n",
    "        \n",
    "    silhouette.append(np.array(si).mean())\n",
    "    \n",
    "del(clusters, labels, distances, si, i)"
   ]
  },
  {
   "cell_type": "code",
   "execution_count": 448,
   "metadata": {},
   "outputs": [
    {
     "data": {
      "image/png": "[encoded data removed]",
      "text/plain": [
       "<matplotlib.figure.Figure at 0x1799a9668>"
      ]
     },
     "metadata": {},
     "output_type": "display_data"
    }
   ],
   "source": [
    "# Plotting the silhouette function to assess the best K to use\n",
    "plt.scatter(range(5,20), silhouette)\n",
    "plt.xlabel('K')\n",
    "plt.ylabel('Silhouette Score')\n",
    "plt.title('Silhouette function KMeans using \\nTFIDF as embedding method')\n",
    "plt.savefig('sil_km_tfidf')"
   ]
  },
  {
   "cell_type": "markdown",
   "metadata": {},
   "source": [
    "Since the differences are not really big, we decide to choose K=8 because it seems like it has the lowest value"
   ]
  },
  {
   "cell_type": "code",
   "execution_count": 449,
   "metadata": {
    "collapsed": true
   },
   "outputs": [],
   "source": [
    "# This variable will contain our best K found.\n",
    "NUM_CLUSTERS = 8\n"
   ]
  },
  {
   "cell_type": "code",
   "execution_count": 450,
   "metadata": {},
   "outputs": [],
   "source": [
    "# So let's now produce the model we think is the more appropriate (Kmeans with K=8)\n",
    "_, labels,km = Kmeans_clusters_labels(truncated_tfidf_matrix, num_clusters=NUM_CLUSTERS, return_k_means_object=True)"
   ]
  },
  {
   "cell_type": "code",
   "execution_count": 451,
   "metadata": {
    "collapsed": true
   },
   "outputs": [],
   "source": [
    "# Let's create a DataFrame containing the documents with their predictions\n",
    "labeled_docs = pd.DataFrame({'abstract':my_corpus, 'label':labels})"
   ]
  },
  {
   "cell_type": "code",
   "execution_count": 452,
   "metadata": {},
   "outputs": [
    {
     "data": {
      "text/html": [
       "<div>\n",
       "<style scoped>\n",
       "    .dataframe tbody tr th:only-of-type {\n",
       "        vertical-align: middle;\n",
       "    }\n",
       "\n",
       "    .dataframe tbody tr th {\n",
       "        vertical-align: top;\n",
       "    }\n",
       "\n",
       "    .dataframe thead th {\n",
       "        text-align: right;\n",
       "    }\n",
       "</style>\n",
       "<table border=\"1\" class=\"dataframe\">\n",
       "  <thead>\n",
       "    <tr style=\"text-align: right;\">\n",
       "      <th></th>\n",
       "      <th>abstract</th>\n",
       "    </tr>\n",
       "    <tr>\n",
       "      <th>label</th>\n",
       "      <th></th>\n",
       "    </tr>\n",
       "  </thead>\n",
       "  <tbody>\n",
       "    <tr>\n",
       "      <th>0</th>\n",
       "      <td>2795</td>\n",
       "    </tr>\n",
       "    <tr>\n",
       "      <th>1</th>\n",
       "      <td>2860</td>\n",
       "    </tr>\n",
       "    <tr>\n",
       "      <th>2</th>\n",
       "      <td>2974</td>\n",
       "    </tr>\n",
       "    <tr>\n",
       "      <th>3</th>\n",
       "      <td>2917</td>\n",
       "    </tr>\n",
       "    <tr>\n",
       "      <th>4</th>\n",
       "      <td>2868</td>\n",
       "    </tr>\n",
       "    <tr>\n",
       "      <th>5</th>\n",
       "      <td>2703</td>\n",
       "    </tr>\n",
       "    <tr>\n",
       "      <th>6</th>\n",
       "      <td>2881</td>\n",
       "    </tr>\n",
       "    <tr>\n",
       "      <th>7</th>\n",
       "      <td>2</td>\n",
       "    </tr>\n",
       "  </tbody>\n",
       "</table>\n",
       "</div>"
      ],
      "text/plain": [
       "       abstract\n",
       "label          \n",
       "0          2795\n",
       "1          2860\n",
       "2          2974\n",
       "3          2917\n",
       "4          2868\n",
       "5          2703\n",
       "6          2881\n",
       "7             2"
      ]
     },
     "execution_count": 452,
     "metadata": {},
     "output_type": "execute_result"
    }
   ],
   "source": [
    "# Let's see how many document per cluster we have\n",
    "# It seems like they are uniformly distributed upon the 8 clusters\n",
    "labeled_docs.groupby('label').count()"
   ]
  },
  {
   "cell_type": "code",
   "execution_count": 453,
   "metadata": {
    "collapsed": true
   },
   "outputs": [],
   "source": [
    "grouped_by_label = labeled_docs.groupby(by='label')"
   ]
  },
  {
   "cell_type": "code",
   "execution_count": 454,
   "metadata": {},
   "outputs": [
    {
     "name": "stdout",
     "output_type": "stream",
     "text": [
      "-- Software Evolution through Transformations. Electronic Notes in Theoretical Computer Science\n",
      "\n",
      "\n",
      "--Spatial encryption is a generic public-key cryptosystem where vectors play the role of public keys and secret keys are associated to affine spaces. Any secret key associated to a space can decrypt all ciphertexts encrypted for vectors in that space, and the delegation relation is defined by subspace inclusion. Though several constructions of spatial encryption schemes have been proposed in the literature, none of them are known to remain secure in the leakage-resilient setting, in which the adversary may be capable of learning limited additional information about the master secret key and other secret keys in the system. In this paper, we propose the first spatial encryption scheme achieving leakage resilience in the standard model, based on existing static assumptions over bilinear groups of composite order. Our new scheme is based on the leakageresilient HIBE scheme by Lewko, Rouselakis, and Waters in TCC 2011 and can be seen as a generalization of Moriyama-Doi spatial encryption scheme to the leakage-resilient setting. Leakage-Resilient spatial encryption \n",
      "\n",
      "\n",
      "-- Comparison of Fuzzy Edge Detectors Based on the Image Recognition Rate as Performance Index Calculated with Neural Networks soft computing\n",
      "\n",
      "\n"
     ]
    }
   ],
   "source": [
    "for abstract in grouped_by_label.apply(lambda x: x.loc[x['label']==6, 'abstract']).head(3):\n",
    "    print(\"--\"+abstract+'\\n\\n')"
   ]
  },
  {
   "cell_type": "code",
   "execution_count": 455,
   "metadata": {},
   "outputs": [
    {
     "name": "stdout",
     "output_type": "stream",
     "text": [
      "--This paper focuses on knowledge engineering for the development of a system that provides affective interaction in mobile devices. The system bases its inferences about users' emotions on user input evidence from the keyboard and the microphone of the mobile device. For this purpose different experimental studies have been conducted with the participation of mobile users and human experts. The experiments' aim was twofold. They aimed at revealing the criteria that are taken into account in each mode for emotion recognition as well as their weight of importance. The results of the studies are further used for the application of a multi-criteria decision making model. Knowledge Engineering for Affective Bi-Modal Interaction in Mobile Devices joint conference on knowledge-based software engineering\n",
      "\n",
      "\n",
      "-- Design of an audio-visual speech corpus for the czech audio-visual speech synthesis. conference of the international speech communication association\n",
      "\n",
      "\n",
      "--Embedded systems often have limited amounts of available memory, thus encouraging the development of compact programs. This paper presents a link-time program compactor for the embedded MIPS architecture. The application of several important data flow and control flow analyses and the related program transformations at link-time are discussed and evaluated for a collection of typical embedded applications compiled against the uClibc library targeted at the embedded market. With the presented link-time compactor, code size reductions of up to 27% are obtained, and speedups of up to 17%. Link-time compaction of MIPS programs european symposium on algorithms\n",
      "\n",
      "\n"
     ]
    }
   ],
   "source": [
    "for abstract in grouped_by_label.apply(lambda x: x.loc[x['label']==4, 'abstract']).head(3):\n",
    "    print(\"--\"+abstract+'\\n\\n')"
   ]
  },
  {
   "cell_type": "markdown",
   "metadata": {},
   "source": [
    "It seems like Kmeans did a good job clustering texts with similar words\n",
    "For cluster 4, the first and third document have the network theme in them, even if it is not written as network in the third document and we DID NOT do any stemming. The second document is about web which is often related to the word network. We are of course speculating, but there is a kind of coherence in this clustering.\n",
    "\n",
    "Let's move now to another method of word embedding, gloVe. We will use pre-trained glove-vectors on Wikipedia to give to each document a vector representation that we will use to cluster using KMeans"
   ]
  },
  {
   "cell_type": "code",
   "execution_count": 456,
   "metadata": {
    "collapsed": true
   },
   "outputs": [],
   "source": [
    "# Method for loading a text file in a DataFrame (each row corresponds to a line)\n",
    "def load_data(path):\n",
    "    with open(path) as file:\n",
    "        words_file = pd.DataFrame([line.rstrip() for line in file])\n",
    "    return words_file"
   ]
  },
  {
   "cell_type": "code",
   "execution_count": 460,
   "metadata": {
    "collapsed": true
   },
   "outputs": [],
   "source": [
    "# Method to load glove vectors from glove.6B, which is a file from stanford containing pre-trained glove vectors on\n",
    "# wikipedia, which is more appropriate in our case than twitter glove vectors even if it contains less than for twitter.\n",
    "def load_glove(n=100):\n",
    "    \"\"\"Loading glove vectors\n",
    "    n is the dimension of the vectors, can be 50, 100, 200 or 300\"\"\"\n",
    "    path = 'glove.6B.{}d.txt'.format(n)\n",
    "    glove_vectors_100 = load_data(path)\n",
    "    glove_vectors_100[0] = glove_vectors_100[0].apply(lambda x : x.split(' ',1))\n",
    "    words = pd.DataFrame(glove_vectors_100[0].apply(lambda x : x[0]))\n",
    "    words['Vectors']= glove_vectors_100[0].apply(lambda x : x[1])\n",
    "    del(glove_vectors_100)\n",
    "    words.rename(columns={0:'Words'},inplace=True)\n",
    "    words['Words'] = words.apply(lambda x : [elem.replace('<','').replace('>','') for elem in x ])\n",
    "    words.set_index('Words',inplace=True)\n",
    "    return words\n"
   ]
  },
  {
   "cell_type": "code",
   "execution_count": 461,
   "metadata": {},
   "outputs": [],
   "source": [
    "words_glove = load_glove().to_dict()['Vectors']"
   ]
  },
  {
   "cell_type": "code",
   "execution_count": 462,
   "metadata": {},
   "outputs": [
    {
     "data": {
      "text/plain": [
       "'0.034877 0.46079 0'"
      ]
     },
     "execution_count": 462,
     "metadata": {},
     "output_type": "execute_result"
    }
   ],
   "source": [
    "# As we can see it is still in string format so we will have to process this string (we took hope as an example)\n",
    "words_glove['hope'][0:18]"
   ]
  },
  {
   "cell_type": "code",
   "execution_count": 463,
   "metadata": {
    "collapsed": true
   },
   "outputs": [],
   "source": [
    "# Now we are transforming every string a list of floats\n",
    "for word,vect in words_glove.items():\n",
    "    words_glove[word] = list(map(lambda x : float(x),(words_glove[word].split())))"
   ]
  },
  {
   "cell_type": "code",
   "execution_count": 464,
   "metadata": {},
   "outputs": [
    {
     "data": {
      "text/plain": [
       "[0.034877, 0.46079]"
      ]
     },
     "execution_count": 464,
     "metadata": {},
     "output_type": "execute_result"
    }
   ],
   "source": [
    "words_glove['hope'][0:2]"
   ]
  },
  {
   "cell_type": "code",
   "execution_count": 465,
   "metadata": {
    "collapsed": true
   },
   "outputs": [],
   "source": [
    "# Transforms a given text into a vector of dimension equal to glove vector's dimension by averaging the vectors \n",
    "# of each word, or by summing all vectors and normalizing the final vector (We can also return it as matrix)\n",
    "def vector_representation(text, words_glove, normalized=False):\n",
    "    splitted_text = text.split()\n",
    "    vectors = []\n",
    "    for word in splitted_text:\n",
    "        vect = words_glove.get(word)\n",
    "        \n",
    "        if vect is not None:\n",
    "            vectors.append(np.array(vect))\n",
    "            #print(vect)\n",
    "    #print(np.array(vectors)[0:10])\n",
    "    vectors = np.array(vectors)\n",
    "    return vectors.sum(axis=0)/len(vectors) if not normalized else vectors.sum(axis=0)/np.linalg.norm(vectors)"
   ]
  },
  {
   "cell_type": "code",
   "execution_count": 466,
   "metadata": {
    "collapsed": true
   },
   "outputs": [],
   "source": [
    "# importing stop-words that we will remove\n",
    "from nltk.corpus import stopwords\n",
    "stop_words = set(stopwords.words('english'))"
   ]
  },
  {
   "cell_type": "code",
   "execution_count": 467,
   "metadata": {
    "collapsed": true
   },
   "outputs": [],
   "source": [
    "# removes stopwords from a text\n",
    "def remove_stopwords(text,stop_words):\n",
    "    words = text.split()\n",
    "    for i,word in enumerate(words):\n",
    "        if stop_words.__contains__(word):\n",
    "            words[i] = ''\n",
    "    return ' '.join(words)\n",
    "# removes punctuation, keeps only alphabet characters\n",
    "def remove_punc_num(tweet):\n",
    "    return re.sub('[^a-zA-Z ]', '' ,tweet).lower()"
   ]
  },
  {
   "cell_type": "code",
   "execution_count": 468,
   "metadata": {},
   "outputs": [
    {
     "data": {
      "text/plain": [
       "100"
      ]
     },
     "execution_count": 468,
     "metadata": {},
     "output_type": "execute_result"
    }
   ],
   "source": [
    "# Let's define our variable for the vector's dimension\n",
    "VECT_DIM = len(words_glove['hope'])\n",
    "VECT_DIM"
   ]
  },
  {
   "cell_type": "code",
   "execution_count": 469,
   "metadata": {},
   "outputs": [
    {
     "name": "stderr",
     "output_type": "stream",
     "text": [
      "/Users/nourghaliaabassi/anaconda3/lib/python3.6/site-packages/ipykernel_launcher.py:14: RuntimeWarning: invalid value encountered in double_scalars\n",
      "  \n"
     ]
    }
   ],
   "source": [
    "# We will create a matrix X_glove containing in each row the corresponding vector (a mapping from each text to a vector)\n",
    "X_glove = np.zeros((my_corpus.shape[0],VECT_DIM))\n",
    "for i,text in enumerate(my_corpus):\n",
    "    vect = vector_representation(remove_punc_num(remove_stopwords(text, stop_words)), words_glove)\n",
    "    if np.isnan(vect).any():\n",
    "        X_glove[i,:] = np.zeros(VECT_DIM)\n",
    "    else:\n",
    "        X_glove[i,:]=vect"
   ]
  },
  {
   "cell_type": "code",
   "execution_count": 470,
   "metadata": {
    "collapsed": true
   },
   "outputs": [],
   "source": [
    "silhouette_glove_len = []\n",
    "for i in range(5,20):\n",
    "    #print('Step number : {} for {} clusters'.format(i-4,i))\n",
    "    clusters,labels = Kmeans_clusters_labels(X_glove,i)\n",
    "    distances = cdist(X_glove,clusters)\n",
    "    clusters = np.array(clusters)\n",
    "    labels = np.array(labels)\n",
    "    si=[]\n",
    "    for i in range(distances.shape[0]):\n",
    "        si.append(sil(distances[i,:], labels[i]))\n",
    "        \n",
    "    silhouette_glove_len.append(np.array(si).mean())\n",
    "    \n",
    "del(clusters, labels, distances, si, i)"
   ]
  },
  {
   "cell_type": "code",
   "execution_count": 471,
   "metadata": {},
   "outputs": [
    {
     "data": {
      "image/png": "[encoded data removed]",
      "text/plain": [
       "<matplotlib.figure.Figure at 0x183a44780>"
      ]
     },
     "metadata": {},
     "output_type": "display_data"
    }
   ],
   "source": [
    "# This is the silhouette function we find when we represent using One glove vector representing the average of all\n",
    "# glove vectors\n",
    "plt.scatter(range(5,20), silhouette_glove_len)\n",
    "plt.xlabel('K')\n",
    "plt.ylabel('Silhouette Score')\n",
    "plt.title('Silhouette function KMeans using average\\n gloVe vectors as embedding method')\n",
    "plt.savefig('sil_km_gloVe_avg')"
   ]
  },
  {
   "cell_type": "markdown",
   "metadata": {},
   "source": [
    "From the silhouette plot, we will choose K=7"
   ]
  },
  {
   "cell_type": "code",
   "execution_count": 472,
   "metadata": {
    "collapsed": true
   },
   "outputs": [],
   "source": [
    "_, labels_glove,km_glove = Kmeans_clusters_labels(X_glove, num_clusters=7, return_k_means_object=True)"
   ]
  },
  {
   "cell_type": "code",
   "execution_count": 473,
   "metadata": {
    "collapsed": true
   },
   "outputs": [],
   "source": [
    "if not dir().__contains__('labeled_docs'):\n",
    "    labeled_docs = pd.DataFrame({'abstract':my_corpus, 'label_glove':labels_glove})\n",
    "else:\n",
    "    labeled_docs['label_glove'] = labels_glove"
   ]
  },
  {
   "cell_type": "code",
   "execution_count": 474,
   "metadata": {},
   "outputs": [
    {
     "data": {
      "text/html": [
       "<div>\n",
       "<style scoped>\n",
       "    .dataframe tbody tr th:only-of-type {\n",
       "        vertical-align: middle;\n",
       "    }\n",
       "\n",
       "    .dataframe tbody tr th {\n",
       "        vertical-align: top;\n",
       "    }\n",
       "\n",
       "    .dataframe thead th {\n",
       "        text-align: right;\n",
       "    }\n",
       "</style>\n",
       "<table border=\"1\" class=\"dataframe\">\n",
       "  <thead>\n",
       "    <tr style=\"text-align: right;\">\n",
       "      <th></th>\n",
       "      <th>abstract</th>\n",
       "      <th>label</th>\n",
       "    </tr>\n",
       "    <tr>\n",
       "      <th>label_glove</th>\n",
       "      <th></th>\n",
       "      <th></th>\n",
       "    </tr>\n",
       "  </thead>\n",
       "  <tbody>\n",
       "    <tr>\n",
       "      <th>0</th>\n",
       "      <td>3192</td>\n",
       "      <td>3192</td>\n",
       "    </tr>\n",
       "    <tr>\n",
       "      <th>1</th>\n",
       "      <td>2052</td>\n",
       "      <td>2052</td>\n",
       "    </tr>\n",
       "    <tr>\n",
       "      <th>2</th>\n",
       "      <td>5084</td>\n",
       "      <td>5084</td>\n",
       "    </tr>\n",
       "    <tr>\n",
       "      <th>3</th>\n",
       "      <td>218</td>\n",
       "      <td>218</td>\n",
       "    </tr>\n",
       "    <tr>\n",
       "      <th>4</th>\n",
       "      <td>424</td>\n",
       "      <td>424</td>\n",
       "    </tr>\n",
       "    <tr>\n",
       "      <th>5</th>\n",
       "      <td>5577</td>\n",
       "      <td>5577</td>\n",
       "    </tr>\n",
       "    <tr>\n",
       "      <th>6</th>\n",
       "      <td>3453</td>\n",
       "      <td>3453</td>\n",
       "    </tr>\n",
       "  </tbody>\n",
       "</table>\n",
       "</div>"
      ],
      "text/plain": [
       "             abstract  label\n",
       "label_glove                 \n",
       "0                3192   3192\n",
       "1                2052   2052\n",
       "2                5084   5084\n",
       "3                 218    218\n",
       "4                 424    424\n",
       "5                5577   5577\n",
       "6                3453   3453"
      ]
     },
     "execution_count": 474,
     "metadata": {},
     "output_type": "execute_result"
    }
   ],
   "source": [
    "grouped_glove = labeled_docs.groupby(by='label_glove')\n",
    "grouped_glove.count()"
   ]
  },
  {
   "cell_type": "markdown",
   "metadata": {},
   "source": [
    "There is an interesting category as we can see, the one with little number of points/cluster.\n",
    "So let's check why ! "
   ]
  },
  {
   "cell_type": "code",
   "execution_count": 475,
   "metadata": {},
   "outputs": [
    {
     "name": "stdout",
     "output_type": "stream",
     "text": [
      " COMPARING GNG3D AND QUADRIC ERROR METRICS METHODS TO SIMPLIFY 3D MESHES international conference on computer graphics theory and applications\n",
      "\n",
      "\n",
      " Vectorial fast correlation attacks. \n",
      "\n",
      "\n",
      "Recent achievements in Natural Language Processing (NLP) and Psychology invoke the challenges to identify the insight of emotions. In the present study, we have identified different psychology related theme words while analyzing emotions on the interview data of ISEAR (International Survey of Emotion Antecedents and Reactions) research group. Primarily, we have developed a Graphical User Interface (GUI) to generate visual graphs for analyzing the impact of emotions with respect to different background, behavioral and physiological variables available in the ISEAR dataset. We have discussed some of the interesting results as observed from the generated visual graphs. On the other hand, different text clusters are identified from the interview statements by selecting individual as well as different combinations of the variables. Such textual clusters are used not only for retrieving the psychological theme words but also to classify the theme words into their respective emotion classes. In order to retrieve the psychological theme words from the text clusters, we have developed a rule based baseline system considering unigram based keyword spotting technique. The system has been evaluated based on a Top-n ranking strategy (where n=10, 20 or 30 most frequent theme words). Overall, the system achieves the average F-Scores of .42, .32, .36, .42, .35, .40 and .40 in identifying theme words with respect to Joy, Anger, Disgust, Fear, Guilt, Sadness and Shame emotion classes, respectively. Identifying Psychological Theme Words from Emotion Annotated Interviews \n",
      "\n",
      "\n",
      "Recently, Bridges and Reich introduced the concept of multisymplectic spectral discretizations for Hamiltonian wave equations with periodic boundary conditions [5]. In this paper, we show that the ID nonlinear Schrodinger equation and the 2D Gross-Pitaevskii equation are multi-symplectic and derive multi-symplectic spectral discretizations of these systems. The effectiveness of the discretizations is numerically tested using initial data for multi-phase solutions. Multisymplectic Spectral Methods for the Gross-Pitaevskii Equation international conference on conceptual structures\n",
      "\n",
      "\n",
      "Most applications of the abstract interpretation framework[2] have been foranalyzing functional programs use functions on abstract values to approxi-mate functions, thus assuming that functions may be called at all arguments.When the abstract domain is ﬁnite, this approach can easily be generalizedto higher order functional languages as shown for example by [1]. In practicethis leads to combinatorial explosion problems as observed, for example, instrictness analysis of higher order functional languages. Relational Abstract Interpretation of Higher Order Functional Programs (extended abstract) \n",
      "\n",
      "\n"
     ]
    }
   ],
   "source": [
    "for abstract in grouped_glove.apply(lambda x: x.loc[x['label_glove']==5, 'abstract']).head(5):\n",
    "    print(abstract+'\\n\\n')"
   ]
  },
  {
   "cell_type": "code",
   "execution_count": 476,
   "metadata": {},
   "outputs": [
    {
     "name": "stdout",
     "output_type": "stream",
     "text": [
      " Aprendizaje de Sistemas Digitales Utilizando Tecnologías Interactivas. Revista Iberoamericana De Tecnologías Del Aprendizaje\n",
      "\n",
      "\n",
      "Les donnees temporelles peuvent etre traitees de nombreuses facons afin d'en extraire des connaissances. La decouverte de motifs sequentiels met en evidence des sous-sequences frequentes contenues dans des sequences d'enregistrements annotes temporellement. L'analyse des acces a un site web permet par exemple de decouvrir que \"5% des utilisateurs accedent a la page register.php puis a la page help.html\". Cependant, les motifs sequentiels ne permettent pas d'extraire des tendances temporelles, du type \"une augmentation du nombre de requetes au formulaire d'inscription precede souvent une augmentation des requetes a la page d'aide quelques secondes plus tard\". Dans cet article, nous proposons d'extraire des motifs caracterisant ces evolutions frequentes grâce a deux algorithmes, TED et EVA. Nous presentons notre approche, implementee et testee sur des donnees reelles. Des séquences aux tendances. \n",
      "\n",
      "\n",
      "Dans le cadre de la theorie des traces, un graphe de dependance represente le comportement d'un systeme distribue (par exemple un reseau de Petri) par analogie avec la relation mot-automate dans le cas sequentiel. Un langage reconnaissable de graphes de dependances represente ainsi l'ensemble de tous les comportements d'un systeme distribue satisfaisant des conditions de regularite. Dans cet article nous caracterisons les languages de graphes obtenus a partir des precedents par suppression des etiquettes sur les sommets On the structure of recognizable languages of dependence graphs Theoretical Informatics and Applications\n",
      "\n",
      "\n",
      "Nous considerons dans cet article des reseaux de Petri etiquetes sans λ. On les appelle normalises si leurs arcs ne sont pas values et si leurs marquages initiaux et finals sont des sous-ensembles de l'ensemble des places. Nous prouvons que tout reseau de Petri general peut etre (effectivement) transforme en un reseau de Petri normalise ayant exactement le meme comportement concurrent. Ses comportements sequentiels finis et infinis ainsi que ses suites de pas sont egalement preserves. Ceci permet de toujours considerer des reseaux de Petri sous une forme normalisee quand on travaille sur le comportement des reseaux, sans restreindre la generalite des resultats. Ainsi un bon nombre de recherches futures devrait se trouver facilite Normalization of place/transition-systems preserves net behaviour Theoretical Informatics and Applications\n",
      "\n",
      "\n",
      " Un modèle efficace de normes pour les systèmes multi-agents organisationnels. Technique Et Science Informatiques\n",
      "\n",
      "\n"
     ]
    }
   ],
   "source": [
    "for abstract in grouped_glove.apply(lambda x: x.loc[x['label_glove']==3, 'abstract']).head(5): \n",
    "    print(abstract+'\\n\\n')"
   ]
  },
  {
   "cell_type": "markdown",
   "metadata": {},
   "source": [
    "As we can see for the cluster 5, glove regroupped texts with similar semantics, here we can see 4 french texts and one in spanish (the 1st one).     \n",
    "In the cluster 3, KMeans regrouped German documents.  \n",
    "So using glove can be handy if we want to verify if communities using the same language tend to work with each other most, to cite from works written in their language.\n",
    "So the low number of points/cluster was due to the fact that there is small number of documents not written in english, which suggests that glove vectors for different languages are far away from each other.\n",
    "Let's see now if normalizing the vector gives better results than averaging"
   ]
  },
  {
   "cell_type": "code",
   "execution_count": 477,
   "metadata": {},
   "outputs": [
    {
     "name": "stderr",
     "output_type": "stream",
     "text": [
      "/Users/nourghaliaabassi/anaconda3/lib/python3.6/site-packages/ipykernel_launcher.py:14: RuntimeWarning: invalid value encountered in double_scalars\n",
      "  \n"
     ]
    }
   ],
   "source": [
    "X_glove = np.zeros((my_corpus.shape[0],VECT_DIM))\n",
    "for i,text in enumerate(my_corpus):\n",
    "    vect = vector_representation(remove_punc_num(remove_stopwords(text, stop_words)), words_glove, normalized=True)\n",
    "    if np.isnan(vect).any():\n",
    "        X_glove[i,:] = np.zeros(VECT_DIM)\n",
    "    else:\n",
    "        X_glove[i,:]=vect"
   ]
  },
  {
   "cell_type": "code",
   "execution_count": 478,
   "metadata": {
    "collapsed": true
   },
   "outputs": [],
   "source": [
    "silhouette_glove_norm = []\n",
    "for i in range(5,20):\n",
    "    #print('Step number : {} for {} clusters'.format(i-4,i))\n",
    "    clusters,labels = Kmeans_clusters_labels(X_glove,i)\n",
    "    distances = cdist(X_glove,clusters)\n",
    "    clusters = np.array(clusters)\n",
    "    labels = np.array(labels)\n",
    "    si=[]\n",
    "    for i in range(distances.shape[0]):\n",
    "        si.append(sil(distances[i,:], labels[i]))\n",
    "        \n",
    "    silhouette_glove_norm.append(np.array(si).mean())\n",
    "    \n",
    "del(clusters, labels, distances, si, i)\n"
   ]
  },
  {
   "cell_type": "code",
   "execution_count": 479,
   "metadata": {},
   "outputs": [
    {
     "data": {
      "image/png": "[encoded data removed]",
      "text/plain": [
       "<matplotlib.figure.Figure at 0x183ae0518>"
      ]
     },
     "metadata": {},
     "output_type": "display_data"
    }
   ],
   "source": [
    "# This is the silhouette function we find when we represent using One glove vector representing the sum of all\n",
    "# glove vectors normalized to a unit-length vector\n",
    "plt.scatter(range(5,20), silhouette_glove_norm)\n",
    "plt.xlabel('K')\n",
    "plt.ylabel('Silhouette Score')\n",
    "plt.title('Silhouette function KMeans using \\nnormalized gloVe vectors as embedding method')\n",
    "plt.savefig('sil_km_gloVe_norm')"
   ]
  },
  {
   "cell_type": "markdown",
   "metadata": {},
   "source": [
    "So let's choose K=11 in this case and see what kind of clustering we obtained"
   ]
  },
  {
   "cell_type": "code",
   "execution_count": 480,
   "metadata": {
    "collapsed": true
   },
   "outputs": [],
   "source": [
    "_, labels_glove,km_glove = Kmeans_clusters_labels(X_glove, num_clusters=11, return_k_means_object=True)"
   ]
  },
  {
   "cell_type": "code",
   "execution_count": 481,
   "metadata": {
    "collapsed": true
   },
   "outputs": [],
   "source": [
    "if not dir().__contains__('labeled_docs'):\n",
    "    labeled_docs = pd.DataFrame({'abstract':my_corpus, 'label_glove_norm':labels_glove})\n",
    "else:\n",
    "    labeled_docs['label_glove_norm'] = labels_glove"
   ]
  },
  {
   "cell_type": "code",
   "execution_count": 482,
   "metadata": {},
   "outputs": [
    {
     "data": {
      "text/html": [
       "<div>\n",
       "<style scoped>\n",
       "    .dataframe tbody tr th:only-of-type {\n",
       "        vertical-align: middle;\n",
       "    }\n",
       "\n",
       "    .dataframe tbody tr th {\n",
       "        vertical-align: top;\n",
       "    }\n",
       "\n",
       "    .dataframe thead th {\n",
       "        text-align: right;\n",
       "    }\n",
       "</style>\n",
       "<table border=\"1\" class=\"dataframe\">\n",
       "  <thead>\n",
       "    <tr style=\"text-align: right;\">\n",
       "      <th></th>\n",
       "      <th>abstract</th>\n",
       "      <th>label</th>\n",
       "      <th>label_glove</th>\n",
       "    </tr>\n",
       "    <tr>\n",
       "      <th>label_glove_norm</th>\n",
       "      <th></th>\n",
       "      <th></th>\n",
       "      <th></th>\n",
       "    </tr>\n",
       "  </thead>\n",
       "  <tbody>\n",
       "    <tr>\n",
       "      <th>0</th>\n",
       "      <td>3809</td>\n",
       "      <td>3809</td>\n",
       "      <td>3809</td>\n",
       "    </tr>\n",
       "    <tr>\n",
       "      <th>1</th>\n",
       "      <td>1435</td>\n",
       "      <td>1435</td>\n",
       "      <td>1435</td>\n",
       "    </tr>\n",
       "    <tr>\n",
       "      <th>2</th>\n",
       "      <td>1228</td>\n",
       "      <td>1228</td>\n",
       "      <td>1228</td>\n",
       "    </tr>\n",
       "    <tr>\n",
       "      <th>3</th>\n",
       "      <td>1251</td>\n",
       "      <td>1251</td>\n",
       "      <td>1251</td>\n",
       "    </tr>\n",
       "    <tr>\n",
       "      <th>4</th>\n",
       "      <td>454</td>\n",
       "      <td>454</td>\n",
       "      <td>454</td>\n",
       "    </tr>\n",
       "    <tr>\n",
       "      <th>5</th>\n",
       "      <td>609</td>\n",
       "      <td>609</td>\n",
       "      <td>609</td>\n",
       "    </tr>\n",
       "    <tr>\n",
       "      <th>6</th>\n",
       "      <td>1516</td>\n",
       "      <td>1516</td>\n",
       "      <td>1516</td>\n",
       "    </tr>\n",
       "    <tr>\n",
       "      <th>7</th>\n",
       "      <td>50</td>\n",
       "      <td>50</td>\n",
       "      <td>50</td>\n",
       "    </tr>\n",
       "    <tr>\n",
       "      <th>8</th>\n",
       "      <td>1769</td>\n",
       "      <td>1769</td>\n",
       "      <td>1769</td>\n",
       "    </tr>\n",
       "    <tr>\n",
       "      <th>9</th>\n",
       "      <td>3631</td>\n",
       "      <td>3631</td>\n",
       "      <td>3631</td>\n",
       "    </tr>\n",
       "    <tr>\n",
       "      <th>10</th>\n",
       "      <td>4248</td>\n",
       "      <td>4248</td>\n",
       "      <td>4248</td>\n",
       "    </tr>\n",
       "  </tbody>\n",
       "</table>\n",
       "</div>"
      ],
      "text/plain": [
       "                  abstract  label  label_glove\n",
       "label_glove_norm                              \n",
       "0                     3809   3809         3809\n",
       "1                     1435   1435         1435\n",
       "2                     1228   1228         1228\n",
       "3                     1251   1251         1251\n",
       "4                      454    454          454\n",
       "5                      609    609          609\n",
       "6                     1516   1516         1516\n",
       "7                       50     50           50\n",
       "8                     1769   1769         1769\n",
       "9                     3631   3631         3631\n",
       "10                    4248   4248         4248"
      ]
     },
     "execution_count": 482,
     "metadata": {},
     "output_type": "execute_result"
    }
   ],
   "source": [
    "grouped_glove = labeled_docs.groupby(by='label_glove_norm')\n",
    "grouped_glove.count()"
   ]
  },
  {
   "cell_type": "markdown",
   "metadata": {},
   "source": [
    "As we can see, for some clusters, the points are really small, so let's check what's going on with these clusters"
   ]
  },
  {
   "cell_type": "code",
   "execution_count": 483,
   "metadata": {},
   "outputs": [
    {
     "name": "stdout",
     "output_type": "stream",
     "text": [
      " Development of Remote Monitoring and Control Device for 50KW PV System Based on the Wireless Network \n",
      "\n",
      "\n",
      " COMPARING GNG3D AND QUADRIC ERROR METRICS METHODS TO SIMPLIFY 3D MESHES international conference on computer graphics theory and applications\n",
      "\n",
      "\n",
      " A Self-Stabilizing Algorithm for Finding the Cutting Center of a Tree. parallel and distributed processing techniques and applications\n",
      "\n",
      "\n",
      " Fur Visualisation for Computer Game Engines and Real-Time Rendering international conference on computer vision and graphics\n",
      "\n",
      "\n",
      " Simulation of a vision steering system for road vehicles \n",
      "\n",
      "\n"
     ]
    }
   ],
   "source": [
    "# Let's start with cluster n=10\n",
    "for abstract in grouped_glove.apply(lambda x: x.loc[x['label_glove_norm']==10, 'abstract']).head(5):\n",
    "    print(abstract+'\\n\\n')"
   ]
  },
  {
   "cell_type": "code",
   "execution_count": 484,
   "metadata": {},
   "outputs": [
    {
     "name": "stdout",
     "output_type": "stream",
     "text": [
      "The purpose of this study is to develop a learning tool for high school students studying the scientific aspects of information and communication net- works. More specifically, we focus on the basic principles of network proto- cols as the aim to develop our learning tool. Our tool gives students hands-on experience to help understand the basic principles of network protocols. Preliminary Design of a Network Protocol Learning Tool Based on the Comprehension of High School Students: Design by an Empirical Study Using a Simple Mind Map international conference on human-computer interaction\n",
      "\n",
      "\n",
      "This paper focuses on knowledge engineering for the development of a system that provides affective interaction in mobile devices. The system bases its inferences about users' emotions on user input evidence from the keyboard and the microphone of the mobile device. For this purpose different experimental studies have been conducted with the participation of mobile users and human experts. The experiments' aim was twofold. They aimed at revealing the criteria that are taken into account in each mode for emotion recognition as well as their weight of importance. The results of the studies are further used for the application of a multi-criteria decision making model. Knowledge Engineering for Affective Bi-Modal Interaction in Mobile Devices joint conference on knowledge-based software engineering\n",
      "\n",
      "\n",
      "Embedded systems often have limited amounts of available memory, thus encouraging the development of compact programs. This paper presents a link-time program compactor for the embedded MIPS architecture. The application of several important data flow and control flow analyses and the related program transformations at link-time are discussed and evaluated for a collection of typical embedded applications compiled against the uClibc library targeted at the embedded market. With the presented link-time compactor, code size reductions of up to 27% are obtained, and speedups of up to 17%. Link-time compaction of MIPS programs european symposium on algorithms\n",
      "\n",
      "\n",
      "FTP Mirror Tracker is a software package (written in Perl and C++) that enables transparent, user-controlled redirection to the nearest anonymous FTP mirror sites that are exact replicas of the original source. This redirection can be achieved by using a Web Cache server or by making HTTP requests to the FTP Mirror Tracker directly. The Mirror Tracker also has internal URN support and can be used as a URN resolver for FTP requests. Underlying the system is a MySQL database recording FTP mirror site details. In this report we explain how this database is constructed, and show how it may be used - directly by end users, and under the policy based control of Web Cache and mirror service administrators. FTP Mirror Tracker: A Few Steps Towards URN usenix large installation systems administration conference\n",
      "\n",
      "\n",
      "The paper describes user behavior as a result of introducing monetization in the freemium educational online platform. Monetization resulted in alternative system growth mechanisms, causing viral increase in the number of users. Given different options, users choose the most advantageous and simple ones for them. System metrics in terms of the K-factor was utilized as an indicator of the system user base growth. The weekly K-factor almost doubled as a result of monetization introduction. Monetization and viral growth can be both competing and complementary mechanisms for the system growth. Monetization as a Motivator for the Freemium Educational Platform Growth arXiv: Computers and Society\n",
      "\n",
      "\n"
     ]
    }
   ],
   "source": [
    "for abstract in grouped_glove.apply(lambda x: x.loc[x['label_glove_norm']==8, 'abstract']).head(5):\n",
    "    print(abstract+'\\n\\n')"
   ]
  },
  {
   "cell_type": "code",
   "execution_count": 485,
   "metadata": {},
   "outputs": [
    {
     "name": "stdout",
     "output_type": "stream",
     "text": [
      "Most applications of the abstract interpretation framework[2] have been foranalyzing functional programs use functions on abstract values to approxi-mate functions, thus assuming that functions may be called at all arguments.When the abstract domain is ﬁnite, this approach can easily be generalizedto higher order functional languages as shown for example by [1]. In practicethis leads to combinatorial explosion problems as observed, for example, instrictness analysis of higher order functional languages. Relational Abstract Interpretation of Higher Order Functional Programs (extended abstract) \n",
      "\n",
      "\n",
      "Previous language modeling approaches to information retrieval have focused primarily on single terms. The use of bigram models has been studied, but the restriction on word order and adjacency may not be justified for information retrieval. We propose a new language modeling approach to information retrieval that incorporates lexical affinities, or pairs of words that occur near each other, without a constraint on word order. The use of compound terms in the vector space model has been shown to outperform the vector model with only single terms (Nie & Dufort, 2002). We explore the use of compound terms in a language modeling approach, and compare our results with the vector space model, and unigram and bigram language model approaches. Word pairs in language modeling for information retrieval \n",
      "\n",
      "\n",
      "Spatial encryption is a generic public-key cryptosystem where vectors play the role of public keys and secret keys are associated to affine spaces. Any secret key associated to a space can decrypt all ciphertexts encrypted for vectors in that space, and the delegation relation is defined by subspace inclusion. Though several constructions of spatial encryption schemes have been proposed in the literature, none of them are known to remain secure in the leakage-resilient setting, in which the adversary may be capable of learning limited additional information about the master secret key and other secret keys in the system. In this paper, we propose the first spatial encryption scheme achieving leakage resilience in the standard model, based on existing static assumptions over bilinear groups of composite order. Our new scheme is based on the leakageresilient HIBE scheme by Lewko, Rouselakis, and Waters in TCC 2011 and can be seen as a generalization of Moriyama-Doi spatial encryption scheme to the leakage-resilient setting. Leakage-Resilient spatial encryption \n",
      "\n",
      "\n",
      "We discuss traveling wave solutions to the Yukawa equations, a system of nonlinear partial differential equations which has applications to meson–nucleon interactions. The Yukawa equations are converted to a six-dimensional dynamical system, which is then studied for various values of the wave speed and mass parameter. The stability of the solutions is discussed, and the methods of competitive modes is used to describe parameter regimes for which chaotic behaviors may appear. Numerical solutions are employed to better demonstrate the dependence of traveling wave solutions on the physical parameters in the Yukawa model. We find a variety of interesting behaviors in the system, a few of which we demonstrate graphically, which depend upon the relative strength of the mass parameter to the wave speed as well as the initial data. Traveling wave solutions of the n-dimensional coupled Yukawa equations Applied Mathematics Letters\n",
      "\n",
      "\n",
      "In this paper, we investigate the multi-layer topology preserving mapping for K-means. We present a Multi-layer Topology Preserving Mapping (MTPM) based on the idea of deep architectures. We demonstrate that the MTPM output can be used to discover the number of clusters for K-means and initialize the prototypes of K-means more reasonably. Also, K-means clusters the data based on the discovered underlying structure of the data by the MTPM. The standard wine data set is used to test our algorithm. We finally analyse a real biological data set with no prior clustering information available. Multi-layer topology preserving mapping for K-means clustering intelligent data engineering and automated learning\n",
      "\n",
      "\n"
     ]
    }
   ],
   "source": [
    "for abstract in grouped_glove.apply(lambda x: x.loc[x['label_glove_norm']==1, 'abstract']).head(5):\n",
    "    print(abstract+'\\n\\n')"
   ]
  },
  {
   "cell_type": "code",
   "execution_count": 486,
   "metadata": {},
   "outputs": [
    {
     "name": "stdout",
     "output_type": "stream",
     "text": [
      "Distributed computing systems are of huge importance in a number of recently established and future functions in computer science. For example, they are vital to banking applications, communication of electronic systems, air trafﬁc control, manufacturing automation, biomedical operation works, space monitoring systems and robotics information systems. As the nature of computing comes to be increasingly directed towards intelligence and autonomy, intelligent computations will be the key for all future applications. Intelligent distributed computing will become the base for the growth of an innovative generation of intelligent distributed systems. Nowadays, research centres require the development of architectures of intelligent and collaborated systems; these systems must be capable of solving problems by themselves to save processing time and reduce costs. Building an intelligent style of distributed computing that controls the whole distributed system requires communications that must be based on a completely consistent system. The model of the ideal system to be adopted in building an intelligent distributed computing structure is the human body system, speciﬁcally the body’s cells. As an artiﬁcial and virtual simulation of the high degree of intelligence that controls the body’s cells, this chapter proposes a Cell-Oriented Computing model as a solution to accomplish the desired Intelligent Distributed Computing system. Towards intelligent distributed computing : cell-oriented computing \n",
      "\n",
      "\n",
      "Utilization of camera systems for surveillance tasks (e. g. traffic monitoring) has become a standard procedure and has been in use for over 20 years. However, most of the cameras are operated locally and data analyzed manually. Locally means here a limited field of view and that the image sequences are processed independently from other cameras. For the enlargement of the observation area and to avoid occlusions and non-accessible areas multiple camera systems with overlapping and non-overlapping cameras are used. The joint processing of image sequences of a multi-camera system is a scientific and technical challenge. The processing is divided traditionally into camera calibration, object detection, tracking and interpretation. The fusion of information from different cameras is carried out in the world coordinate system. To reduce the network load, a distributed processing concept can be implemented.#R##N##R##N#Object detection and tracking are fundamental image processing tasks for scene evaluation. Situation assessments are based mainly on characteristic local movement patterns (e.g. directions and speed), from which trajectories are derived. It is possible to recognize atypical movement patterns of each detected object by comparing local properties of the trajectories. Interaction of different objects can also be predicted with an additional classification algorithm.#R##N##R##N#This presentation discusses trajectory based recognition algorithms for atypical event detection in multi object scenes to obtain area based types of information (e.g. maps of speed patterns, trajectory curvatures or erratic movements) and shows that two-dimensional areal data analysis of moving objects with multiple cameras offers new possibilities for situational analysis. Traffic observation and situation assessment international conference on computer vision\n",
      "\n",
      "\n",
      "In this chapter, I discuss my experiences applying Problem-Based Learn- ing to technical IT courses such as mathematics and computer application design and programming. One of the hallmarks of nearly any technical concentration is a critical need to develop strong individual, and typically challenging, technical skill sets early in the program, and high dependence on these skill sets in later courses, internships, and ultimately professional work or graduate studies. Another hallmark of the IT field is a need for strong metacognitive skills to analyze complex scenarios and the ability to creatively use their technical skill sets to synthesize new solutions and create working systems, much like an artist creates new works. The chapter is a reflection of how I try to: (1) Structure early courses to help stu- dents rapidly gain difficult technical skill sets without crushing their will to contin- ue as a result of harsh weed-out techniques, but at the same time rigorously demand and assess progress; (2) Balance conflicts between the desire for rapid and efficient assessment versus the need for detailed and careful assessment that avoids gaming of the assessment system by students; (3) Gradually push technical students away from memorize-and-regurgitate learning approaches and towards an independent learning model; and (4) Help students make the transition from early individual- ized skill set development to wider-scale analysis and creative synthesis of complex systems. Teaching and Learning in Technical IT Courses \n",
      "\n",
      "\n",
      "Accurately locating users in a wireless environment is an important task for many pervasive computing and AI applications, such as activity recognition. In a WiFi environment, a mobile device can be localized using signals received from various transmitters, such as access points (APs). Most localization approaches build a map between the signal space and the physical location space in a offline phase, and then using the received-signal-strength (RSS) map to estimate the location in an online phase. However, the map can be outdated when the signal-strength values change with time due to environmental dynamics. It is infeasible or expensive to repeat data calibration for reconstructing the RSS map. In such a case, it is important to adapt the model learnt in one time period to another time period without too much recalibration. In this paper, we present a location-estimation approach based on Manifold co-Regularization, which is a machine learning technique for building a mapping function between data. We describe LeManCoR, a system for adapting the mapping function between the signal space and physical location space over different time periods based on Manifold Co-Regularization. We show that LeManCoR can effectively transfer the knowledge between two time periods without requiring too much new calibration effort. We illustrate LeMan-CoR's effectiveness in a real 802.11 WiFi environment. Adaptive localization in a dynamic WiFi environment through multi-view learning national conference on artificial intelligence\n",
      "\n",
      "\n",
      "Knowledge of how a science data product has been generated is a critical component to determining its fitness-for-use for a given analysis. One objective of science information systems is to allow users to search for data products based on a wide range of criteria; spatial and temporal extent, observed parameter, research domain, and organizational project are common search criteria. Currently, science information systems are geared towards helping users find data, but not in helping users determine how the products were generated. An information system that exposes the provenance of available data products, that is what observations, assumptions, and science processing were involved in the generation of the data products, would contribute significant benefit to user fitness-for-use decision-making.#R##N##R##N#In this work we discuss semantics-driven provenance extensions to the Virtual Solar Terrestrial Observatory (VSTO) information system. The VSTO semantic web portal uses an ontology to provide a unified search and product retrieval interface to data in the fields of solar, solar-terrestrial, and space physics. We have developed an extension to the VSTO ontology that allows it to express item-level data product records. We will show how the Open Provenance Model (OPM) and the Proof Markup Language (PML) can be used to express the provenance of data product records. Additionally, we will discuss ways in which domain semantics can aid in the formulation - and answering - of provenance queries. Our extension to the VSTO ontology has also been integrated with a solar-terrestrial profile of the Observation and Measurement (OM we utilize this integration to connect observation events to the data product record lineage.#R##N##R##N#Our additions to the VSTO ontology will allow us to extend the VSTO web portal user interface with search criteria based on provenance and observation characteristics. More critically, provenance information will allow the VSTO portal to display important knowledge about selected data records; what science processes and assumptions were applied to generate the record, what observations the record derives from, and the results of quality processing that had been applied to the record and any records it derives from. We conclude by showing our interface for showing record provenance information and discuss how it aids users in determining fitness-for-use of the data. Integrating provenance into an operational data product information system international provenance and annotation workshop\n",
      "\n",
      "\n"
     ]
    }
   ],
   "source": [
    "for abstract in grouped_glove.apply(lambda x: x.loc[x['label_glove_norm']==4, 'abstract']).head(5):\n",
    "    print(abstract+'\\n\\n')"
   ]
  },
  {
   "cell_type": "code",
   "execution_count": 487,
   "metadata": {},
   "outputs": [
    {
     "name": "stdout",
     "output_type": "stream",
     "text": [
      "In recent years, most of mobile phones have a function of pedestrian navigation guidance. It was reported that users sometimes feel anxiety because of low accuracy of the position estimation especially in urban area and delay of information updating. In order to reduce the anxiety, a route planning algorithm is proposed in this study, which weighs user's difficulty (or easiness) of locating own current position as well as total physical distance of courses. The difficulty is estimated by valuation functions based on the \"recognizability\" and \"visibility\" of landmarks. An experimental study conducted in real situation using a prototype system to examine and refine the model for the optimal route planning. As the result, a modified model is proposed as a promising method of route planning for user's easy wayfinding. A pedestrian navigation method for user's safe and easy wayfinding international conference on human computer interaction\n",
      "\n",
      "\n",
      "Business strategy should be well understood in order to support an enterprise to achieve its vision and to define an architecture supporting that vision. While business views are identified in many Enterprise Architecture (EA) proposals, business strategy formulations from the area of Strategic Management are overlooked. Thus, IT solutions cannot be traced back to business strategy in a clear and unambiguous way. Our intended proposal, a Unified Business Strategy Meta-Model (UBSMM), aims at establishing such a link. UBSMM is a formalization of the integration of known business strategy formulations with precise semantics enabling its model-level usage to provide strategic awareness to Enterprise Architecture. In this paper we present the development process of UBSMM, and further, we propose conceptual relationships towards Enterprise Architecture (EA). Model-Driven Strategic Awareness: From a Unified Business Strategy Meta-Model (UBSMM) to Enterprise Architecture \n",
      "\n",
      "\n",
      "In recent years, several advanced methods for image steganalysis were proposed. During research process, some concerns are more and more addressed by steganalyzer. In this paper, we focus on several of these concerns. The first one is how to utilize SVM classifier in practical steganalysis, we use clustering analysis to divide training samples and train several SVM for detecting stego image. In this part we also discussed building an image database that can be used for evaluating steganography/steganalysis fairly. The second is how to designed proper classifier for steganalysis, especially how to take information of cover/stego image pair into account. We will discuss several notions regard to these two concerns. Two notes from experimental study on image steganalysis international conference on intelligent computing\n",
      "\n",
      "\n",
      "Resource tagging has become an integral and important feature in enabling community users to easily access relevant content in a timely manner. Various methods have been proposed and implemented to optimize the identification of and access to tags used to characterize resources across different types of social web-based communities. While these user-focused tagging methods have shown promise in their limited application, they do not transfer well to internal business applications where the cost, time, tagged content, and user resources needed to implement them is prohibitive. This paper provides a case study of the process, tools, and methods used to engage users in the development and management of a tag taxonomy (folksontology) used to characterize content in an internal technical support community in the Cisco Global Technology Center. The role of the community in a technical support community: a case study \n",
      "\n",
      "\n",
      "Data skewness is a challenge encountered, in particular, when apply- ing supervised machine learning approaches in various domains, such as in healthcare and biomedical information engineering. Evidence Based Medicine (EBM) is a clinical strategy for prescribing treatment based on current best evi- dence for individual patients. Clinicians need to query publication repositories in order to find the best evidence to support their decision-making processes. This sophisticated information is materialised in the form of scientific artefacts in scholarly publications and the automatic extraction of these artefacts is a technical challenge for current generic search engines. Many classification ap- proaches have been proposed for identifying key scientific artefacts in EBM, however their performance is affected by the imbalanced characteristic of data in this domain. In this paper, we present four data balancing approaches applied in a binary ensemble classifier framework for classifying scientific artefacts in the EBM domain. Our balancing approaches improve the ensemble classifier's F-score by up to 15% for classes of scientific artefacts with extremely low cov- erage in the domain. In addition, we propose a classifier selection method for choosing the best classifier based on the distributional feature of classes. The resulting classifiers show improved classification performances when compared to state of the art approaches. Load Balancing for Imbalanced Data Sets: Classifying Scientific Artefacts for Evidence Based Medicine pacific rim international conference on artificial intelligence\n",
      "\n",
      "\n"
     ]
    }
   ],
   "source": [
    "for abstract in grouped_glove.apply(lambda x: x.loc[x['label_glove_norm']==3, 'abstract']).head(5):\n",
    "    print(abstract+'\\n\\n')"
   ]
  },
  {
   "cell_type": "markdown",
   "metadata": {},
   "source": [
    "As we can see, it seems like now, the length of the document matters, as we can see, we still clustered the french from the others, but as we can see, in each sample, the length of the documents is either big or small, no documents with substantially different length appears together, so KMeans with gloVe normalized seems to fail clustering by topic but still get you the different languages if they exist.  \n",
    "\n",
    "For this reason, let's try clustering using K=4 and see if we have 4 different clusters for each language"
   ]
  },
  {
   "cell_type": "code",
   "execution_count": 488,
   "metadata": {
    "collapsed": true
   },
   "outputs": [],
   "source": [
    "_, labels_glove,km_glove = Kmeans_clusters_labels(X_glove, num_clusters=4, return_k_means_object=True)"
   ]
  },
  {
   "cell_type": "code",
   "execution_count": 489,
   "metadata": {
    "collapsed": true
   },
   "outputs": [],
   "source": [
    "if not dir().__contains__('labeled_docs'):\n",
    "    labeled_docs = pd.DataFrame({'abstract':my_corpus, 'label_glove_4':labels_glove})\n",
    "else:\n",
    "    labeled_docs['label_glove_4'] = labels_glove"
   ]
  },
  {
   "cell_type": "code",
   "execution_count": 490,
   "metadata": {},
   "outputs": [
    {
     "data": {
      "text/html": [
       "<div>\n",
       "<style scoped>\n",
       "    .dataframe tbody tr th:only-of-type {\n",
       "        vertical-align: middle;\n",
       "    }\n",
       "\n",
       "    .dataframe tbody tr th {\n",
       "        vertical-align: top;\n",
       "    }\n",
       "\n",
       "    .dataframe thead th {\n",
       "        text-align: right;\n",
       "    }\n",
       "</style>\n",
       "<table border=\"1\" class=\"dataframe\">\n",
       "  <thead>\n",
       "    <tr style=\"text-align: right;\">\n",
       "      <th></th>\n",
       "      <th>abstract</th>\n",
       "      <th>label</th>\n",
       "      <th>label_glove</th>\n",
       "      <th>label_glove_norm</th>\n",
       "    </tr>\n",
       "    <tr>\n",
       "      <th>label_glove_4</th>\n",
       "      <th></th>\n",
       "      <th></th>\n",
       "      <th></th>\n",
       "      <th></th>\n",
       "    </tr>\n",
       "  </thead>\n",
       "  <tbody>\n",
       "    <tr>\n",
       "      <th>0</th>\n",
       "      <td>4972</td>\n",
       "      <td>4972</td>\n",
       "      <td>4972</td>\n",
       "      <td>4972</td>\n",
       "    </tr>\n",
       "    <tr>\n",
       "      <th>1</th>\n",
       "      <td>4241</td>\n",
       "      <td>4241</td>\n",
       "      <td>4241</td>\n",
       "      <td>4241</td>\n",
       "    </tr>\n",
       "    <tr>\n",
       "      <th>2</th>\n",
       "      <td>7557</td>\n",
       "      <td>7557</td>\n",
       "      <td>7557</td>\n",
       "      <td>7557</td>\n",
       "    </tr>\n",
       "    <tr>\n",
       "      <th>3</th>\n",
       "      <td>3230</td>\n",
       "      <td>3230</td>\n",
       "      <td>3230</td>\n",
       "      <td>3230</td>\n",
       "    </tr>\n",
       "  </tbody>\n",
       "</table>\n",
       "</div>"
      ],
      "text/plain": [
       "               abstract  label  label_glove  label_glove_norm\n",
       "label_glove_4                                                \n",
       "0                  4972   4972         4972              4972\n",
       "1                  4241   4241         4241              4241\n",
       "2                  7557   7557         7557              7557\n",
       "3                  3230   3230         3230              3230"
      ]
     },
     "execution_count": 490,
     "metadata": {},
     "output_type": "execute_result"
    }
   ],
   "source": [
    "grouped_glove = labeled_docs.groupby(by='label_glove_4')\n",
    "grouped_glove.count()"
   ]
  },
  {
   "cell_type": "code",
   "execution_count": 491,
   "metadata": {},
   "outputs": [
    {
     "name": "stdout",
     "output_type": "stream",
     "text": [
      " Reasonig about Set-Oriented Methods in Object Databases. \n",
      "\n",
      "\n",
      " Vectorial fast correlation attacks. \n",
      "\n",
      "\n"
     ]
    }
   ],
   "source": [
    "for abstract in grouped_glove.apply(lambda x: x.loc[x['label_glove_4']==0, 'abstract']).head(2):\n",
    "    print(abstract+'\\n\\n')"
   ]
  },
  {
   "cell_type": "code",
   "execution_count": 492,
   "metadata": {},
   "outputs": [
    {
     "name": "stdout",
     "output_type": "stream",
     "text": [
      "The purpose of this study is to develop a learning tool for high school students studying the scientific aspects of information and communication net- works. More specifically, we focus on the basic principles of network proto- cols as the aim to develop our learning tool. Our tool gives students hands-on experience to help understand the basic principles of network protocols. Preliminary Design of a Network Protocol Learning Tool Based on the Comprehension of High School Students: Design by an Empirical Study Using a Simple Mind Map international conference on human-computer interaction\n",
      "\n",
      "\n",
      "This article applied GARCH model instead AR or ARMA model to compare with the standard BP and SVM in forecasting of the four international including two Asian stock markets indices.These models were evaluated on five performance metrics or criteria. Our experimental results showed the superiority of SVM and GARCH models, compared to the standard BP in forecasting of the four international stock markets indices. Comparison of GARCH, Neural Network and Support Vector Machine in Financial Time Series Prediction pattern recognition and machine intelligence\n",
      "\n",
      "\n"
     ]
    }
   ],
   "source": [
    "for abstract in grouped_glove.apply(lambda x: x.loc[x['label_glove_4']==1, 'abstract']).head(2):\n",
    "    print(abstract+'\\n\\n')"
   ]
  },
  {
   "cell_type": "code",
   "execution_count": 493,
   "metadata": {},
   "outputs": [
    {
     "name": "stdout",
     "output_type": "stream",
     "text": [
      " Development of Remote Monitoring and Control Device for 50KW PV System Based on the Wireless Network \n",
      "\n",
      "\n",
      " COMPARING GNG3D AND QUADRIC ERROR METRICS METHODS TO SIMPLIFY 3D MESHES international conference on computer graphics theory and applications\n",
      "\n",
      "\n"
     ]
    }
   ],
   "source": [
    "for abstract in grouped_glove.apply(lambda x: x.loc[x['label_glove_4']==2, 'abstract']).head(2):\n",
    "    print(abstract+'\\n\\n')"
   ]
  },
  {
   "cell_type": "code",
   "execution_count": 494,
   "metadata": {},
   "outputs": [
    {
     "name": "stdout",
     "output_type": "stream",
     "text": [
      "This paper describes the design and implementation of a methodology for the visualisation and hypothetical virtual reconstruction of Roman polychrome statuary for research purposes. The methodology is intended as an attempt to move beyond visualisations which are simply believable towards a more physically accurate approach. Accurate representations of polychrome statuary have great potential utility both as a means of illustrating existing interpretations and as a means of testing and revising developing hypotheses. The goal of this methodology is to propose a pipeline which incorporates a high degree of physical accuracy whilst also being practically applicable in a conventional archaeological research setting. The methodology is designed to allow the accurate visualisation of surviving objects and colourants as well as providing reliable methods for the hypothetical reconstruction of elements which no longer survive. The process proposed here is intended to limit the need for specialist recording equipment, utilising existing data and those data which can be collected using widely available technology. It is at present being implemented as part of the 'Statues in Context' project at Herculaneum and will be demonstrated here using the case study of a small area of the head of a painted female statue discovered at Herculaneum in 2006. A methodology for the physically accurate visualisation of roman polychrome statuary visual analytics science and technology\n",
      "\n",
      "\n",
      "Recent achievements in Natural Language Processing (NLP) and Psychology invoke the challenges to identify the insight of emotions. In the present study, we have identified different psychology related theme words while analyzing emotions on the interview data of ISEAR (International Survey of Emotion Antecedents and Reactions) research group. Primarily, we have developed a Graphical User Interface (GUI) to generate visual graphs for analyzing the impact of emotions with respect to different background, behavioral and physiological variables available in the ISEAR dataset. We have discussed some of the interesting results as observed from the generated visual graphs. On the other hand, different text clusters are identified from the interview statements by selecting individual as well as different combinations of the variables. Such textual clusters are used not only for retrieving the psychological theme words but also to classify the theme words into their respective emotion classes. In order to retrieve the psychological theme words from the text clusters, we have developed a rule based baseline system considering unigram based keyword spotting technique. The system has been evaluated based on a Top-n ranking strategy (where n=10, 20 or 30 most frequent theme words). Overall, the system achieves the average F-Scores of .42, .32, .36, .42, .35, .40 and .40 in identifying theme words with respect to Joy, Anger, Disgust, Fear, Guilt, Sadness and Shame emotion classes, respectively. Identifying Psychological Theme Words from Emotion Annotated Interviews \n",
      "\n",
      "\n"
     ]
    }
   ],
   "source": [
    "for abstract in grouped_glove.apply(lambda x: x.loc[x['label_glove_4']==3, 'abstract']).head(2):\n",
    "    print(abstract+'\\n\\n')"
   ]
  },
  {
   "cell_type": "code",
   "execution_count": 495,
   "metadata": {},
   "outputs": [
    {
     "name": "stderr",
     "output_type": "stream",
     "text": [
      "/Users/nourghaliaabassi/anaconda3/lib/python3.6/site-packages/ipykernel_launcher.py:14: RuntimeWarning: invalid value encountered in double_scalars\n",
      "  \n"
     ]
    }
   ],
   "source": [
    "X_glove = np.zeros((my_corpus.shape[0],VECT_DIM))\n",
    "for i,text in enumerate(my_corpus):\n",
    "    vect = vector_representation(remove_punc_num(remove_stopwords(text, stop_words)), words_glove)\n",
    "    if np.isnan(vect).any():\n",
    "        X_glove[i,:] = np.zeros(VECT_DIM)\n",
    "    else:\n",
    "        X_glove[i,:]=vect"
   ]
  },
  {
   "cell_type": "code",
   "execution_count": 496,
   "metadata": {
    "collapsed": true
   },
   "outputs": [],
   "source": [
    "_, labels_glove,km_glove = Kmeans_clusters_labels(X_glove, num_clusters=4, return_k_means_object=True)"
   ]
  },
  {
   "cell_type": "code",
   "execution_count": 497,
   "metadata": {
    "collapsed": true
   },
   "outputs": [],
   "source": [
    "if not dir().__contains__('labeled_docs'):\n",
    "    labeled_docs = pd.DataFrame({'abstract':my_corpus, 'label_glove_4_avg':labels_glove})\n",
    "else:\n",
    "    labeled_docs['label_glove_4_avg'] = labels_glove"
   ]
  },
  {
   "cell_type": "code",
   "execution_count": 498,
   "metadata": {},
   "outputs": [
    {
     "data": {
      "text/html": [
       "<div>\n",
       "<style scoped>\n",
       "    .dataframe tbody tr th:only-of-type {\n",
       "        vertical-align: middle;\n",
       "    }\n",
       "\n",
       "    .dataframe tbody tr th {\n",
       "        vertical-align: top;\n",
       "    }\n",
       "\n",
       "    .dataframe thead th {\n",
       "        text-align: right;\n",
       "    }\n",
       "</style>\n",
       "<table border=\"1\" class=\"dataframe\">\n",
       "  <thead>\n",
       "    <tr style=\"text-align: right;\">\n",
       "      <th></th>\n",
       "      <th>abstract</th>\n",
       "      <th>label</th>\n",
       "      <th>label_glove</th>\n",
       "      <th>label_glove_norm</th>\n",
       "      <th>label_glove_4</th>\n",
       "    </tr>\n",
       "    <tr>\n",
       "      <th>label_glove_4_avg</th>\n",
       "      <th></th>\n",
       "      <th></th>\n",
       "      <th></th>\n",
       "      <th></th>\n",
       "      <th></th>\n",
       "    </tr>\n",
       "  </thead>\n",
       "  <tbody>\n",
       "    <tr>\n",
       "      <th>0</th>\n",
       "      <td>5807</td>\n",
       "      <td>5807</td>\n",
       "      <td>5807</td>\n",
       "      <td>5807</td>\n",
       "      <td>5807</td>\n",
       "    </tr>\n",
       "    <tr>\n",
       "      <th>1</th>\n",
       "      <td>9172</td>\n",
       "      <td>9172</td>\n",
       "      <td>9172</td>\n",
       "      <td>9172</td>\n",
       "      <td>9172</td>\n",
       "    </tr>\n",
       "    <tr>\n",
       "      <th>2</th>\n",
       "      <td>4376</td>\n",
       "      <td>4376</td>\n",
       "      <td>4376</td>\n",
       "      <td>4376</td>\n",
       "      <td>4376</td>\n",
       "    </tr>\n",
       "    <tr>\n",
       "      <th>3</th>\n",
       "      <td>645</td>\n",
       "      <td>645</td>\n",
       "      <td>645</td>\n",
       "      <td>645</td>\n",
       "      <td>645</td>\n",
       "    </tr>\n",
       "  </tbody>\n",
       "</table>\n",
       "</div>"
      ],
      "text/plain": [
       "                   abstract  label  label_glove  label_glove_norm  \\\n",
       "label_glove_4_avg                                                   \n",
       "0                      5807   5807         5807              5807   \n",
       "1                      9172   9172         9172              9172   \n",
       "2                      4376   4376         4376              4376   \n",
       "3                       645    645          645               645   \n",
       "\n",
       "                   label_glove_4  \n",
       "label_glove_4_avg                 \n",
       "0                           5807  \n",
       "1                           9172  \n",
       "2                           4376  \n",
       "3                            645  "
      ]
     },
     "execution_count": 498,
     "metadata": {},
     "output_type": "execute_result"
    }
   ],
   "source": [
    "grouped_glove = labeled_docs.groupby(by='label_glove_4_avg')\n",
    "grouped_glove.count()"
   ]
  },
  {
   "cell_type": "code",
   "execution_count": 499,
   "metadata": {},
   "outputs": [
    {
     "name": "stdout",
     "output_type": "stream",
     "text": [
      "The purpose of this study is to develop a learning tool for high school students studying the scientific aspects of information and communication net- works. More specifically, we focus on the basic principles of network proto- cols as the aim to develop our learning tool. Our tool gives students hands-on experience to help understand the basic principles of network protocols. Preliminary Design of a Network Protocol Learning Tool Based on the Comprehension of High School Students: Design by an Empirical Study Using a Simple Mind Map international conference on human-computer interaction\n",
      "\n",
      "\n",
      " Development of Remote Monitoring and Control Device for 50KW PV System Based on the Wireless Network \n",
      "\n",
      "\n"
     ]
    }
   ],
   "source": [
    "for abstract in grouped_glove.apply(lambda x: x.loc[x['label_glove_4_avg']==0, 'abstract']).head(2):\n",
    "    print(abstract+'\\n\\n')"
   ]
  },
  {
   "cell_type": "code",
   "execution_count": 500,
   "metadata": {},
   "outputs": [
    {
     "name": "stdout",
     "output_type": "stream",
     "text": [
      " Reasonig about Set-Oriented Methods in Object Databases. \n",
      "\n",
      "\n",
      "Recently, Bridges and Reich introduced the concept of multisymplectic spectral discretizations for Hamiltonian wave equations with periodic boundary conditions [5]. In this paper, we show that the ID nonlinear Schrodinger equation and the 2D Gross-Pitaevskii equation are multi-symplectic and derive multi-symplectic spectral discretizations of these systems. The effectiveness of the discretizations is numerically tested using initial data for multi-phase solutions. Multisymplectic Spectral Methods for the Gross-Pitaevskii Equation international conference on conceptual structures\n",
      "\n",
      "\n"
     ]
    }
   ],
   "source": [
    "for abstract in grouped_glove.apply(lambda x: x.loc[x['label_glove_4_avg']==2, 'abstract']).head(2):\n",
    "    print(abstract+'\\n\\n')"
   ]
  },
  {
   "cell_type": "code",
   "execution_count": 501,
   "metadata": {},
   "outputs": [
    {
     "name": "stdout",
     "output_type": "stream",
     "text": [
      " HyperScout: Linkvorschau im World Wide Web. Zeitschrift Für Interaktive Und Kooperative Medien\n",
      "\n",
      "\n",
      " Aprendizaje de Sistemas Digitales Utilizando Tecnologías Interactivas. Revista Iberoamericana De Tecnologías Del Aprendizaje\n",
      "\n",
      "\n"
     ]
    }
   ],
   "source": [
    "for abstract in grouped_glove.apply(lambda x: x.loc[x['label_glove_4_avg']==3, 'abstract']).head(2):\n",
    "    print(abstract+'\\n\\n')"
   ]
  },
  {
   "cell_type": "markdown",
   "metadata": {},
   "source": [
    "We still were able to find German documents, so this method would work better, but as we can see, sensitivity to length is still present for this reason we decided to not use gloVe with our clustering algorithm (KMeans).\n",
    "\n",
    "\n",
    "\n",
    "\n",
    "\n",
    "\n",
    "\n",
    "\n",
    "\n",
    "\n",
    "\n",
    "\n",
    "\n",
    "\n",
    "\n",
    "\n",
    "\n",
    "\n",
    "\n",
    "\n"
   ]
  }
 ],
 "metadata": {
  "kernelspec": {
   "display_name": "Python 3",
   "language": "python",
   "name": "python3"
  },
  "language_info": {
   "codemirror_mode": {
    "name": "ipython",
    "version": 3
   },
   "file_extension": ".py",
   "mimetype": "text/x-python",
   "name": "python",
   "nbconvert_exporter": "python",
   "pygments_lexer": "ipython3",
   "version": "3.6.3"
  }
 },
 "nbformat": 4,
 "nbformat_minor": 2
}
